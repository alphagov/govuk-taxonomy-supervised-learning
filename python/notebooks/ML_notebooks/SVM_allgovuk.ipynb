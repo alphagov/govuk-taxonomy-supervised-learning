{
 "cells": [
  {
   "cell_type": "markdown",
   "metadata": {},
   "source": [
    "## Support Vector Machine for tagging GOV.UK"
   ]
  },
  {
   "cell_type": "markdown",
   "metadata": {},
   "source": [
    "### Load requirements and data"
   ]
  },
  {
   "cell_type": "code",
   "execution_count": 26,
   "metadata": {},
   "outputs": [],
   "source": [
    "import pandas as pd\n",
    "import numpy as np\n",
    "import os\n",
    "from datetime import datetime\n",
    "from sklearn.metrics import classification_report\n",
    "from sklearn.model_selection import train_test_split\n",
    "from sklearn.feature_extraction.text import CountVectorizer, TfidfTransformer\n",
    "from sklearn.pipeline import Pipeline, FeatureUnion\n",
    "from sklearn.externals import joblib\n",
    "from sklearn.linear_model import SGDClassifier\n",
    "from sklearn.preprocessing import LabelEncoder"
   ]
  },
  {
   "cell_type": "code",
   "execution_count": 18,
   "metadata": {},
   "outputs": [
    {
     "name": "stdout",
     "output_type": "stream",
     "text": [
      "/Users/matthewupson/.pyenv/shims/python3\r\n"
     ]
    }
   ],
   "source": [
    "!which python3"
   ]
  },
  {
   "cell_type": "code",
   "execution_count": 3,
   "metadata": {},
   "outputs": [
    {
     "name": "stdout",
     "output_type": "stream",
     "text": [
      "CPU times: user 45.4 s, sys: 5.63 s, total: 51 s\n",
      "Wall time: 51.9 s\n"
     ]
    }
   ],
   "source": [
    "%time content = pd.read_csv('../../data/clean_content.csv.gz', compression='gzip')"
   ]
  },
  {
   "cell_type": "code",
   "execution_count": 4,
   "metadata": {},
   "outputs": [
    {
     "name": "stdout",
     "output_type": "stream",
     "text": [
      "CPU times: user 25.6 ms, sys: 9.53 ms, total: 35.1 ms\n",
      "Wall time: 36.7 ms\n"
     ]
    }
   ],
   "source": [
    "%time taxons = pd.read_csv('../../data/clean_taxons.csv')"
   ]
  },
  {
   "cell_type": "markdown",
   "metadata": {},
   "source": [
    "##  ------------- This data prep step should move to clean_content.py -------------\n",
    "\n",
    "Remove taxons that are legacy (Imported), World, Corporate information."
   ]
  },
  {
   "cell_type": "code",
   "execution_count": 5,
   "metadata": {},
   "outputs": [
    {
     "name": "stdout",
     "output_type": "stream",
     "text": [
      "Taxons shape after deleting imported top taxons: (4530, 7)\n",
      "Taxons shape after deleting 'World' top taxons: (2028, 7)\n",
      "Taxons shape after deleting 'corporate information' top taxons: (2027, 7)\n",
      "Taxons shape after converting nans to Nones: (2027, 7)\n"
     ]
    }
   ],
   "source": [
    "taxons = taxons[['base_path','content_id','taxon_name','level1taxon','level2taxon','level3taxon','level4taxon']]\n",
    "\n",
    "taxons['level1taxon'] = taxons['level1taxon'].astype('str')\n",
    "\n",
    "# Drop taxons that start with Imported (i.e. legacy taxons at the top level)\n",
    "\n",
    "taxons = taxons[~taxons['level1taxon'].str.startswith(\"Imported\")]\n",
    "taxons = taxons[~taxons['taxon_name'].str.startswith(\"Imported\")]\n",
    "\n",
    "print(\"Taxons shape after deleting imported top taxons: {}\".format(taxons.shape))\n",
    "\n",
    "taxons = taxons[taxons.level1taxon != 'World']\n",
    "taxons = taxons[taxons.taxon_name != 'World']\n",
    "\n",
    "print(\"Taxons shape after deleting 'World' top taxons: {}\".format(taxons.shape))\n",
    "\n",
    "taxons = taxons[taxons.level1taxon != 'Corporate information']\n",
    "taxons = taxons[taxons.taxon_name != 'Corporate information']\n",
    "print(\"Taxons shape after deleting 'corporate information' top taxons: {}\".format(taxons.shape))\n",
    "\n",
    "# Convert nans to None\n",
    "\n",
    "taxons['level1taxon'] = taxons['level1taxon'].where(taxons['level1taxon'] != 'nan', None)\n",
    "taxons['level2taxon'] = taxons['level2taxon'].where(~taxons['level2taxon'].isnull(), None)\n",
    "\n",
    "print(\"Taxons shape after converting nans to Nones: {}\".format(taxons.shape))"
   ]
  },
  {
   "cell_type": "markdown",
   "metadata": {},
   "source": [
    "Combine the taxons with the content "
   ]
  },
  {
   "cell_type": "code",
   "execution_count": 6,
   "metadata": {},
   "outputs": [
    {
     "name": "stdout",
     "output_type": "stream",
     "text": [
      "CPU times: user 973 ms, sys: 124 ms, total: 1.1 s\n",
      "Wall time: 1.11 s\n"
     ]
    },
    {
     "data": {
      "text/plain": [
       "(335720, 23)"
      ]
     },
     "execution_count": 6,
     "metadata": {},
     "output_type": "execute_result"
    }
   ],
   "source": [
    "%time content_taxons = pd.merge(left=content, right=taxons, left_on='taxon_id', right_on='content_id', how='outer', indicator=True)\n",
    "\n",
    "assert content_taxons.shape == (335720, 23)\n",
    "content_taxons.shape"
   ]
  },
  {
   "cell_type": "markdown",
   "metadata": {},
   "source": [
    "##  --------------------------------------------------"
   ]
  },
  {
   "cell_type": "code",
   "execution_count": 7,
   "metadata": {},
   "outputs": [
    {
     "name": "stdout",
     "output_type": "stream",
     "text": [
      "This leaves us with 68967 pre-classified rows.\n"
     ]
    }
   ],
   "source": [
    "content_taxons.dropna(subset = ['level2taxon'], inplace=True)\n",
    "print('This leaves us with {} pre-classified rows.'.format(content_taxons.shape[0]))"
   ]
  },
  {
   "cell_type": "markdown",
   "metadata": {},
   "source": [
    "There are likely to be lots of content items that have more than one tag. Check here and remove for now:\n",
    "\n",
    "__TODO: devise a way to deal with multiple tags applied to each content item.__"
   ]
  },
  {
   "cell_type": "code",
   "execution_count": 8,
   "metadata": {},
   "outputs": [
    {
     "data": {
      "text/html": [
       "<div>\n",
       "<style scoped>\n",
       "    .dataframe tbody tr th:only-of-type {\n",
       "        vertical-align: middle;\n",
       "    }\n",
       "\n",
       "    .dataframe tbody tr th {\n",
       "        vertical-align: top;\n",
       "    }\n",
       "\n",
       "    .dataframe thead th {\n",
       "        text-align: right;\n",
       "    }\n",
       "</style>\n",
       "<table border=\"1\" class=\"dataframe\">\n",
       "  <thead>\n",
       "    <tr style=\"text-align: right;\">\n",
       "      <th></th>\n",
       "      <th>dupes</th>\n",
       "      <th>count</th>\n",
       "    </tr>\n",
       "  </thead>\n",
       "  <tbody>\n",
       "    <tr>\n",
       "      <th>0</th>\n",
       "      <td>1</td>\n",
       "      <td>43212</td>\n",
       "    </tr>\n",
       "    <tr>\n",
       "      <th>1</th>\n",
       "      <td>2</td>\n",
       "      <td>8871</td>\n",
       "    </tr>\n",
       "    <tr>\n",
       "      <th>2</th>\n",
       "      <td>3</td>\n",
       "      <td>1614</td>\n",
       "    </tr>\n",
       "    <tr>\n",
       "      <th>3</th>\n",
       "      <td>4</td>\n",
       "      <td>447</td>\n",
       "    </tr>\n",
       "    <tr>\n",
       "      <th>4</th>\n",
       "      <td>5</td>\n",
       "      <td>79</td>\n",
       "    </tr>\n",
       "    <tr>\n",
       "      <th>5</th>\n",
       "      <td>6</td>\n",
       "      <td>43</td>\n",
       "    </tr>\n",
       "    <tr>\n",
       "      <th>6</th>\n",
       "      <td>7</td>\n",
       "      <td>8</td>\n",
       "    </tr>\n",
       "    <tr>\n",
       "      <th>7</th>\n",
       "      <td>8</td>\n",
       "      <td>10</td>\n",
       "    </tr>\n",
       "    <tr>\n",
       "      <th>8</th>\n",
       "      <td>9</td>\n",
       "      <td>2</td>\n",
       "    </tr>\n",
       "    <tr>\n",
       "      <th>9</th>\n",
       "      <td>10</td>\n",
       "      <td>5</td>\n",
       "    </tr>\n",
       "    <tr>\n",
       "      <th>10</th>\n",
       "      <td>11</td>\n",
       "      <td>33</td>\n",
       "    </tr>\n",
       "    <tr>\n",
       "      <th>11</th>\n",
       "      <td>12</td>\n",
       "      <td>1</td>\n",
       "    </tr>\n",
       "    <tr>\n",
       "      <th>12</th>\n",
       "      <td>13</td>\n",
       "      <td>2</td>\n",
       "    </tr>\n",
       "    <tr>\n",
       "      <th>13</th>\n",
       "      <td>14</td>\n",
       "      <td>1</td>\n",
       "    </tr>\n",
       "    <tr>\n",
       "      <th>14</th>\n",
       "      <td>15</td>\n",
       "      <td>1</td>\n",
       "    </tr>\n",
       "    <tr>\n",
       "      <th>15</th>\n",
       "      <td>16</td>\n",
       "      <td>1</td>\n",
       "    </tr>\n",
       "  </tbody>\n",
       "</table>\n",
       "</div>"
      ],
      "text/plain": [
       "    dupes  count\n",
       "0       1  43212\n",
       "1       2   8871\n",
       "2       3   1614\n",
       "3       4    447\n",
       "4       5     79\n",
       "5       6     43\n",
       "6       7      8\n",
       "7       8     10\n",
       "8       9      2\n",
       "9      10      5\n",
       "10     11     33\n",
       "11     12      1\n",
       "12     13      2\n",
       "13     14      1\n",
       "14     15      1\n",
       "15     16      1"
      ]
     },
     "execution_count": 8,
     "metadata": {},
     "output_type": "execute_result"
    }
   ],
   "source": [
    "# Identify where duplicates exist on content_id and count\n",
    "\n",
    "dupes = content_taxons['content_id_x'].value_counts().to_frame('dupes')\n",
    "dupes = dupes.groupby('dupes').size().to_frame('count')\n",
    "\n",
    "# Add index as a column\n",
    "\n",
    "dupes.reset_index(level=0, inplace=True)\n",
    "dupes\n"
   ]
  },
  {
   "cell_type": "code",
   "execution_count": 9,
   "metadata": {},
   "outputs": [
    {
     "name": "stdout",
     "output_type": "stream",
     "text": [
      "Stripping multiply applied tags to one will leave a total of 54330 tagged content items to train on\n"
     ]
    }
   ],
   "source": [
    "multiple_tags = sum(dupes.loc[dupes['dupes'] > 1, 'count'])\n",
    "single_tags = sum(dupes.loc[dupes['dupes'] == 1, 'count'])\n",
    "\n",
    "print('Stripping multiply applied tags to one will '\n",
    "      'leave a total of {} tagged content items to train on'\n",
    "      .format(multiple_tags + single_tags))"
   ]
  },
  {
   "cell_type": "code",
   "execution_count": 10,
   "metadata": {},
   "outputs": [
    {
     "name": "stdout",
     "output_type": "stream",
     "text": [
      "Before deduplication that are (68967, 23) items.\n",
      "After deduplication that are (54331, 23) items.\n"
     ]
    }
   ],
   "source": [
    "print('Before deduplication that are {} items.'.format(content_taxons.shape))\n",
    "      \n",
    "content_taxons.drop_duplicates(subset = ['content_id_x'], inplace=True)\n",
    "      \n",
    "print('After deduplication that are {} items.'.format(content_taxons.shape))\n"
   ]
  },
  {
   "cell_type": "code",
   "execution_count": 11,
   "metadata": {},
   "outputs": [],
   "source": [
    "content_taxons['level2taxoncat'] = content_taxons['level2taxon'].astype('category')"
   ]
  },
  {
   "cell_type": "markdown",
   "metadata": {},
   "source": [
    "format our text samples and labels into tensors that can be fed into a neural network. To do this, we will rely on Keras utilities keras.preprocessing.text.Tokenizer and keras.preprocessing.sequence.pad_sequences."
   ]
  },
  {
   "cell_type": "code",
   "execution_count": 12,
   "metadata": {},
   "outputs": [],
   "source": [
    "content_taxons.drop(335627, axis=0, inplace=True)"
   ]
  },
  {
   "cell_type": "code",
   "execution_count": 30,
   "metadata": {},
   "outputs": [],
   "source": [
    "X_train, X_test, y_train, y_test = train_test_split(\n",
    "    content_taxons['combined_text'], content_taxons['level2taxoncat'], test_size = 0.2, random_state=1337)"
   ]
  },
  {
   "cell_type": "code",
   "execution_count": 14,
   "metadata": {},
   "outputs": [],
   "source": [
    "\"\"\" Support Vector Machine (SVM) classifier\"\"\"\n",
    "svm_clf = Pipeline([('vect', CountVectorizer()),\n",
    "                    ('tfidf', TfidfTransformer()),\n",
    "                    ('clf', SGDClassifier(loss='hinge', penalty='l2', alpha=1e-3, max_iter = 5, random_state=42)),\n",
    "])"
   ]
  },
  {
   "cell_type": "code",
   "execution_count": 31,
   "metadata": {},
   "outputs": [
    {
     "data": {
      "text/plain": [
       "Pipeline(memory=None,\n",
       "     steps=[('vect', CountVectorizer(analyzer='word', binary=False, decode_error='strict',\n",
       "        dtype=<class 'numpy.int64'>, encoding='utf-8', input='content',\n",
       "        lowercase=True, max_df=1.0, max_features=None, min_df=1,\n",
       "        ngram_range=(1, 1), preprocessor=None, stop_words=None,\n",
       "        strip...ty='l2', power_t=0.5, random_state=42, shuffle=True,\n",
       "       tol=None, verbose=0, warm_start=False))])"
      ]
     },
     "execution_count": 31,
     "metadata": {},
     "output_type": "execute_result"
    }
   ],
   "source": [
    "svm_clf.fit(X_train, y_train)"
   ]
  },
  {
   "cell_type": "code",
   "execution_count": 16,
   "metadata": {},
   "outputs": [],
   "source": [
    "#joblib.dump(svm_clf, \"svm_allgovuk.pkl\", compress=9)"
   ]
  },
  {
   "cell_type": "code",
   "execution_count": 32,
   "metadata": {},
   "outputs": [
    {
     "name": "stdout",
     "output_type": "stream",
     "text": [
      "SVM correct prediction: 0.77\n"
     ]
    }
   ],
   "source": [
    "\"\"\" Predict the test dataset using SVM\"\"\"\n",
    "predicted_svm = svm_clf.predict(X_test)\n",
    "print('SVM correct prediction: {:4.2f}'.format(np.mean(predicted_svm == y_test)))"
   ]
  },
  {
   "cell_type": "code",
   "execution_count": 33,
   "metadata": {},
   "outputs": [
    {
     "name": "stdout",
     "output_type": "stream",
     "text": [
      "                                                                        precision    recall  f1-score   support\n",
      "\n",
      "                                     Adoption, fostering and surrogacy       0.88      0.64      0.74        11\n",
      "                                                      Arts and culture       0.86      0.81      0.83       136\n",
      "                                                                Asylum       0.67      0.40      0.50         5\n",
      "                                                              Aviation       0.91      0.78      0.84        50\n",
      "                                                     Brexit and the EU       1.00      0.20      0.33         5\n",
      "                                            British nationals overseas       0.78      0.88      0.83        43\n",
      "                                               Business and enterprise       0.77      0.76      0.76       570\n",
      "                                          Business and the environment       0.85      0.50      0.63       264\n",
      "                                                          Business tax       0.73      0.57      0.64       289\n",
      "                                                         Child Benefit       0.58      0.73      0.65        15\n",
      "                                             Childcare and early years       0.67      0.17      0.28        23\n",
      "                                         Children's health and welfare       0.25      0.33      0.29         3\n",
      "                                             Climate change and energy       0.71      0.89      0.79       626\n",
      "                                      Commercial fishing and fisheries       0.83      0.41      0.55        49\n",
      "                                                 Community and society       0.81      0.73      0.77       146\n",
      "                                            Consumer rights and issues       0.78      0.57      0.66        88\n",
      "                                                Content and publishing       0.00      0.00      0.00         2\n",
      "                                                     Dealing with HMRC       0.69      0.61      0.65       280\n",
      "                                                 Death and bereavement       0.00      0.00      0.00         0\n",
      "                                                       Disabled people       0.00      0.00      0.00         7\n",
      "                                  Divorce, separation and legal issues       0.00      0.00      0.00         4\n",
      "                                            Driving and road transport       0.85      0.82      0.83       217\n",
      "                                                      Employing people       0.40      0.12      0.18        17\n",
      "                                                 Environmental permits       0.67      0.40      0.50         5\n",
      "                                                 Environmental quality       0.00      0.00      0.00         2\n",
      "                                         Environmental risk management       0.00      0.00      0.00         0\n",
      "                                      Equality, rights and citizenship       0.78      0.52      0.62        60\n",
      "                                   Financial help if you have children       0.67      0.57      0.62         7\n",
      "                                                    Financial services       0.85      0.61      0.71        36\n",
      "                                           Flooding and coastal change       0.50      0.33      0.40         6\n",
      "                                                      Food and farming       0.82      0.75      0.79       175\n",
      "                                                       Foreign affairs       0.74      0.98      0.84       966\n",
      "                                                     Freight and cargo       0.77      0.43      0.56        23\n",
      "                                      Funding and finance for students       0.86      0.35      0.50        17\n",
      "          Further and higher education, skills and vocational training       0.78      0.81      0.79       264\n",
      "                                                     Health protection       0.91      0.76      0.83        38\n",
      "                                                               Housing       0.84      0.63      0.72       371\n",
      "                                         Housing planning and building       0.71      0.89      0.79       475\n",
      "                                     Immigration rules and enforcement       1.00      0.27      0.43        11\n",
      "                    Inspections and performance of education providers       0.83      0.71      0.77       234\n",
      "                                     International aid and development       0.85      0.88      0.86       468\n",
      "                                                       Land management       0.00      0.00      0.00         5\n",
      "                                                     Land registration       1.00      0.95      0.97        20\n",
      "                                                      Law and practice       0.00      0.00      0.00         4\n",
      "                                                             Legal aid       0.92      0.77      0.84        31\n",
      "                                                      Local government       0.60      0.17      0.26        18\n",
      "                                                       Local transport       0.94      0.60      0.73        25\n",
      "                                                                Marine       0.79      0.95      0.86       156\n",
      "                                                              Maritime       0.90      0.93      0.91       262\n",
      "                               Marriage, civil partnership and divorce       0.00      0.00      0.00         6\n",
      "                                              Media and communications       0.78      0.73      0.75       171\n",
      "            Medicines, medical devices and blood regulation and safety       0.00      0.00      0.00         8\n",
      "                          Military equipment, logistics and technology       0.00      0.00      0.00         2\n",
      "                         Military recruitment, training and operations       0.50      0.25      0.33         4\n",
      "                                            Ministry of Defence estate       0.00      0.00      0.00         4\n",
      "                                          Money laundering regulations       0.00      0.00      0.00         5\n",
      "                                               National Health Service       0.72      0.78      0.75       132\n",
      "                                                      Northern Ireland       0.80      0.91      0.85       141\n",
      "                                                           Oil and gas       1.00      0.17      0.29        12\n",
      "                                                             Passports       0.50      0.50      0.50         2\n",
      "                  Passports and travel documents for foreign nationals       0.00      0.00      0.00         2\n",
      "                                           Pensions and ageing society       0.81      0.94      0.87        88\n",
      "                                              Permanent stay in the UK       0.67      0.22      0.33         9\n",
      "                                                          Personal tax       0.73      0.67      0.70       204\n",
      "                                       Population screening programmes       0.57      0.89      0.70         9\n",
      "                                                   Pregnancy and birth       0.00      0.00      0.00         1\n",
      "                                                 Prisons and probation       1.00      1.00      1.00         1\n",
      "                                                         Public health       0.83      0.74      0.78       144\n",
      "                             Pupil wellbeing, behaviour and attendance       0.81      0.57      0.67        37\n",
      "                                                                  Rail       0.85      0.97      0.91       249\n",
      "                                                     Regulation reform       0.00      0.00      0.00         7\n",
      "                                                   Road infrastructure       0.92      0.79      0.85       120\n",
      "                                         Running and managing a school       0.69      0.78      0.73       160\n",
      "                                                 Rural and countryside       0.79      0.73      0.76       229\n",
      "                             Safeguarding and social care for children       0.75      0.66      0.70        77\n",
      "                 School and academy financial management and assurance       1.00      0.40      0.57        20\n",
      "                                            School and academy funding       0.88      0.43      0.58        81\n",
      "                                                     School curriculum       0.72      0.94      0.82       313\n",
      "                                                Science and innovation       0.78      0.69      0.73       253\n",
      "                                                              Scotland       0.79      0.90      0.84        63\n",
      "                      Screening and quality assurance (all programmes)       0.00      0.00      0.00         4\n",
      "                                                       Self-employment       0.00      0.00      0.00         8\n",
      "                                                           Social care       0.69      0.41      0.52        83\n",
      "        Special educational needs and disability (SEND) and high needs       0.67      0.33      0.44        18\n",
      "                                                    Sports and leisure       0.76      0.91      0.83       140\n",
      "                                         Starting and attending school       0.00      0.00      0.00         8\n",
      "Support services for military and defence personnel and their families       0.00      0.00      0.00         9\n",
      "                      Support services for veterans and their families       0.00      0.00      0.00         0\n",
      "                                                           Tax credits       0.00      0.00      0.00         0\n",
      "                                               Teaching and leadership       0.86      0.88      0.87       209\n",
      "                                                  Trade and investment       0.74      0.89      0.81       605\n",
      "                                  Transport accessibility and mobility       1.00      0.44      0.61        16\n",
      "                                  Transport corporate and transparency       0.74      0.94      0.83        36\n",
      "                                                  Transport statistics       0.86      0.90      0.88       186\n",
      "                                                            UK economy       0.90      0.26      0.40       148\n",
      "                                                                 Visas       0.73      0.67      0.70        12\n",
      "                                                                 Wales       0.74      0.68      0.71        73\n",
      "                                                   Waste and recycling       0.80      0.74      0.77       138\n",
      "                                                        Water industry       0.00      0.00      0.00         2\n",
      "                                           Wildlife and animal welfare       0.68      0.50      0.58        68\n",
      "                                            Working, jobs and pensions       0.29      0.10      0.15        20\n",
      "\n",
      "                                                           avg / total       0.78      0.77      0.76     10866\n",
      "\n"
     ]
    },
    {
     "name": "stderr",
     "output_type": "stream",
     "text": [
      "/Users/matthewupson/.pyenv/versions/3.4.6/lib/python3.4/site-packages/sklearn/metrics/classification.py:1135: UndefinedMetricWarning: Precision and F-score are ill-defined and being set to 0.0 in labels with no predicted samples.\n",
      "  'precision', 'predicted', average, warn_for)\n",
      "/Users/matthewupson/.pyenv/versions/3.4.6/lib/python3.4/site-packages/sklearn/metrics/classification.py:1137: UndefinedMetricWarning: Recall and F-score are ill-defined and being set to 0.0 in labels with no true samples.\n",
      "  'recall', 'true', average, warn_for)\n"
     ]
    }
   ],
   "source": [
    "print(classification_report(y_test, predicted_svm))"
   ]
  },
  {
   "cell_type": "markdown",
   "metadata": {},
   "source": [
    "## Metadata classifier"
   ]
  },
  {
   "cell_type": "code",
   "execution_count": 23,
   "metadata": {},
   "outputs": [
    {
     "data": {
      "text/plain": [
       "Index(['Unnamed: 0', 'base_path', 'content_id', 'description', 'details',\n",
       "       'document_type', 'first_published_at', 'locale',\n",
       "       'primary_publishing_organisation', 'publishing_app', 'title', 'body',\n",
       "       'combined_text', 'variable', 'taxon_id'],\n",
       "      dtype='object')"
      ]
     },
     "execution_count": 23,
     "metadata": {},
     "output_type": "execute_result"
    }
   ],
   "source": [
    "content.columns"
   ]
  },
  {
   "cell_type": "code",
   "execution_count": 29,
   "metadata": {},
   "outputs": [
    {
     "data": {
      "text/html": [
       "<div>\n",
       "<style scoped>\n",
       "    .dataframe tbody tr th:only-of-type {\n",
       "        vertical-align: middle;\n",
       "    }\n",
       "\n",
       "    .dataframe tbody tr th {\n",
       "        vertical-align: top;\n",
       "    }\n",
       "\n",
       "    .dataframe thead th {\n",
       "        text-align: right;\n",
       "    }\n",
       "</style>\n",
       "<table border=\"1\" class=\"dataframe\">\n",
       "  <thead>\n",
       "    <tr style=\"text-align: right;\">\n",
       "      <th></th>\n",
       "      <th>Unnamed: 0</th>\n",
       "      <th>base_path_x</th>\n",
       "      <th>content_id_x</th>\n",
       "      <th>description</th>\n",
       "      <th>details</th>\n",
       "      <th>document_type</th>\n",
       "      <th>first_published_at</th>\n",
       "      <th>locale</th>\n",
       "      <th>primary_publishing_organisation</th>\n",
       "      <th>publishing_app</th>\n",
       "      <th>...</th>\n",
       "      <th>taxon_id</th>\n",
       "      <th>base_path_y</th>\n",
       "      <th>content_id_y</th>\n",
       "      <th>taxon_name</th>\n",
       "      <th>level1taxon</th>\n",
       "      <th>level2taxon</th>\n",
       "      <th>level3taxon</th>\n",
       "      <th>level4taxon</th>\n",
       "      <th>_merge</th>\n",
       "      <th>level2taxoncat</th>\n",
       "    </tr>\n",
       "  </thead>\n",
       "  <tbody>\n",
       "    <tr>\n",
       "      <th>5</th>\n",
       "      <td>1.0</td>\n",
       "      <td>/student-finance-register-login</td>\n",
       "      <td>e57daef4-5eb5-431c-b0ad-14119ab0355f</td>\n",
       "      <td>your student finance online account - check pa...</td>\n",
       "      <td>{'will_continue_on': 'the Student Finance Engl...</td>\n",
       "      <td>transaction</td>\n",
       "      <td>2016-02-29T09:24:10.000+00:00</td>\n",
       "      <td>en</td>\n",
       "      <td>NaN</td>\n",
       "      <td>publisher</td>\n",
       "      <td>...</td>\n",
       "      <td>64aa6eec-48b5-481d-9131-9c8b6326eea1</td>\n",
       "      <td>/education/student-grants-bursaries-scholarships</td>\n",
       "      <td>64aa6eec-48b5-481d-9131-9c8b6326eea1</td>\n",
       "      <td>Student grants, bursaries and scholarships</td>\n",
       "      <td>Education, training and skills</td>\n",
       "      <td>Funding and finance for students</td>\n",
       "      <td>NaN</td>\n",
       "      <td>NaN</td>\n",
       "      <td>both</td>\n",
       "      <td>Funding and finance for students</td>\n",
       "    </tr>\n",
       "    <tr>\n",
       "      <th>6</th>\n",
       "      <td>32.0</td>\n",
       "      <td>/student-finance</td>\n",
       "      <td>d38bafd3-2c46-4be2-b50b-50c2ba7d30ed</td>\n",
       "      <td>student finance - student loans or student gra...</td>\n",
       "      <td>{'external_related_links': [{'title': 'Student...</td>\n",
       "      <td>guide</td>\n",
       "      <td>2016-02-29T09:24:10.000+00:00</td>\n",
       "      <td>en</td>\n",
       "      <td>NaN</td>\n",
       "      <td>publisher</td>\n",
       "      <td>...</td>\n",
       "      <td>64aa6eec-48b5-481d-9131-9c8b6326eea1</td>\n",
       "      <td>/education/student-grants-bursaries-scholarships</td>\n",
       "      <td>64aa6eec-48b5-481d-9131-9c8b6326eea1</td>\n",
       "      <td>Student grants, bursaries and scholarships</td>\n",
       "      <td>Education, training and skills</td>\n",
       "      <td>Funding and finance for students</td>\n",
       "      <td>NaN</td>\n",
       "      <td>NaN</td>\n",
       "      <td>both</td>\n",
       "      <td>Funding and finance for students</td>\n",
       "    </tr>\n",
       "    <tr>\n",
       "      <th>7</th>\n",
       "      <td>35.0</td>\n",
       "      <td>/contact-student-finance-england</td>\n",
       "      <td>d490be5f-1998-4f20-ab52-d3dd5db7fa71</td>\n",
       "      <td>contact details for student finance england - ...</td>\n",
       "      <td>{'body': '\\n&lt;div class=\"summary\"&gt;\\n&lt;p&gt;Contact ...</td>\n",
       "      <td>answer</td>\n",
       "      <td>2016-02-29T09:24:10.000+00:00</td>\n",
       "      <td>en</td>\n",
       "      <td>NaN</td>\n",
       "      <td>publisher</td>\n",
       "      <td>...</td>\n",
       "      <td>64aa6eec-48b5-481d-9131-9c8b6326eea1</td>\n",
       "      <td>/education/student-grants-bursaries-scholarships</td>\n",
       "      <td>64aa6eec-48b5-481d-9131-9c8b6326eea1</td>\n",
       "      <td>Student grants, bursaries and scholarships</td>\n",
       "      <td>Education, training and skills</td>\n",
       "      <td>Funding and finance for students</td>\n",
       "      <td>NaN</td>\n",
       "      <td>NaN</td>\n",
       "      <td>both</td>\n",
       "      <td>Funding and finance for students</td>\n",
       "    </tr>\n",
       "    <tr>\n",
       "      <th>8</th>\n",
       "      <td>129.0</td>\n",
       "      <td>/student-finance-calculator</td>\n",
       "      <td>434b6eb5-33c8-4300-aba3-f5ead58600b8</td>\n",
       "      <td>student finance calculator - get a quick estim...</td>\n",
       "      <td>{'start_button_text': 'Start now', 'transactio...</td>\n",
       "      <td>transaction</td>\n",
       "      <td>2016-02-29T09:24:10.000+00:00</td>\n",
       "      <td>en</td>\n",
       "      <td>NaN</td>\n",
       "      <td>smartanswers</td>\n",
       "      <td>...</td>\n",
       "      <td>64aa6eec-48b5-481d-9131-9c8b6326eea1</td>\n",
       "      <td>/education/student-grants-bursaries-scholarships</td>\n",
       "      <td>64aa6eec-48b5-481d-9131-9c8b6326eea1</td>\n",
       "      <td>Student grants, bursaries and scholarships</td>\n",
       "      <td>Education, training and skills</td>\n",
       "      <td>Funding and finance for students</td>\n",
       "      <td>NaN</td>\n",
       "      <td>NaN</td>\n",
       "      <td>both</td>\n",
       "      <td>Funding and finance for students</td>\n",
       "    </tr>\n",
       "    <tr>\n",
       "      <th>9</th>\n",
       "      <td>133.0</td>\n",
       "      <td>/apply-online-for-student-finance</td>\n",
       "      <td>83155b50-418e-437c-9389-cf0e1302900f</td>\n",
       "      <td>apply online for student finance - online appl...</td>\n",
       "      <td>{'will_continue_on': 'the Student Finance Engl...</td>\n",
       "      <td>transaction</td>\n",
       "      <td>2016-02-29T09:24:10.000+00:00</td>\n",
       "      <td>en</td>\n",
       "      <td>NaN</td>\n",
       "      <td>publisher</td>\n",
       "      <td>...</td>\n",
       "      <td>64aa6eec-48b5-481d-9131-9c8b6326eea1</td>\n",
       "      <td>/education/student-grants-bursaries-scholarships</td>\n",
       "      <td>64aa6eec-48b5-481d-9131-9c8b6326eea1</td>\n",
       "      <td>Student grants, bursaries and scholarships</td>\n",
       "      <td>Education, training and skills</td>\n",
       "      <td>Funding and finance for students</td>\n",
       "      <td>NaN</td>\n",
       "      <td>NaN</td>\n",
       "      <td>both</td>\n",
       "      <td>Funding and finance for students</td>\n",
       "    </tr>\n",
       "  </tbody>\n",
       "</table>\n",
       "<p>5 rows × 24 columns</p>\n",
       "</div>"
      ],
      "text/plain": [
       "   Unnamed: 0                        base_path_x  \\\n",
       "5         1.0    /student-finance-register-login   \n",
       "6        32.0                   /student-finance   \n",
       "7        35.0   /contact-student-finance-england   \n",
       "8       129.0        /student-finance-calculator   \n",
       "9       133.0  /apply-online-for-student-finance   \n",
       "\n",
       "                           content_id_x  \\\n",
       "5  e57daef4-5eb5-431c-b0ad-14119ab0355f   \n",
       "6  d38bafd3-2c46-4be2-b50b-50c2ba7d30ed   \n",
       "7  d490be5f-1998-4f20-ab52-d3dd5db7fa71   \n",
       "8  434b6eb5-33c8-4300-aba3-f5ead58600b8   \n",
       "9  83155b50-418e-437c-9389-cf0e1302900f   \n",
       "\n",
       "                                         description  \\\n",
       "5  your student finance online account - check pa...   \n",
       "6  student finance - student loans or student gra...   \n",
       "7  contact details for student finance england - ...   \n",
       "8  student finance calculator - get a quick estim...   \n",
       "9  apply online for student finance - online appl...   \n",
       "\n",
       "                                             details document_type  \\\n",
       "5  {'will_continue_on': 'the Student Finance Engl...   transaction   \n",
       "6  {'external_related_links': [{'title': 'Student...         guide   \n",
       "7  {'body': '\\n<div class=\"summary\">\\n<p>Contact ...        answer   \n",
       "8  {'start_button_text': 'Start now', 'transactio...   transaction   \n",
       "9  {'will_continue_on': 'the Student Finance Engl...   transaction   \n",
       "\n",
       "              first_published_at locale primary_publishing_organisation  \\\n",
       "5  2016-02-29T09:24:10.000+00:00     en                             NaN   \n",
       "6  2016-02-29T09:24:10.000+00:00     en                             NaN   \n",
       "7  2016-02-29T09:24:10.000+00:00     en                             NaN   \n",
       "8  2016-02-29T09:24:10.000+00:00     en                             NaN   \n",
       "9  2016-02-29T09:24:10.000+00:00     en                             NaN   \n",
       "\n",
       "  publishing_app                ...                 \\\n",
       "5      publisher                ...                  \n",
       "6      publisher                ...                  \n",
       "7      publisher                ...                  \n",
       "8   smartanswers                ...                  \n",
       "9      publisher                ...                  \n",
       "\n",
       "                               taxon_id  \\\n",
       "5  64aa6eec-48b5-481d-9131-9c8b6326eea1   \n",
       "6  64aa6eec-48b5-481d-9131-9c8b6326eea1   \n",
       "7  64aa6eec-48b5-481d-9131-9c8b6326eea1   \n",
       "8  64aa6eec-48b5-481d-9131-9c8b6326eea1   \n",
       "9  64aa6eec-48b5-481d-9131-9c8b6326eea1   \n",
       "\n",
       "                                        base_path_y  \\\n",
       "5  /education/student-grants-bursaries-scholarships   \n",
       "6  /education/student-grants-bursaries-scholarships   \n",
       "7  /education/student-grants-bursaries-scholarships   \n",
       "8  /education/student-grants-bursaries-scholarships   \n",
       "9  /education/student-grants-bursaries-scholarships   \n",
       "\n",
       "                           content_id_y  \\\n",
       "5  64aa6eec-48b5-481d-9131-9c8b6326eea1   \n",
       "6  64aa6eec-48b5-481d-9131-9c8b6326eea1   \n",
       "7  64aa6eec-48b5-481d-9131-9c8b6326eea1   \n",
       "8  64aa6eec-48b5-481d-9131-9c8b6326eea1   \n",
       "9  64aa6eec-48b5-481d-9131-9c8b6326eea1   \n",
       "\n",
       "                                   taxon_name                     level1taxon  \\\n",
       "5  Student grants, bursaries and scholarships  Education, training and skills   \n",
       "6  Student grants, bursaries and scholarships  Education, training and skills   \n",
       "7  Student grants, bursaries and scholarships  Education, training and skills   \n",
       "8  Student grants, bursaries and scholarships  Education, training and skills   \n",
       "9  Student grants, bursaries and scholarships  Education, training and skills   \n",
       "\n",
       "                        level2taxon level3taxon level4taxon _merge  \\\n",
       "5  Funding and finance for students         NaN         NaN   both   \n",
       "6  Funding and finance for students         NaN         NaN   both   \n",
       "7  Funding and finance for students         NaN         NaN   both   \n",
       "8  Funding and finance for students         NaN         NaN   both   \n",
       "9  Funding and finance for students         NaN         NaN   both   \n",
       "\n",
       "                     level2taxoncat  \n",
       "5  Funding and finance for students  \n",
       "6  Funding and finance for students  \n",
       "7  Funding and finance for students  \n",
       "8  Funding and finance for students  \n",
       "9  Funding and finance for students  \n",
       "\n",
       "[5 rows x 24 columns]"
      ]
     },
     "execution_count": 29,
     "metadata": {},
     "output_type": "execute_result"
    }
   ],
   "source": [
    "content_taxons.head()"
   ]
  },
  {
   "cell_type": "code",
   "execution_count": 25,
   "metadata": {},
   "outputs": [],
   "source": [
    "metadata = content_taxons.filter(['document_type', 'primary_publishing organisation', 'publishing_app','description','title'], axis=1)"
   ]
  },
  {
   "cell_type": "code",
   "execution_count": 28,
   "metadata": {},
   "outputs": [
    {
     "ename": "ValueError",
     "evalue": "bad input shape ()",
     "output_type": "error",
     "traceback": [
      "\u001b[0;31m---------------------------------------------------------------------------\u001b[0m",
      "\u001b[0;31mValueError\u001b[0m                                Traceback (most recent call last)",
      "\u001b[0;32m<ipython-input-28-93e76048bf26>\u001b[0m in \u001b[0;36m<module>\u001b[0;34m()\u001b[0m\n\u001b[1;32m      6\u001b[0m ])\n\u001b[1;32m      7\u001b[0m \u001b[0;34m\u001b[0m\u001b[0m\n\u001b[0;32m----> 8\u001b[0;31m \u001b[0mmetadata_text_clf\u001b[0m\u001b[0;34m.\u001b[0m\u001b[0mfit\u001b[0m\u001b[0;34m(\u001b[0m\u001b[0mcontent\u001b[0m\u001b[0;34m[\u001b[0m\u001b[0;34m'description'\u001b[0m\u001b[0;34m]\u001b[0m\u001b[0;34m)\u001b[0m\u001b[0;34m\u001b[0m\u001b[0m\n\u001b[0m",
      "\u001b[0;32m~/.pyenv/versions/3.4.6/lib/python3.4/site-packages/sklearn/pipeline.py\u001b[0m in \u001b[0;36mfit\u001b[0;34m(self, X, y, **fit_params)\u001b[0m\n\u001b[1;32m    248\u001b[0m         \u001b[0mXt\u001b[0m\u001b[0;34m,\u001b[0m \u001b[0mfit_params\u001b[0m \u001b[0;34m=\u001b[0m \u001b[0mself\u001b[0m\u001b[0;34m.\u001b[0m\u001b[0m_fit\u001b[0m\u001b[0;34m(\u001b[0m\u001b[0mX\u001b[0m\u001b[0;34m,\u001b[0m \u001b[0my\u001b[0m\u001b[0;34m,\u001b[0m \u001b[0;34m**\u001b[0m\u001b[0mfit_params\u001b[0m\u001b[0;34m)\u001b[0m\u001b[0;34m\u001b[0m\u001b[0m\n\u001b[1;32m    249\u001b[0m         \u001b[0;32mif\u001b[0m \u001b[0mself\u001b[0m\u001b[0;34m.\u001b[0m\u001b[0m_final_estimator\u001b[0m \u001b[0;32mis\u001b[0m \u001b[0;32mnot\u001b[0m \u001b[0;32mNone\u001b[0m\u001b[0;34m:\u001b[0m\u001b[0;34m\u001b[0m\u001b[0m\n\u001b[0;32m--> 250\u001b[0;31m             \u001b[0mself\u001b[0m\u001b[0;34m.\u001b[0m\u001b[0m_final_estimator\u001b[0m\u001b[0;34m.\u001b[0m\u001b[0mfit\u001b[0m\u001b[0;34m(\u001b[0m\u001b[0mXt\u001b[0m\u001b[0;34m,\u001b[0m \u001b[0my\u001b[0m\u001b[0;34m,\u001b[0m \u001b[0;34m**\u001b[0m\u001b[0mfit_params\u001b[0m\u001b[0;34m)\u001b[0m\u001b[0;34m\u001b[0m\u001b[0m\n\u001b[0m\u001b[1;32m    251\u001b[0m         \u001b[0;32mreturn\u001b[0m \u001b[0mself\u001b[0m\u001b[0;34m\u001b[0m\u001b[0m\n\u001b[1;32m    252\u001b[0m \u001b[0;34m\u001b[0m\u001b[0m\n",
      "\u001b[0;32m~/.pyenv/versions/3.4.6/lib/python3.4/site-packages/sklearn/linear_model/stochastic_gradient.py\u001b[0m in \u001b[0;36mfit\u001b[0;34m(self, X, y, coef_init, intercept_init, sample_weight)\u001b[0m\n\u001b[1;32m    584\u001b[0m                          \u001b[0mloss\u001b[0m\u001b[0;34m=\u001b[0m\u001b[0mself\u001b[0m\u001b[0;34m.\u001b[0m\u001b[0mloss\u001b[0m\u001b[0;34m,\u001b[0m \u001b[0mlearning_rate\u001b[0m\u001b[0;34m=\u001b[0m\u001b[0mself\u001b[0m\u001b[0;34m.\u001b[0m\u001b[0mlearning_rate\u001b[0m\u001b[0;34m,\u001b[0m\u001b[0;34m\u001b[0m\u001b[0m\n\u001b[1;32m    585\u001b[0m                          \u001b[0mcoef_init\u001b[0m\u001b[0;34m=\u001b[0m\u001b[0mcoef_init\u001b[0m\u001b[0;34m,\u001b[0m \u001b[0mintercept_init\u001b[0m\u001b[0;34m=\u001b[0m\u001b[0mintercept_init\u001b[0m\u001b[0;34m,\u001b[0m\u001b[0;34m\u001b[0m\u001b[0m\n\u001b[0;32m--> 586\u001b[0;31m                          sample_weight=sample_weight)\n\u001b[0m\u001b[1;32m    587\u001b[0m \u001b[0;34m\u001b[0m\u001b[0m\n\u001b[1;32m    588\u001b[0m \u001b[0;34m\u001b[0m\u001b[0m\n",
      "\u001b[0;32m~/.pyenv/versions/3.4.6/lib/python3.4/site-packages/sklearn/linear_model/stochastic_gradient.py\u001b[0m in \u001b[0;36m_fit\u001b[0;34m(self, X, y, alpha, C, loss, learning_rate, coef_init, intercept_init, sample_weight)\u001b[0m\n\u001b[1;32m    416\u001b[0m             \u001b[0mself\u001b[0m\u001b[0;34m.\u001b[0m\u001b[0mclasses_\u001b[0m \u001b[0;34m=\u001b[0m \u001b[0;32mNone\u001b[0m\u001b[0;34m\u001b[0m\u001b[0m\n\u001b[1;32m    417\u001b[0m \u001b[0;34m\u001b[0m\u001b[0m\n\u001b[0;32m--> 418\u001b[0;31m         \u001b[0mX\u001b[0m\u001b[0;34m,\u001b[0m \u001b[0my\u001b[0m \u001b[0;34m=\u001b[0m \u001b[0mcheck_X_y\u001b[0m\u001b[0;34m(\u001b[0m\u001b[0mX\u001b[0m\u001b[0;34m,\u001b[0m \u001b[0my\u001b[0m\u001b[0;34m,\u001b[0m \u001b[0;34m'csr'\u001b[0m\u001b[0;34m,\u001b[0m \u001b[0mdtype\u001b[0m\u001b[0;34m=\u001b[0m\u001b[0mnp\u001b[0m\u001b[0;34m.\u001b[0m\u001b[0mfloat64\u001b[0m\u001b[0;34m,\u001b[0m \u001b[0morder\u001b[0m\u001b[0;34m=\u001b[0m\u001b[0;34m\"C\"\u001b[0m\u001b[0;34m)\u001b[0m\u001b[0;34m\u001b[0m\u001b[0m\n\u001b[0m\u001b[1;32m    419\u001b[0m         \u001b[0mn_samples\u001b[0m\u001b[0;34m,\u001b[0m \u001b[0mn_features\u001b[0m \u001b[0;34m=\u001b[0m \u001b[0mX\u001b[0m\u001b[0;34m.\u001b[0m\u001b[0mshape\u001b[0m\u001b[0;34m\u001b[0m\u001b[0m\n\u001b[1;32m    420\u001b[0m \u001b[0;34m\u001b[0m\u001b[0m\n",
      "\u001b[0;32m~/.pyenv/versions/3.4.6/lib/python3.4/site-packages/sklearn/utils/validation.py\u001b[0m in \u001b[0;36mcheck_X_y\u001b[0;34m(X, y, accept_sparse, dtype, order, copy, force_all_finite, ensure_2d, allow_nd, multi_output, ensure_min_samples, ensure_min_features, y_numeric, warn_on_dtype, estimator)\u001b[0m\n\u001b[1;32m    576\u001b[0m                         dtype=None)\n\u001b[1;32m    577\u001b[0m     \u001b[0;32melse\u001b[0m\u001b[0;34m:\u001b[0m\u001b[0;34m\u001b[0m\u001b[0m\n\u001b[0;32m--> 578\u001b[0;31m         \u001b[0my\u001b[0m \u001b[0;34m=\u001b[0m \u001b[0mcolumn_or_1d\u001b[0m\u001b[0;34m(\u001b[0m\u001b[0my\u001b[0m\u001b[0;34m,\u001b[0m \u001b[0mwarn\u001b[0m\u001b[0;34m=\u001b[0m\u001b[0;32mTrue\u001b[0m\u001b[0;34m)\u001b[0m\u001b[0;34m\u001b[0m\u001b[0m\n\u001b[0m\u001b[1;32m    579\u001b[0m         \u001b[0m_assert_all_finite\u001b[0m\u001b[0;34m(\u001b[0m\u001b[0my\u001b[0m\u001b[0;34m)\u001b[0m\u001b[0;34m\u001b[0m\u001b[0m\n\u001b[1;32m    580\u001b[0m     \u001b[0;32mif\u001b[0m \u001b[0my_numeric\u001b[0m \u001b[0;32mand\u001b[0m \u001b[0my\u001b[0m\u001b[0;34m.\u001b[0m\u001b[0mdtype\u001b[0m\u001b[0;34m.\u001b[0m\u001b[0mkind\u001b[0m \u001b[0;34m==\u001b[0m \u001b[0;34m'O'\u001b[0m\u001b[0;34m:\u001b[0m\u001b[0;34m\u001b[0m\u001b[0m\n",
      "\u001b[0;32m~/.pyenv/versions/3.4.6/lib/python3.4/site-packages/sklearn/utils/validation.py\u001b[0m in \u001b[0;36mcolumn_or_1d\u001b[0;34m(y, warn)\u001b[0m\n\u001b[1;32m    612\u001b[0m         \u001b[0;32mreturn\u001b[0m \u001b[0mnp\u001b[0m\u001b[0;34m.\u001b[0m\u001b[0mravel\u001b[0m\u001b[0;34m(\u001b[0m\u001b[0my\u001b[0m\u001b[0;34m)\u001b[0m\u001b[0;34m\u001b[0m\u001b[0m\n\u001b[1;32m    613\u001b[0m \u001b[0;34m\u001b[0m\u001b[0m\n\u001b[0;32m--> 614\u001b[0;31m     \u001b[0;32mraise\u001b[0m \u001b[0mValueError\u001b[0m\u001b[0;34m(\u001b[0m\u001b[0;34m\"bad input shape {0}\"\u001b[0m\u001b[0;34m.\u001b[0m\u001b[0mformat\u001b[0m\u001b[0;34m(\u001b[0m\u001b[0mshape\u001b[0m\u001b[0;34m)\u001b[0m\u001b[0;34m)\u001b[0m\u001b[0;34m\u001b[0m\u001b[0m\n\u001b[0m\u001b[1;32m    615\u001b[0m \u001b[0;34m\u001b[0m\u001b[0m\n\u001b[1;32m    616\u001b[0m \u001b[0;34m\u001b[0m\u001b[0m\n",
      "\u001b[0;31mValueError\u001b[0m: bad input shape ()"
     ]
    }
   ],
   "source": [
    "X_train, X_test, y_train, y_test = train_test_split(\n",
    "    metadata, content_taxons['level2taxoncat'], test_size = 0.2, random_state=1337)\n",
    "\n",
    "\"\"\" Support Vector Machine (SVM) classifier\"\"\"\n",
    "metadata_text_clf = Pipeline(\n",
    "    [('vect', CountVectorizer()),\n",
    "    ('tfidf', TfidfTransformer()),\n",
    "    ('clf', SGDClassifier(loss='hinge', penalty='l2', alpha=1e-3, max_iter = 5, random_state=42)),\n",
    "])\n",
    "\n",
    "metadata_text_clf.fit(content[['description','title']])\n"
   ]
  }
 ],
 "metadata": {
  "keep_output": true,
  "kernelspec": {
   "display_name": "govuk-legacy-taxonomy",
   "language": "python",
   "name": "govuk-legacy-taxonomy"
  },
  "language_info": {
   "codemirror_mode": {
    "name": "ipython",
    "version": 3
   },
   "file_extension": ".py",
   "mimetype": "text/x-python",
   "name": "python",
   "nbconvert_exporter": "python",
   "pygments_lexer": "ipython3",
   "version": "3.4.6"
  }
 },
 "nbformat": 4,
 "nbformat_minor": 2
}
