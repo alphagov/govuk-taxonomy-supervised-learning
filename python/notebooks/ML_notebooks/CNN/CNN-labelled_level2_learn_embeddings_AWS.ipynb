{
 "cells": [
  {
   "cell_type": "markdown",
   "metadata": {},
   "source": [
    "## Convolutional NN to classify govuk content to level2 taxons"
   ]
  },
  {
   "cell_type": "markdown",
   "metadata": {},
   "source": [
    "Based on:\n",
    "https://blog.keras.io/using-pre-trained-word-embeddings-in-a-keras-model.html"
   ]
  },
  {
   "cell_type": "markdown",
   "metadata": {},
   "source": [
    "### Load requirements and data"
   ]
  },
  {
   "cell_type": "code",
   "execution_count": 21,
   "metadata": {},
   "outputs": [],
   "source": [
    "import pandas as pd\n",
    "import numpy as np\n",
    "import os\n",
    "from datetime import datetime\n",
    "\n",
    "from keras.preprocessing.text import Tokenizer\n",
    "from keras.preprocessing.sequence import pad_sequences\n",
    "\n",
    "from keras.utils import to_categorical, layer_utils, plot_model\n",
    "\n",
    "from keras.layers import (Embedding, Input, Dense, \n",
    "                          Activation, Conv1D, MaxPooling1D, Flatten)\n",
    "from keras.models import Model, Sequential\n",
    "from keras.optimizers import rmsprop\n",
    "from keras.callbacks import TensorBoard, Callback\n",
    "import keras.backend as K\n",
    "from keras.losses import binary_crossentropy\n",
    "\n",
    "from sklearn.preprocessing import LabelEncoder, MultiLabelBinarizer\n",
    "from sklearn.metrics import confusion_matrix, f1_score, precision_score, recall_score \n",
    "from sklearn.metrics import precision_recall_fscore_support, classification_report\n",
    "from sklearn.utils import class_weight\n",
    "\n",
    "import tensorflow as tf\n"
   ]
  },
  {
   "cell_type": "markdown",
   "metadata": {},
   "source": [
    "### Envoronmental vars"
   ]
  },
  {
   "cell_type": "code",
   "execution_count": 25,
   "metadata": {},
   "outputs": [],
   "source": [
    "# env vars are not being read for some reason 💩\n",
    "\n",
    "DATADIR=os.getenv('DATADIR')\n",
    "if ~isinstance(DATADIR, str):\n",
    "    DATADIR='/data'"
   ]
  },
  {
   "cell_type": "markdown",
   "metadata": {},
   "source": [
    "## Hyperparameters"
   ]
  },
  {
   "cell_type": "code",
   "execution_count": 26,
   "metadata": {},
   "outputs": [],
   "source": [
    "MAX_SEQUENCE_LENGTH =1000\n",
    "EMBEDDING_DIM = 100 # used 6B.100d.txt\n",
    "P_THRESHOLD = 0.4 #Threshold for probability of being assigned to class\n",
    "POS_RATIO = 0.5 #ratio of positive to negative for each class in weighted binary cross entropy loss function"
   ]
  },
  {
   "cell_type": "markdown",
   "metadata": {},
   "source": [
    "### Read in data\n",
    "Content items tagged to level 2 taxons or lower in the topic taxonomy"
   ]
  },
  {
   "cell_type": "code",
   "execution_count": 27,
   "metadata": {},
   "outputs": [],
   "source": [
    "labelled_level2 = pd.read_csv(\n",
    "    os.path.join(DATADIR, 'labelled_level2.csv.gz'),\n",
    "    dtype=object, \n",
    "    compression='gzip'\n",
    ")"
   ]
  },
  {
   "cell_type": "markdown",
   "metadata": {},
   "source": [
    "### Create target/Y "
   ]
  },
  {
   "cell_type": "markdown",
   "metadata": {},
   "source": [
    "Note: when using the categorical_crossentropy loss, your targets should be in categorical format (e.g. if you have 10 classes, the target for each sample should be a 10-dimensional vector that is all-zeros expect for a 1 at the index corresponding to the class of the sample). In order to convert integer targets into categorical targets, you can use the Keras utility to_categorical"
   ]
  },
  {
   "cell_type": "code",
   "execution_count": 28,
   "metadata": {},
   "outputs": [],
   "source": [
    "#COLLAPSE World level2taxons\n",
    "labelled_level2.loc[labelled_level2['level1taxon'] == 'World', 'level2taxon'] = 'world_level1'"
   ]
  },
  {
   "cell_type": "code",
   "execution_count": 29,
   "metadata": {},
   "outputs": [],
   "source": [
    "labelled_level2['level2taxon'] = labelled_level2['level2taxon'].astype('category')\n",
    "\n",
    "labels = labelled_level2['level2taxon'].cat.codes "
   ]
  },
  {
   "cell_type": "code",
   "execution_count": 30,
   "metadata": {},
   "outputs": [],
   "source": [
    "labels_index = dict(zip((labels), labelled_level2['level2taxon']))"
   ]
  },
  {
   "cell_type": "markdown",
   "metadata": {},
   "source": [
    "In multilabel learning, the joint set of binary classification tasks is expressed with label binary indicator array: each sample is one row of a 2d array of shape (n_samples, n_classes) with binary values:  \n",
    "the one, i.e. the non zero elements, corresponds to the subset of labels.  \n",
    "An array such as np.array([[1, 0, 0], [0, 1, 1], [0, 0, 0]]) represents label 0 in the first sample, labels 1 and 2 in the second sample, and no labels in the third sample.  \n",
    "Producing multilabel data as a list of sets of labels may be more intuitive. The MultiLabelBinarizer transformer can be used to convert between a collection of collections of labels and the indicator format."
   ]
  },
  {
   "cell_type": "markdown",
   "metadata": {},
   "source": [
    "####  first reshape wide to get columns for each level2taxon and row number = number unique urls"
   ]
  },
  {
   "cell_type": "code",
   "execution_count": 31,
   "metadata": {},
   "outputs": [
    {
     "name": "stdout",
     "output_type": "stream",
     "text": [
      "210\n"
     ]
    }
   ],
   "source": [
    "#get a smaller copy of data for pivoting ease (think you can work from full data actually and other cols get droopedauto)\n",
    "\n",
    "level2_reduced = labelled_level2[['content_id', 'level2taxon', 'combined_text']].copy()\n",
    "\n",
    "#how many level2taxons are there?\n",
    "print(level2_reduced.level2taxon.nunique())\n",
    "\n",
    "#count the number of taxons per content item into new column\n",
    "level2_reduced['num_taxon_per_content'] = level2_reduced.groupby([\"content_id\"])['content_id'].transform(\"count\")\n",
    "\n",
    "#Add 1 because of zero-indexing to get 1-number of level2taxons as numerical targets\n",
    "level2_reduced['level2taxon_code'] = level2_reduced.level2taxon.astype('category').cat.codes + 1"
   ]
  },
  {
   "cell_type": "code",
   "execution_count": 32,
   "metadata": {},
   "outputs": [
    {
     "name": "stdout",
     "output_type": "stream",
     "text": [
      "(173560, 5)\n",
      "(114048, 210)\n"
     ]
    }
   ],
   "source": [
    "#reshape to wide per taxon and keep the combined text so indexing is consistent when splitting X from Y\n",
    "\n",
    "multilabel = (level2_reduced.pivot_table(index=['content_id', 'combined_text'], \n",
    "                  columns='level2taxon_code', \n",
    "                  values='num_taxon_per_content'))\n",
    "print(level2_reduced.shape)\n",
    "print(multilabel.shape)"
   ]
  },
  {
   "cell_type": "code",
   "execution_count": 33,
   "metadata": {},
   "outputs": [],
   "source": [
    "#convert the number_of_taxons_per_content values to 1, meaning there was an entry for this taxon and this content_id, 0 otherwise\n",
    "binary_multilabel = multilabel.notnull().astype('int')"
   ]
  },
  {
   "cell_type": "code",
   "execution_count": 34,
   "metadata": {},
   "outputs": [
    {
     "data": {
      "text/plain": [
       "(114048, 210)"
      ]
     },
     "execution_count": 34,
     "metadata": {},
     "output_type": "execute_result"
    }
   ],
   "source": [
    "#will convert columns to an array of shape\n",
    "binary_multilabel[list(binary_multilabel.columns)].values.shape"
   ]
  },
  {
   "cell_type": "code",
   "execution_count": 35,
   "metadata": {},
   "outputs": [],
   "source": [
    "#convert columns to an array. Each row represents a content item, each column an individual taxon\n",
    "binary_multilabel = binary_multilabel[list(binary_multilabel.columns)].values"
   ]
  },
  {
   "cell_type": "code",
   "execution_count": 36,
   "metadata": {},
   "outputs": [
    {
     "data": {
      "text/plain": [
       "numpy.ndarray"
      ]
     },
     "execution_count": 36,
     "metadata": {},
     "output_type": "execute_result"
    }
   ],
   "source": [
    "type(binary_multilabel)"
   ]
  },
  {
   "cell_type": "markdown",
   "metadata": {},
   "source": [
    "### Create language data/X"
   ]
  },
  {
   "cell_type": "markdown",
   "metadata": {},
   "source": [
    "format our text samples and labels into tensors that can be fed into a neural network. To do this, we will rely on Keras utilities keras.preprocessing.text.Tokenizer and keras.preprocessing.sequence.pad_sequences."
   ]
  },
  {
   "cell_type": "code",
   "execution_count": 37,
   "metadata": {},
   "outputs": [
    {
     "data": {
      "text/plain": [
       "(114048,)"
      ]
     },
     "execution_count": 37,
     "metadata": {},
     "output_type": "execute_result"
    }
   ],
   "source": [
    "multilabel.index.names\n",
    "texts = multilabel.index.get_level_values('combined_text')\n",
    "texts.shape"
   ]
  },
  {
   "cell_type": "code",
   "execution_count": 38,
   "metadata": {},
   "outputs": [
    {
     "name": "stdout",
     "output_type": "stream",
     "text": [
      "Found 213132 unique tokens.\n"
     ]
    }
   ],
   "source": [
    "tokenizer = Tokenizer(num_words=20000)\n",
    "tokenizer.fit_on_texts(texts)\n",
    "sequences = tokenizer.texts_to_sequences(texts) #yield one sequence per input text\n",
    "\n",
    "word_index = tokenizer.word_index\n",
    "print('Found %s unique tokens.' % len(word_index))\n",
    "\n",
    "data = pad_sequences(sequences, maxlen= MAX_SEQUENCE_LENGTH) #MAX_SEQUENCE_LENGTH"
   ]
  },
  {
   "cell_type": "code",
   "execution_count": 39,
   "metadata": {},
   "outputs": [
    {
     "name": "stdout",
     "output_type": "stream",
     "text": [
      "Shape of label tensor: (114048, 210)\n",
      "Shape of data tensor: (114048, 1000)\n"
     ]
    }
   ],
   "source": [
    "print('Shape of label tensor:', binary_multilabel.shape)\n",
    "print('Shape of data tensor:', data.shape)"
   ]
  },
  {
   "cell_type": "markdown",
   "metadata": {},
   "source": [
    "### Data split\n",
    "- Training data = 80%\n",
    "- validation data = 10%\n",
    "- Test data = 10%"
   ]
  },
  {
   "cell_type": "code",
   "execution_count": 40,
   "metadata": {},
   "outputs": [],
   "source": [
    "# shuffle data and standardise indices\n",
    "indices = np.arange(data.shape[0])\n",
    "np.random.shuffle(indices)\n",
    "data = data[indices]\n",
    "labels = binary_multilabel[indices]"
   ]
  },
  {
   "cell_type": "code",
   "execution_count": 41,
   "metadata": {},
   "outputs": [
    {
     "name": "stdout",
     "output_type": "stream",
     "text": [
      "nb_test samples: 11404\n",
      "nb_val samples: 22809\n",
      "nb_training samples: 91238\n"
     ]
    }
   ],
   "source": [
    "nb_test_samples = int(0.1 * data.shape[0]) #validation split\n",
    "print('nb_test samples:', nb_test_samples)\n",
    "\n",
    "nb_val_samples = int(0.2 * data.shape[0]) #validation split\n",
    "print('nb_val samples:', nb_val_samples)\n",
    "\n",
    "nb_training_samples = int(0.8 * data.shape[0]) #validation split\n",
    "print('nb_training samples:', nb_training_samples)"
   ]
  },
  {
   "cell_type": "code",
   "execution_count": 42,
   "metadata": {},
   "outputs": [
    {
     "name": "stdout",
     "output_type": "stream",
     "text": [
      "Shape of x_train: (91239, 1000)\n",
      "Shape of y_train: (91239, 210)\n",
      "Shape of x_val: (11405, 1000)\n",
      "Shape of y_val: (11405, 210)\n",
      "Shape of x_val: (11405, 1000)\n",
      "Shape of y_val: (11405, 210)\n"
     ]
    }
   ],
   "source": [
    "x_train = data[:-nb_val_samples]\n",
    "print('Shape of x_train:', x_train.shape)\n",
    "y_train = labels[:-nb_val_samples]\n",
    "print('Shape of y_train:', y_train.shape)\n",
    "\n",
    "x_val = data[-nb_val_samples:-nb_test_samples]\n",
    "print('Shape of x_val:', x_val.shape)\n",
    "y_val = labels[-nb_val_samples:-nb_test_samples]\n",
    "print('Shape of y_val:', y_val.shape)\n",
    "\n",
    "x_test = data[-nb_test_samples:]\n",
    "print('Shape of x_val:', x_val.shape)\n",
    "y_test = labels[-nb_test_samples:]\n",
    "print('Shape of y_val:', y_val.shape)"
   ]
  },
  {
   "cell_type": "code",
   "execution_count": 43,
   "metadata": {},
   "outputs": [
    {
     "data": {
      "text/plain": [
       "False"
      ]
     },
     "execution_count": 43,
     "metadata": {},
     "output_type": "execute_result"
    }
   ],
   "source": [
    "#check these are differnt arrays!\n",
    "np.array_equal(y_val, y_test)"
   ]
  },
  {
   "cell_type": "markdown",
   "metadata": {},
   "source": [
    "### preparing the Embedding layer\n",
    "compute an index mapping words ot known embeddings by parsing the data dump of pre-trained embeddings\n",
    "NB stopwords haven't been removed yet..."
   ]
  },
  {
   "cell_type": "code",
   "execution_count": 44,
   "metadata": {},
   "outputs": [
    {
     "name": "stdout",
     "output_type": "stream",
     "text": [
      "Found 0 word vectors.\n"
     ]
    }
   ],
   "source": [
    "embeddings_index = {}\n",
    "#f = open(os.path.join(DATADIR, 'glove.6B.100d.txt'))\n",
    "#for line in f:\n",
    "##    values = line.split()\n",
    "#    word = values[0]\n",
    "#    coefs = np.asarray(values[1:], dtype='float32')\n",
    "#    embeddings_index[word] = coefs\n",
    "#f.close()\n",
    "\n",
    "print('Found %s word vectors.' % len(embeddings_index))"
   ]
  },
  {
   "cell_type": "markdown",
   "metadata": {},
   "source": [
    "compute embedding matrix using embedding_index dict and word_index"
   ]
  },
  {
   "cell_type": "code",
   "execution_count": 49,
   "metadata": {},
   "outputs": [],
   "source": [
    "embedding_matrix = np.zeros((len(word_index) + 1, EMBEDDING_DIM))# used 6B.100d.txt\n",
    "for word, i in word_index.items():\n",
    "    embedding_vector = embeddings_index.get(word)\n",
    "    if embedding_vector is not None:\n",
    "        # words not found in embedding index will be all-zeros.\n",
    "        embedding_matrix[i] = embedding_vector"
   ]
  },
  {
   "cell_type": "markdown",
   "metadata": {},
   "source": [
    "load this embedding matrix into an Embedding layer. Note that we set trainable=False to prevent the weights from being updated during training."
   ]
  },
  {
   "cell_type": "code",
   "execution_count": 50,
   "metadata": {},
   "outputs": [],
   "source": [
    "# embedding_layer = Embedding(len(word_index) + 1,\n",
    "#                             EMBEDDING_DIM, # used 6B.100d.txt\n",
    "#                             weights=[embedding_matrix],\n",
    "#                             input_length= MAX_SEQUENCE_LENGTH, #MAX_SEQUENCE LENGTH\n",
    "#                             trainable=False)\n",
    "\n",
    "embedding_layer = Embedding(len(word_index) + 1, \n",
    "                            EMBEDDING_DIM, \n",
    "                            input_length=MAX_SEQUENCE_LENGTH)"
   ]
  },
  {
   "cell_type": "markdown",
   "metadata": {},
   "source": [
    "An Embedding layer should be fed sequences of integers, i.e. a 2D input of shape (samples, indices). These input sequences should be padded so that they all have the same length in a batch of input data (although an Embedding layer is capable of processing sequence of heterogenous length, if you don't pass an explicit input_length argument to the layer).\n",
    "\n",
    "All that the Embedding layer does is to map the integer inputs to the vectors found at the corresponding index in the embedding matrix, i.e. the sequence [1, 2] would be converted to [embeddings[1], embeddings[2]]. This means that the output of the Embedding layer will be a 3D tensor of shape (samples, sequence_length, embedding_dim)."
   ]
  },
  {
   "cell_type": "markdown",
   "metadata": {},
   "source": [
    "### Estimate class weights for unbalanced datasets.\n",
    "paramter to model.fit = __class_weight__: Optional dictionary mapping class indices (integers) to a weight (float) value, used for weighting the loss function (during training only). This can be useful to tell the model to \"pay more attention\" to samples from an under-represented class.\n",
    "\n",
    "Implement class_weight from sklearn:\n",
    "\n",
    "- Import the module \n",
    "\n",
    "`from sklearn.utils import class_weight`\n",
    "- calculate the class weight, If ‘balanced’, class weights will be given by n_samples / (n_classes * np.bincount(y)):\n",
    "\n",
    "`class_weight = class_weight.compute_class_weight('balanced', np.unique(y_train), y_train)`\n",
    "\n",
    "- change it to a dict in order to work with Keras.\n",
    "\n",
    "`class_weight_dict = dict(enumerate(class_weight))`\n",
    "\n",
    "- Add to model fitting\n",
    "\n",
    "`model.fit(X_train, y_train, class_weight=class_weight)`"
   ]
  },
  {
   "cell_type": "code",
   "execution_count": 26,
   "metadata": {},
   "outputs": [],
   "source": [
    "# class_weight = class_weight.compute_class_weight('balanced', np.unique(y_train), y_train)\n",
    "# class_weight_dict = dict(enumerate(class_weight))"
   ]
  },
  {
   "cell_type": "markdown",
   "metadata": {},
   "source": [
    "### Custom loss function"
   ]
  },
  {
   "cell_type": "code",
   "execution_count": 51,
   "metadata": {},
   "outputs": [
    {
     "name": "stdout",
     "output_type": "stream",
     "text": [
      "4.00756\n",
      "8.01512\n"
     ]
    }
   ],
   "source": [
    "class WeightedBinaryCrossEntropy(object):\n",
    "\n",
    "    def __init__(self, pos_ratio):\n",
    "        neg_ratio = 1. - pos_ratio\n",
    "        #self.pos_ratio = tf.constant(pos_ratio, tf.float32)\n",
    "        self.pos_ratio = pos_ratio\n",
    "        #self.weights = tf.constant(neg_ratio / pos_ratio, tf.float32)\n",
    "        self.weights = neg_ratio / pos_ratio\n",
    "        self.__name__ = \"weighted_binary_crossentropy({0})\".format(pos_ratio)\n",
    "\n",
    "    def __call__(self, y_true, y_pred):\n",
    "        return self.weighted_binary_crossentropy(y_true, y_pred)\n",
    "\n",
    "    def weighted_binary_crossentropy(self, y_true, y_pred):\n",
    "            # Transform to logits\n",
    "            epsilon = tf.convert_to_tensor(K.common._EPSILON, y_pred.dtype.base_dtype)\n",
    "            y_pred = tf.clip_by_value(y_pred, epsilon, 1 - epsilon)\n",
    "            y_pred = tf.log(y_pred / (1 - y_pred))\n",
    "\n",
    "            cost = tf.nn.weighted_cross_entropy_with_logits(y_true, y_pred, self.weights)\n",
    "            return K.mean(cost * self.pos_ratio, axis=-1)\n",
    "    \n",
    "y_true_arr = np.array([0,1,0,1], dtype=\"float32\")\n",
    "y_pred_arr = np.array([0,0,1,1], dtype=\"float32\")\n",
    "y_true = tf.constant(y_true_arr)\n",
    "y_pred = tf.constant(y_pred_arr)\n",
    "\n",
    "with tf.Session().as_default(): \n",
    "    print(WeightedBinaryCrossEntropy(0.5)(y_true, y_pred).eval())\n",
    "    print(binary_crossentropy(y_true, y_pred).eval())\n"
   ]
  },
  {
   "cell_type": "markdown",
   "metadata": {},
   "source": [
    "### difficulty getting global precision/recall metrics . CAUTION interpreting monitoring metrics\n",
    "fcholltet: \"Basically these are all global metrics that were approximated\n",
    "batch-wise, which is more misleading than helpful. This was mentioned in\n",
    "the docs but it's much cleaner to remove them altogether. It was a mistake\n",
    "to merge them in the first place.\""
   ]
  },
  {
   "cell_type": "code",
   "execution_count": 52,
   "metadata": {},
   "outputs": [],
   "source": [
    "def mcor(y_true, y_pred):\n",
    "     #matthews_correlation\n",
    "     y_pred_pos = K.round(K.clip(y_pred, 0, 1))\n",
    "     y_pred_neg = 1 - y_pred_pos\n",
    " \n",
    " \n",
    "     y_pos = K.round(K.clip(y_true, 0, 1))\n",
    "     y_neg = 1 - y_pos\n",
    " \n",
    " \n",
    "     tp = K.sum(y_pos * y_pred_pos)\n",
    "     tn = K.sum(y_neg * y_pred_neg)\n",
    " \n",
    " \n",
    "     fp = K.sum(y_neg * y_pred_pos)\n",
    "     fn = K.sum(y_pos * y_pred_neg)\n",
    " \n",
    " \n",
    "     numerator = (tp * tn - fp * fn)\n",
    "     denominator = K.sqrt((tp + fp) * (tp + fn) * (tn + fp) * (tn + fn))\n",
    " \n",
    " \n",
    "     return numerator / (denominator + K.epsilon())\n",
    "\n",
    "def precision(y_true, y_pred):\n",
    "    \"\"\"Precision metric.\n",
    "\n",
    "    Only computes a batch-wise average of precision.\n",
    "\n",
    "    Computes the precision, a metric for multi-label classification of\n",
    "    how many selected items are relevant.\n",
    "    \"\"\"\n",
    "    true_positives = K.sum(K.round(K.clip(y_true * y_pred, 0, 1)))\n",
    "    predicted_positives = K.sum(K.round(K.clip(y_pred, 0, 1)))\n",
    "    precision = true_positives / (predicted_positives + K.epsilon())\n",
    "    return precision\n",
    "\n",
    "def recall(y_true, y_pred):\n",
    "    \"\"\"Recall metric.\n",
    "\n",
    "    Only computes a batch-wise average of recall.\n",
    "\n",
    "    Computes the recall, a metric for multi-label classification of\n",
    "    how many relevant items are selected.\n",
    "    \"\"\"\n",
    "    true_positives = K.sum(K.round(K.clip(y_true * y_pred, 0, 1)))\n",
    "    possible_positives = K.sum(K.round(K.clip(y_true, 0, 1)))\n",
    "    recall = true_positives / (possible_positives + K.epsilon())\n",
    "    return recall\n",
    "\n",
    "def f1(y_true, y_pred):\n",
    "    def recall(y_true, y_pred):\n",
    "        \"\"\"Recall metric.\n",
    "\n",
    "        Only computes a batch-wise average of recall.\n",
    "\n",
    "        Computes the recall, a metric for multi-label classification of\n",
    "        how many relevant items are selected.\n",
    "        \"\"\"\n",
    "        true_positives = K.sum(K.round(K.clip(y_true * y_pred, 0, 1)))\n",
    "        possible_positives = K.sum(K.round(K.clip(y_true, 0, 1)))\n",
    "        recall = true_positives / (possible_positives + K.epsilon())\n",
    "        return recall\n",
    "\n",
    "    def precision(y_true, y_pred):\n",
    "        \"\"\"Precision metric.\n",
    "\n",
    "        Only computes a batch-wise average of precision.\n",
    "\n",
    "        Computes the precision, a metric for multi-label classification of\n",
    "        how many selected items are relevant.\n",
    "        \"\"\"\n",
    "        true_positives = K.sum(K.round(K.clip(y_true * y_pred, 0, 1)))\n",
    "        predicted_positives = K.sum(K.round(K.clip(y_pred, 0, 1)))\n",
    "        precision = true_positives / (predicted_positives + K.epsilon())\n",
    "        return precision\n",
    "    precision = precision(y_true, y_pred)\n",
    "    recall = recall(y_true, y_pred)\n",
    "    return 2*((precision*recall)/(precision+recall))"
   ]
  },
  {
   "cell_type": "markdown",
   "metadata": {},
   "source": [
    "## Training a 1D convnet"
   ]
  },
  {
   "cell_type": "markdown",
   "metadata": {},
   "source": [
    "### 1. Create model"
   ]
  },
  {
   "cell_type": "code",
   "execution_count": 53,
   "metadata": {},
   "outputs": [],
   "source": [
    "NB_CLASSES = y_train.shape[1]\n",
    "sequence_input = Input(shape=(MAX_SEQUENCE_LENGTH,), dtype='int32') #MAX_SEQUENCE_LENGTH\n",
    "embedded_sequences = embedding_layer(sequence_input)\n",
    "\n",
    "x = Conv1D(128, 5, activation='relu', name = 'conv0')(embedded_sequences)\n",
    "\n",
    "x = MaxPooling1D(5, name = 'max_pool0')(x)\n",
    "\n",
    "x = Conv1D(128, 5, activation='relu', name = 'conv1')(x)\n",
    "\n",
    "x = MaxPooling1D(5 , name = 'max_pool1')(x)\n",
    "\n",
    "x = Conv1D(128, 5, activation='relu', name = 'conv2')(x)\n",
    "\n",
    "x = MaxPooling1D(35, name = 'global_max_pool')(x)  # global max pooling\n",
    "\n",
    "x = Flatten()(x) #reduce dimensions from 3 to 2; convert to vector + FULLYCONNECTED\n",
    "\n",
    "x = Dense(128, activation='relu')(x)\n",
    "\n",
    "x = Dense(NB_CLASSES, activation='sigmoid', name = 'fully_connected')(x)\n",
    "\n",
    "# Create model. \n",
    "# This creates Keras model instance, will use this instance to train/test the model.\n",
    "model = Model(sequence_input, x)"
   ]
  },
  {
   "cell_type": "markdown",
   "metadata": {},
   "source": [
    "### 2. Compile model"
   ]
  },
  {
   "cell_type": "code",
   "execution_count": 54,
   "metadata": {},
   "outputs": [],
   "source": [
    "model.compile(loss=WeightedBinaryCrossEntropy(POS_RATIO),\n",
    "              optimizer='rmsprop',\n",
    "              metrics=['binary_accuracy', precision, recall, f1])"
   ]
  },
  {
   "cell_type": "markdown",
   "metadata": {},
   "source": [
    "Metric values are recorded at the end of each epoch on the training dataset. If a validation dataset is also provided, then the metric recorded is also calculated for the validation dataset.\n",
    "\n",
    "All metrics are reported in verbose output and in the history object returned from calling the fit() function. In both cases, the name of the metric function is used as the key for the metric values. In the case of metrics for the validation dataset, the “val_” prefix is added to the key."
   ]
  },
  {
   "cell_type": "markdown",
   "metadata": {},
   "source": [
    "You have now built a function to describe your model. To train and test this model, there are four steps in Keras:\n",
    "1. Create the model by calling the function above\n",
    "2. Compile the model by calling `model.compile(optimizer = \"...\", loss = \"...\", metrics = [\"accuracy\"])`\n",
    "3. Train the model on train data by calling `model.fit(x = ..., y = ..., epochs = ..., batch_size = ...)`\n",
    "4. Test the model on test data by calling `model.evaluate(x = ..., y = ...)`\n",
    "\n",
    "If you want to know more about `model.compile()`, `model.fit()`, `model.evaluate()` and their arguments, refer to the official [Keras documentation](https://keras.io/models/model/).\n"
   ]
  },
  {
   "cell_type": "code",
   "execution_count": 55,
   "metadata": {},
   "outputs": [
    {
     "name": "stdout",
     "output_type": "stream",
     "text": [
      "_________________________________________________________________\n",
      "Layer (type)                 Output Shape              Param #   \n",
      "=================================================================\n",
      "input_1 (InputLayer)         (None, 1000)              0         \n",
      "_________________________________________________________________\n",
      "embedding_1 (Embedding)      (None, 1000, 100)         21313300  \n",
      "_________________________________________________________________\n",
      "conv0 (Conv1D)               (None, 996, 128)          64128     \n",
      "_________________________________________________________________\n",
      "max_pool0 (MaxPooling1D)     (None, 199, 128)          0         \n",
      "_________________________________________________________________\n",
      "conv1 (Conv1D)               (None, 195, 128)          82048     \n",
      "_________________________________________________________________\n",
      "max_pool1 (MaxPooling1D)     (None, 39, 128)           0         \n",
      "_________________________________________________________________\n",
      "conv2 (Conv1D)               (None, 35, 128)           82048     \n",
      "_________________________________________________________________\n",
      "global_max_pool (MaxPooling1 (None, 1, 128)            0         \n",
      "_________________________________________________________________\n",
      "flatten_1 (Flatten)          (None, 128)               0         \n",
      "_________________________________________________________________\n",
      "dense_1 (Dense)              (None, 128)               16512     \n",
      "_________________________________________________________________\n",
      "fully_connected (Dense)      (None, 210)               27090     \n",
      "=================================================================\n",
      "Total params: 21,585,126\n",
      "Trainable params: 21,585,126\n",
      "Non-trainable params: 0\n",
      "_________________________________________________________________\n"
     ]
    }
   ],
   "source": [
    "model.summary()"
   ]
  },
  {
   "cell_type": "markdown",
   "metadata": {},
   "source": [
    "### Tensorboard callbacks /metrics /monitor training"
   ]
  },
  {
   "cell_type": "markdown",
   "metadata": {},
   "source": [
    "<span style=\"color:red\"> **Size of these files is killing storage during training. Is it histograms?**</span>"
   ]
  },
  {
   "cell_type": "code",
   "execution_count": 56,
   "metadata": {},
   "outputs": [],
   "source": [
    "tb = TensorBoard(log_dir='/data/learn_embedding_logs', histogram_freq=0, write_graph=True, write_images=False)"
   ]
  },
  {
   "cell_type": "code",
   "execution_count": null,
   "metadata": {},
   "outputs": [],
   "source": [
    "# class Metrics(Callback):\n",
    "#     def on_train_begin(self, logs={}):\n",
    "#         self.val_f1s = []\n",
    "#         self.val_recalls = []\n",
    "#         self.val_precisions = []\n",
    " \n",
    "#     def on_epoch_end(self, epoch, logs={}):\n",
    "#         val_predict = (np.asarray(self.model.predict(self.model.validation_data[0]))).round()\n",
    "#         val_targ = self.model.validation_data[1]\n",
    "#         _val_f1 = f1_score(val_targ, val_predict)\n",
    "#         _val_recall = recall_score(val_targ, val_predict)\n",
    "#         _val_precision = precision_score(val_targ, val_predict)\n",
    "#         self.val_f1s.append(_val_f1)\n",
    "#         self.val_recalls.append(_val_recall)\n",
    "#         self.val_precisions.append(_val_precision)\n",
    "#         print(\"- val_f1: %f — val_precision: %f — val_recall %f\" %(_val_f1, _val_precision, _val_recall))\n",
    "#         return\n",
    " \n",
    "# metrics = Metrics()"
   ]
  },
  {
   "cell_type": "markdown",
   "metadata": {},
   "source": [
    "### 3. Train model"
   ]
  },
  {
   "cell_type": "code",
   "execution_count": 58,
   "metadata": {},
   "outputs": [
    {
     "name": "stdout",
     "output_type": "stream",
     "text": [
      "Train on 91239 samples, validate on 11405 samples\n",
      "Epoch 1/10\n",
      "91239/91239 [==============================] - 468s 5ms/step - loss: 0.0112 - binary_accuracy: 0.9941 - precision: 0.7841 - recall: 0.2146 - f1: 0.3275 - val_loss: 0.0095 - val_binary_accuracy: 0.9947 - val_precision: 0.7616 - val_recall: 0.3604 - val_f1: 0.4883\n",
      "Epoch 2/10\n",
      "91239/91239 [==============================] - 468s 5ms/step - loss: 0.0080 - binary_accuracy: 0.9953 - precision: 0.8224 - recall: 0.4216 - f1: 0.5552 - val_loss: 0.0076 - val_binary_accuracy: 0.9955 - val_precision: 0.8163 - val_recall: 0.4693 - val_f1: 0.5951\n",
      "Epoch 3/10\n",
      "91239/91239 [==============================] - 468s 5ms/step - loss: 0.0066 - binary_accuracy: 0.9960 - precision: 0.8402 - recall: 0.5323 - f1: 0.6506 - val_loss: 0.0068 - val_binary_accuracy: 0.9960 - val_precision: 0.8281 - val_recall: 0.5439 - val_f1: 0.6558\n",
      "Epoch 4/10\n",
      "91239/91239 [==============================] - 472s 5ms/step - loss: 0.0057 - binary_accuracy: 0.9964 - precision: 0.8505 - recall: 0.5940 - f1: 0.6986 - val_loss: 0.0065 - val_binary_accuracy: 0.9961 - val_precision: 0.8230 - val_recall: 0.5765 - val_f1: 0.6773\n",
      "Epoch 5/10\n",
      "91239/91239 [==============================] - 468s 5ms/step - loss: 0.0051 - binary_accuracy: 0.9967 - precision: 0.8615 - recall: 0.6382 - f1: 0.7325 - val_loss: 0.0065 - val_binary_accuracy: 0.9962 - val_precision: 0.8267 - val_recall: 0.5816 - val_f1: 0.6821\n",
      "Epoch 6/10\n",
      "91239/91239 [==============================] - 470s 5ms/step - loss: 0.0046 - binary_accuracy: 0.9970 - precision: 0.8712 - recall: 0.6735 - f1: 0.7589 - val_loss: 0.0063 - val_binary_accuracy: 0.9963 - val_precision: 0.8186 - val_recall: 0.6154 - val_f1: 0.7017\n",
      "Epoch 7/10\n",
      "91239/91239 [==============================] - 472s 5ms/step - loss: 0.0042 - binary_accuracy: 0.9973 - precision: 0.8812 - recall: 0.7064 - f1: 0.7835 - val_loss: 0.0064 - val_binary_accuracy: 0.9964 - val_precision: 0.8242 - val_recall: 0.6247 - val_f1: 0.7098\n",
      "Epoch 8/10\n",
      "91239/91239 [==============================] - 473s 5ms/step - loss: 0.0038 - binary_accuracy: 0.9975 - precision: 0.8901 - recall: 0.7336 - f1: 0.8037 - val_loss: 0.0067 - val_binary_accuracy: 0.9963 - val_precision: 0.8124 - val_recall: 0.6230 - val_f1: 0.7044\n",
      "Epoch 9/10\n",
      "91239/91239 [==============================] - 474s 5ms/step - loss: 0.0034 - binary_accuracy: 0.9977 - precision: 0.8975 - recall: 0.7610 - f1: 0.8231 - val_loss: 0.0072 - val_binary_accuracy: 0.9961 - val_precision: 0.7730 - val_recall: 0.6408 - val_f1: 0.7001\n",
      "Epoch 10/10\n",
      "91239/91239 [==============================] - 470s 5ms/step - loss: 0.0031 - binary_accuracy: 0.9979 - precision: 0.9052 - recall: 0.7848 - f1: 0.8402 - val_loss: 0.0072 - val_binary_accuracy: 0.9962 - val_precision: 0.7795 - val_recall: 0.6533 - val_f1: 0.7102\n"
     ]
    },
    {
     "data": {
      "text/plain": [
       "<keras.callbacks.History at 0x7fd95492bba8>"
      ]
     },
     "execution_count": 58,
     "metadata": {},
     "output_type": "execute_result"
    }
   ],
   "source": [
    "# metrics callback causes: AttributeError: 'Model' object has no attribute 'validation_data'\n",
    "# So disable for now\n",
    "\n",
    "model.fit(\n",
    "    x_train, y_train, \n",
    "    validation_data=(x_val, y_val), \n",
    "    epochs=10, batch_size=128, \n",
    "    callbacks=[tb]\n",
    ")"
   ]
  },
  {
   "cell_type": "markdown",
   "metadata": {},
   "source": [
    "### Evaluate model"
   ]
  },
  {
   "cell_type": "markdown",
   "metadata": {},
   "source": [
    "#### Training metrics"
   ]
  },
  {
   "cell_type": "code",
   "execution_count": 59,
   "metadata": {},
   "outputs": [],
   "source": [
    "y_prob = model.predict(x_train)"
   ]
  },
  {
   "cell_type": "code",
   "execution_count": 60,
   "metadata": {},
   "outputs": [
    {
     "data": {
      "text/plain": [
       "(91239, 210)"
      ]
     },
     "execution_count": 60,
     "metadata": {},
     "output_type": "execute_result"
    }
   ],
   "source": [
    "y_prob.shape"
   ]
  },
  {
   "cell_type": "code",
   "execution_count": 61,
   "metadata": {},
   "outputs": [],
   "source": [
    "y_pred = y_prob\n",
    "y_pred[y_pred>=P_THRESHOLD] = 1\n",
    "y_pred[y_pred<P_THRESHOLD] = 0"
   ]
  },
  {
   "cell_type": "code",
   "execution_count": 62,
   "metadata": {},
   "outputs": [
    {
     "data": {
      "text/plain": [
       "0.86933178553290291"
      ]
     },
     "execution_count": 62,
     "metadata": {},
     "output_type": "execute_result"
    }
   ],
   "source": [
    "f1_score(y_train, y_pred, average='micro')"
   ]
  },
  {
   "cell_type": "code",
   "execution_count": 63,
   "metadata": {},
   "outputs": [
    {
     "name": "stderr",
     "output_type": "stream",
     "text": [
      "/home/ubuntu/anaconda3/envs/govuk_taxonomy/lib/python3.6/site-packages/sklearn/metrics/classification.py:1135: UndefinedMetricWarning: Precision and F-score are ill-defined and being set to 0.0 in labels with no predicted samples.\n",
      "  'precision', 'predicted', average, warn_for)\n"
     ]
    },
    {
     "data": {
      "text/plain": [
       "(array([ 0.        ,  0.        ,  0.99511719,  0.80769231,  0.        ,\n",
       "         0.77657267,  0.94117647,  0.9451146 ,  0.        ,  0.        ,\n",
       "         0.        ,  0.90643275,  0.        ,  0.        ,  0.91496599,\n",
       "         0.        ,  0.88034188,  0.        ,  0.        ,  0.86403807,\n",
       "         0.8967686 ,  0.84624483,  0.95786865,  0.        ,  0.        ,\n",
       "         0.        ,  0.        ,  0.        ,  0.98484848,  0.95588235,\n",
       "         0.86842105,  1.        ,  0.        ,  0.75524476,  0.87901701,\n",
       "         0.90116279,  0.82683215,  0.65116279,  0.83486239,  0.92738589,\n",
       "         0.        ,  0.93762994,  0.        ,  0.        ,  0.76704545,\n",
       "         0.        ,  0.        ,  0.89534884,  0.77895392,  0.        ,\n",
       "         0.        ,  0.        ,  0.        ,  0.        ,  0.        ,\n",
       "         0.        ,  0.        ,  0.92210526,  0.33333333,  0.93115318,\n",
       "         0.88888889,  0.        ,  0.79069767,  0.78099174,  0.        ,\n",
       "         0.81013281,  0.        ,  1.        ,  0.84810127,  0.        ,\n",
       "         0.9       ,  0.        ,  0.89328744,  0.92334495,  0.94303797,\n",
       "         0.91437674,  0.        ,  0.96348676,  0.91869919,  0.        ,\n",
       "         0.92943692,  0.88741651,  0.        ,  0.68898593,  0.        ,\n",
       "         0.        ,  0.91304348,  0.98611111,  0.        ,  0.93984962,\n",
       "         0.9556962 ,  0.87947883,  0.        ,  0.71812081,  0.88528139,\n",
       "         0.95916879,  0.72222222,  0.        ,  0.75409836,  0.94339623,\n",
       "         0.90690691,  0.        ,  1.        ,  0.9       ,  0.        ,\n",
       "         1.        ,  0.9375    ,  0.        ,  0.        ,  0.        ,\n",
       "         0.        ,  0.        ,  0.93910761,  0.89728097,  0.75147929,\n",
       "         0.83783784,  0.81102362,  0.9548105 ,  0.95940171,  0.        ,\n",
       "         0.92935982,  0.        ,  0.85294118,  0.        ,  0.        ,\n",
       "         0.        ,  0.        ,  0.        ,  0.87000726,  0.94285714,\n",
       "         0.91550874,  0.95546951,  0.        ,  0.82142857,  0.        ,\n",
       "         0.        ,  0.        ,  0.93888303,  0.98018018,  0.        ,\n",
       "         0.94198473,  0.93514644,  1.        ,  0.        ,  0.        ,\n",
       "         0.        ,  0.92897196,  0.        ,  0.        ,  0.92465753,\n",
       "         0.91958042,  0.89108911,  0.93877551,  0.        ,  0.9175705 ,\n",
       "         0.95322377,  0.94799406,  0.83596215,  0.81967213,  0.88679245,\n",
       "         0.943101  ,  0.92824641,  0.94622279,  0.        ,  0.        ,\n",
       "         0.        ,  0.        ,  0.80105634,  0.90977444,  0.92022263,\n",
       "         0.        ,  0.        ,  0.88888889,  0.94915254,  0.87735849,\n",
       "         0.        ,  0.81871345,  0.98133919,  0.        ,  0.67142857,\n",
       "         0.8767507 ,  0.        ,  0.85263158,  1.        ,  0.        ,\n",
       "         0.        ,  0.        ,  0.95552561,  0.        ,  0.        ,\n",
       "         0.78225806,  0.        ,  0.80384615,  0.        ,  0.9       ,\n",
       "         0.98571429,  1.        ,  0.        ,  0.95843521,  0.92053571,\n",
       "         0.83892617,  0.80851064,  0.        ,  0.8830303 ,  0.        ,\n",
       "         0.90909091,  0.        ,  0.        ,  1.        ,  0.96366594]),\n",
       " array([ 0.        ,  0.        ,  0.93229643,  0.69536424,  0.        ,\n",
       "         0.70058708,  0.50526316,  0.89389618,  0.        ,  0.        ,\n",
       "         0.        ,  0.79487179,  0.        ,  0.        ,  0.69151671,\n",
       "         0.        ,  0.45374449,  0.        ,  0.        ,  0.90014164,\n",
       "         0.87913256,  0.81958763,  0.88141391,  0.        ,  0.        ,\n",
       "         0.        ,  0.        ,  0.        ,  0.50387597,  0.86666667,\n",
       "         0.52380952,  0.02040816,  0.        ,  0.67080745,  0.9193761 ,\n",
       "         0.6768559 ,  0.81384526,  0.14893617,  0.7       ,  0.55875   ,\n",
       "         0.        ,  0.80969479,  0.        ,  0.        ,  0.52734375,\n",
       "         0.        ,  0.        ,  0.76616915,  0.95569137,  0.        ,\n",
       "         0.        ,  0.        ,  0.        ,  0.        ,  0.        ,\n",
       "         0.        ,  0.        ,  0.91727749,  0.01149425,  0.70580561,\n",
       "         0.06896552,  0.        ,  0.5       ,  0.50943396,  0.        ,\n",
       "         0.8061674 ,  0.        ,  0.05479452,  0.42405063,  0.        ,\n",
       "         0.1875    ,  0.        ,  0.82250396,  0.93639576,  0.96858072,\n",
       "         0.89722548,  0.        ,  0.94004014,  0.71518987,  0.        ,\n",
       "         0.9469862 ,  0.93826176,  0.        ,  0.81797235,  0.        ,\n",
       "         0.        ,  0.46666667,  0.5       ,  0.        ,  0.8953597 ,\n",
       "         0.83806725,  0.92360319,  0.        ,  0.69934641,  0.93060296,\n",
       "         0.85394352,  0.53759398,  0.        ,  0.59354839,  0.81967213,\n",
       "         0.81842818,  0.        ,  0.14893617,  0.89256198,  0.        ,\n",
       "         0.04347826,  0.81818182,  0.        ,  0.        ,  0.        ,\n",
       "         0.        ,  0.        ,  0.8251845 ,  0.792     ,  0.65463918,\n",
       "         0.64583333,  0.79844961,  0.90972222,  0.9583778 ,  0.        ,\n",
       "         0.69817579,  0.        ,  0.27884615,  0.        ,  0.        ,\n",
       "         0.        ,  0.        ,  0.        ,  0.89693037,  0.48888889,\n",
       "         0.89367753,  0.91985089,  0.        ,  0.30666667,  0.        ,\n",
       "         0.        ,  0.        ,  0.9       ,  0.81315396,  0.        ,\n",
       "         0.66344086,  0.86293436,  0.17647059,  0.        ,  0.        ,\n",
       "         0.        ,  0.90711823,  0.        ,  0.        ,  0.5465587 ,\n",
       "         0.97407407,  0.74792244,  0.67647059,  0.        ,  0.8245614 ,\n",
       "         0.83131202,  0.81585678,  0.74438202,  0.4587156 ,  0.81034483,\n",
       "         0.96086957,  0.91923744,  0.84360731,  0.        ,  0.        ,\n",
       "         0.        ,  0.        ,  0.71653543,  0.605     ,  0.85223368,\n",
       "         0.        ,  0.        ,  0.15686275,  0.72727273,  0.53448276,\n",
       "         0.        ,  0.77777778,  0.91317671,  0.        ,  0.49473684,\n",
       "         0.9253913 ,  0.        ,  0.92495922,  0.67346939,  0.        ,\n",
       "         0.        ,  0.        ,  0.96331522,  0.        ,  0.        ,\n",
       "         0.87282543,  0.        ,  0.58379888,  0.        ,  0.29032258,\n",
       "         0.71875   ,  0.15294118,  0.        ,  0.95261239,  0.85206612,\n",
       "         0.73746313,  0.63865546,  0.        ,  0.92449239,  0.        ,\n",
       "         0.13793103,  0.        ,  0.        ,  0.38235294,  0.9538379 ]),\n",
       " array([ 0.        ,  0.        ,  0.96268304,  0.74733096,  0.        ,\n",
       "         0.73662551,  0.65753425,  0.91879214,  0.        ,  0.        ,\n",
       "         0.        ,  0.84699454,  0.        ,  0.        ,  0.78770132,\n",
       "         0.        ,  0.59883721,  0.        ,  0.        ,  0.88172043,\n",
       "         0.88786301,  0.83270294,  0.91805226,  0.        ,  0.        ,\n",
       "         0.        ,  0.        ,  0.        ,  0.66666667,  0.90909091,\n",
       "         0.65346535,  0.04      ,  0.        ,  0.71052632,  0.89874369,\n",
       "         0.77306733,  0.82028731,  0.24242424,  0.76150628,  0.69734789,\n",
       "         0.        ,  0.86897881,  0.        ,  0.        ,  0.625     ,\n",
       "         0.        ,  0.        ,  0.82573727,  0.85831904,  0.        ,\n",
       "         0.        ,  0.        ,  0.        ,  0.        ,  0.        ,\n",
       "         0.        ,  0.        ,  0.91968504,  0.02222222,  0.80296846,\n",
       "         0.128     ,  0.        ,  0.61261261,  0.61663948,  0.        ,\n",
       "         0.80814524,  0.        ,  0.1038961 ,  0.56540084,  0.        ,\n",
       "         0.31034483,  0.        ,  0.85643564,  0.92982456,  0.9556387 ,\n",
       "         0.90571992,  0.        ,  0.95161905,  0.80427046,  0.        ,\n",
       "         0.9381295 ,  0.91213111,  0.        ,  0.74795891,  0.        ,\n",
       "         0.        ,  0.61764706,  0.6635514 ,  0.        ,  0.91706539,\n",
       "         0.89302487,  0.90100111,  0.        ,  0.70860927,  0.90737659,\n",
       "         0.90350275,  0.61637931,  0.        ,  0.66425993,  0.87719298,\n",
       "         0.86039886,  0.        ,  0.25925926,  0.89626556,  0.        ,\n",
       "         0.08333333,  0.87378641,  0.        ,  0.        ,  0.        ,\n",
       "         0.        ,  0.        ,  0.87846796,  0.84135977,  0.69972452,\n",
       "         0.72941176,  0.8046875 ,  0.93172119,  0.95888948,  0.        ,\n",
       "         0.79734848,  0.        ,  0.42028986,  0.        ,  0.        ,\n",
       "         0.        ,  0.        ,  0.        ,  0.8832637 ,  0.64390244,\n",
       "         0.90446142,  0.93732194,  0.        ,  0.44660194,  0.        ,\n",
       "         0.        ,  0.        ,  0.91903043,  0.88888889,  0.        ,\n",
       "         0.7785489 ,  0.89759036,  0.3       ,  0.        ,  0.        ,\n",
       "         0.        ,  0.91791504,  0.        ,  0.        ,  0.6870229 ,\n",
       "         0.94604317,  0.81325301,  0.78632479,  0.        ,  0.86858316,\n",
       "         0.88810365,  0.87697595,  0.78751857,  0.58823529,  0.84684685,\n",
       "         0.95190237,  0.92371996,  0.89197345,  0.        ,  0.        ,\n",
       "         0.        ,  0.        ,  0.75644223,  0.72672673,  0.88492417,\n",
       "         0.        ,  0.        ,  0.26666667,  0.82352941,  0.66428571,\n",
       "         0.        ,  0.7977208 ,  0.94603175,  0.        ,  0.56969697,\n",
       "         0.90041459,  0.        ,  0.88732394,  0.80487805,  0.        ,\n",
       "         0.        ,  0.        ,  0.9594046 ,  0.        ,  0.        ,\n",
       "         0.82506379,  0.        ,  0.6763754 ,  0.        ,  0.43902439,\n",
       "         0.8313253 ,  0.26530612,  0.        ,  0.95551493,  0.88497854,\n",
       "         0.78492936,  0.71361502,  0.        ,  0.9032858 ,  0.        ,\n",
       "         0.23952096,  0.        ,  0.        ,  0.55319149,  0.95872673]),\n",
       " array([   8,   60, 1093,  151,   12,  511,   95, 1753,    4,   21,   14,\n",
       "         195,   24,   11,  389,    5,  227,   10,    9, 1412, 9407, 1746,\n",
       "        1754,    1,   27,   23,   17,   29,  129,   75,  126,   49,    3,\n",
       "         322, 4552,  229, 3438,  188,  130,  800,    4,  557,   25,   35,\n",
       "         256,   70,    3,  201, 1309,    8,   26,   78,    5,    3,   41,\n",
       "          16,    1,  955,   87, 1533,  116,   45,   68,  371,   11, 2043,\n",
       "           8,   73,  158,    7,   48,   47,  631,  283,  923, 2559,    1,\n",
       "        3986,  158,   63, 1377, 8779,    3, 1736,    6,   39,   45,  142,\n",
       "          10, 3211, 3063,  877,   53,  306,  879, 3081,  266,   15,  155,\n",
       "          61,  369,    9,   47,  121,   16,   46,  110,   45,    3,   19,\n",
       "          10,   47, 2168,  375,  194,  192,  129,  720,  937,   25, 1206,\n",
       "           5,  104,   10,   18,   25,    6,   32, 4007,  135, 4571, 1073,\n",
       "           5,   75,   18,   35,   36,  990,  669,   23,  930,  518,   68,\n",
       "          38,   11,   17, 4931,    1,   13,  247, 1080,  722,  136,   31,\n",
       "         513,  907, 1564,  356,  109,  464, 1380, 2885,  876,   16,    2,\n",
       "          60,   11, 1270,  200, 1164,   32,    3,   51,   77,  174,   53,\n",
       "         180,  979,   59,  190, 5750,   55,  613,   49,   34,   23,   19,\n",
       "         736,   21,    7, 8335,   28,  358,    3,   62,  192,   85,    7,\n",
       "        1646, 1210,  339,  119,    6, 1576,    8,  145,   19,   30,   34,\n",
       "        1863]))"
      ]
     },
     "execution_count": 63,
     "metadata": {},
     "output_type": "execute_result"
    }
   ],
   "source": [
    "#average= None, the scores for each class are returned.\n",
    "precision_recall_fscore_support(y_train, y_pred, average=None, sample_weight=None)"
   ]
  },
  {
   "cell_type": "code",
   "execution_count": 64,
   "metadata": {},
   "outputs": [
    {
     "name": "stderr",
     "output_type": "stream",
     "text": [
      "/home/ubuntu/anaconda3/envs/govuk_taxonomy/lib/python3.6/site-packages/sklearn/metrics/classification.py:1135: UndefinedMetricWarning: Precision and F-score are ill-defined and being set to 0.0 in labels with no predicted samples.\n",
      "  'precision', 'predicted', average, warn_for)\n"
     ]
    }
   ],
   "source": [
    "a = precision_recall_fscore_support(y_train, y_pred, average=None, sample_weight=None)"
   ]
  },
  {
   "cell_type": "code",
   "execution_count": 65,
   "metadata": {},
   "outputs": [
    {
     "data": {
      "text/html": [
       "<div>\n",
       "<style scoped>\n",
       "    .dataframe tbody tr th:only-of-type {\n",
       "        vertical-align: middle;\n",
       "    }\n",
       "\n",
       "    .dataframe tbody tr th {\n",
       "        vertical-align: top;\n",
       "    }\n",
       "\n",
       "    .dataframe thead th {\n",
       "        text-align: right;\n",
       "    }\n",
       "</style>\n",
       "<table border=\"1\" class=\"dataframe\">\n",
       "  <thead>\n",
       "    <tr style=\"text-align: right;\">\n",
       "      <th></th>\n",
       "      <th>0</th>\n",
       "      <th>1</th>\n",
       "      <th>2</th>\n",
       "      <th>3</th>\n",
       "      <th>4</th>\n",
       "      <th>5</th>\n",
       "      <th>6</th>\n",
       "      <th>7</th>\n",
       "      <th>8</th>\n",
       "      <th>9</th>\n",
       "      <th>...</th>\n",
       "      <th>200</th>\n",
       "      <th>201</th>\n",
       "      <th>202</th>\n",
       "      <th>203</th>\n",
       "      <th>204</th>\n",
       "      <th>205</th>\n",
       "      <th>206</th>\n",
       "      <th>207</th>\n",
       "      <th>208</th>\n",
       "      <th>209</th>\n",
       "    </tr>\n",
       "  </thead>\n",
       "  <tbody>\n",
       "    <tr>\n",
       "      <th>0</th>\n",
       "      <td>0.0</td>\n",
       "      <td>0.0</td>\n",
       "      <td>0.995117</td>\n",
       "      <td>0.807692</td>\n",
       "      <td>0.0</td>\n",
       "      <td>0.776573</td>\n",
       "      <td>0.941176</td>\n",
       "      <td>0.945115</td>\n",
       "      <td>0.0</td>\n",
       "      <td>0.0</td>\n",
       "      <td>...</td>\n",
       "      <td>0.838926</td>\n",
       "      <td>0.808511</td>\n",
       "      <td>0.0</td>\n",
       "      <td>0.883030</td>\n",
       "      <td>0.0</td>\n",
       "      <td>0.909091</td>\n",
       "      <td>0.0</td>\n",
       "      <td>0.0</td>\n",
       "      <td>1.000000</td>\n",
       "      <td>0.963666</td>\n",
       "    </tr>\n",
       "    <tr>\n",
       "      <th>1</th>\n",
       "      <td>0.0</td>\n",
       "      <td>0.0</td>\n",
       "      <td>0.932296</td>\n",
       "      <td>0.695364</td>\n",
       "      <td>0.0</td>\n",
       "      <td>0.700587</td>\n",
       "      <td>0.505263</td>\n",
       "      <td>0.893896</td>\n",
       "      <td>0.0</td>\n",
       "      <td>0.0</td>\n",
       "      <td>...</td>\n",
       "      <td>0.737463</td>\n",
       "      <td>0.638655</td>\n",
       "      <td>0.0</td>\n",
       "      <td>0.924492</td>\n",
       "      <td>0.0</td>\n",
       "      <td>0.137931</td>\n",
       "      <td>0.0</td>\n",
       "      <td>0.0</td>\n",
       "      <td>0.382353</td>\n",
       "      <td>0.953838</td>\n",
       "    </tr>\n",
       "    <tr>\n",
       "      <th>2</th>\n",
       "      <td>0.0</td>\n",
       "      <td>0.0</td>\n",
       "      <td>0.962683</td>\n",
       "      <td>0.747331</td>\n",
       "      <td>0.0</td>\n",
       "      <td>0.736626</td>\n",
       "      <td>0.657534</td>\n",
       "      <td>0.918792</td>\n",
       "      <td>0.0</td>\n",
       "      <td>0.0</td>\n",
       "      <td>...</td>\n",
       "      <td>0.784929</td>\n",
       "      <td>0.713615</td>\n",
       "      <td>0.0</td>\n",
       "      <td>0.903286</td>\n",
       "      <td>0.0</td>\n",
       "      <td>0.239521</td>\n",
       "      <td>0.0</td>\n",
       "      <td>0.0</td>\n",
       "      <td>0.553191</td>\n",
       "      <td>0.958727</td>\n",
       "    </tr>\n",
       "    <tr>\n",
       "      <th>3</th>\n",
       "      <td>8.0</td>\n",
       "      <td>60.0</td>\n",
       "      <td>1093.000000</td>\n",
       "      <td>151.000000</td>\n",
       "      <td>12.0</td>\n",
       "      <td>511.000000</td>\n",
       "      <td>95.000000</td>\n",
       "      <td>1753.000000</td>\n",
       "      <td>4.0</td>\n",
       "      <td>21.0</td>\n",
       "      <td>...</td>\n",
       "      <td>339.000000</td>\n",
       "      <td>119.000000</td>\n",
       "      <td>6.0</td>\n",
       "      <td>1576.000000</td>\n",
       "      <td>8.0</td>\n",
       "      <td>145.000000</td>\n",
       "      <td>19.0</td>\n",
       "      <td>30.0</td>\n",
       "      <td>34.000000</td>\n",
       "      <td>1863.000000</td>\n",
       "    </tr>\n",
       "  </tbody>\n",
       "</table>\n",
       "<p>4 rows × 210 columns</p>\n",
       "</div>"
      ],
      "text/plain": [
       "   0     1            2           3     4           5          6    \\\n",
       "0  0.0   0.0     0.995117    0.807692   0.0    0.776573   0.941176   \n",
       "1  0.0   0.0     0.932296    0.695364   0.0    0.700587   0.505263   \n",
       "2  0.0   0.0     0.962683    0.747331   0.0    0.736626   0.657534   \n",
       "3  8.0  60.0  1093.000000  151.000000  12.0  511.000000  95.000000   \n",
       "\n",
       "           7    8     9       ...              200         201  202  \\\n",
       "0     0.945115  0.0   0.0     ...         0.838926    0.808511  0.0   \n",
       "1     0.893896  0.0   0.0     ...         0.737463    0.638655  0.0   \n",
       "2     0.918792  0.0   0.0     ...         0.784929    0.713615  0.0   \n",
       "3  1753.000000  4.0  21.0     ...       339.000000  119.000000  6.0   \n",
       "\n",
       "           203  204         205   206   207        208          209  \n",
       "0     0.883030  0.0    0.909091   0.0   0.0   1.000000     0.963666  \n",
       "1     0.924492  0.0    0.137931   0.0   0.0   0.382353     0.953838  \n",
       "2     0.903286  0.0    0.239521   0.0   0.0   0.553191     0.958727  \n",
       "3  1576.000000  8.0  145.000000  19.0  30.0  34.000000  1863.000000  \n",
       "\n",
       "[4 rows x 210 columns]"
      ]
     },
     "execution_count": 65,
     "metadata": {},
     "output_type": "execute_result"
    }
   ],
   "source": [
    "pd.DataFrame(list(a))"
   ]
  },
  {
   "cell_type": "code",
   "execution_count": 66,
   "metadata": {},
   "outputs": [],
   "source": [
    "f1_byclass = pd.DataFrame((a)[2], columns=['f1'])\n"
   ]
  },
  {
   "cell_type": "code",
   "execution_count": 67,
   "metadata": {},
   "outputs": [],
   "source": [
    "support_byclass = pd.DataFrame((a)[3], columns=['support'])\n",
    "\n",
    "f1_byclass = pd.merge(\n",
    "    left=f1_byclass, \n",
    "    right=support_byclass, \n",
    "    left_index=True,\n",
    "    right_index=True,\n",
    "    how='outer', \n",
    "    validate='one_to_one'\n",
    ")\n",
    "\n",
    "f1_byclass['index_col'] = f1_byclass.index"
   ]
  },
  {
   "cell_type": "code",
   "execution_count": 68,
   "metadata": {},
   "outputs": [],
   "source": [
    "f1_byclass['level2taxon'] = f1_byclass['index_col'].map(labels_index).copy()"
   ]
  },
  {
   "cell_type": "code",
   "execution_count": 69,
   "metadata": {},
   "outputs": [
    {
     "name": "stdout",
     "output_type": "stream",
     "text": [
      "At p_threshold of 0.4, there were 121 out of 210 (57.61904761904761)% taxons with auto-tagged content\n"
     ]
    }
   ],
   "source": [
    "print(\"At p_threshold of {}, there were {} out of {} ({})% taxons with auto-tagged content\"\n",
    "      .format(P_THRESHOLD, \n",
    "              f1_byclass.loc[f1_byclass['f1'] > 0].shape[0], \n",
    "              y_pred.shape[1], \n",
    "              (f1_byclass.loc[f1_byclass['f1'] > 0].shape[0]/y_pred.shape[1])*100 ))"
   ]
  },
  {
   "cell_type": "code",
   "execution_count": 70,
   "metadata": {},
   "outputs": [],
   "source": [
    "no_auto_content = f1_byclass.loc[f1_byclass['f1'] == 0]\n",
    "no_auto_content = no_auto_content.set_index('level2taxon')"
   ]
  },
  {
   "cell_type": "code",
   "execution_count": 71,
   "metadata": {},
   "outputs": [
    {
     "name": "stderr",
     "output_type": "stream",
     "text": [
      "/home/ubuntu/anaconda3/envs/govuk_taxonomy/lib/python3.6/site-packages/matplotlib/font_manager.py:279: UserWarning: Matplotlib is building the font cache using fc-list. This may take a moment.\n",
      "  'Matplotlib is building the font cache using fc-list. '\n"
     ]
    },
    {
     "data": {
      "text/plain": [
       "<matplotlib.axes._subplots.AxesSubplot at 0x7fd954346828>"
      ]
     },
     "execution_count": 71,
     "metadata": {},
     "output_type": "execute_result"
    }
   ],
   "source": [
    "no_auto_content['support'].sort_values().plot( kind = 'barh', figsize=(20, 20))"
   ]
  },
  {
   "cell_type": "code",
   "execution_count": 72,
   "metadata": {},
   "outputs": [],
   "source": [
    "classes_predictedto = f1_byclass.loc[f1_byclass['f1'] > 0]\n",
    "classes_predictedto = classes_predictedto.set_index('level2taxon') "
   ]
  },
  {
   "cell_type": "code",
   "execution_count": 73,
   "metadata": {},
   "outputs": [
    {
     "data": {
      "text/plain": [
       "<matplotlib.axes._subplots.AxesSubplot at 0x7fd93f4a2550>"
      ]
     },
     "execution_count": 73,
     "metadata": {},
     "output_type": "execute_result"
    }
   ],
   "source": [
    "classes_predictedto.plot.scatter(x='support', y='f1', figsize=(10, 20), xticks=np.arange(0, 9700, 100))"
   ]
  },
  {
   "cell_type": "code",
   "execution_count": 74,
   "metadata": {},
   "outputs": [
    {
     "data": {
      "text/plain": [
       "<matplotlib.axes._subplots.AxesSubplot at 0x7fd93f4a2550>"
      ]
     },
     "execution_count": 74,
     "metadata": {},
     "output_type": "execute_result"
    }
   ],
   "source": [
    "classes_predictedto['f1'].sort_values().plot( kind = 'barh', figsize=(20, 20))"
   ]
  },
  {
   "cell_type": "code",
   "execution_count": 75,
   "metadata": {},
   "outputs": [
    {
     "data": {
      "text/plain": [
       "(0.89209777659349354, 0.84769883824843606, 0.86933178553290291, None)"
      ]
     },
     "execution_count": 75,
     "metadata": {},
     "output_type": "execute_result"
    }
   ],
   "source": [
    "#Calculate globally by counting the total true positives, false negatives and false positives.\n",
    "precision_recall_fscore_support(y_train, y_pred, average='micro', sample_weight=None) "
   ]
  },
  {
   "cell_type": "code",
   "execution_count": 76,
   "metadata": {},
   "outputs": [
    {
     "name": "stderr",
     "output_type": "stream",
     "text": [
      "/home/ubuntu/anaconda3/envs/govuk_taxonomy/lib/python3.6/site-packages/sklearn/metrics/classification.py:1135: UndefinedMetricWarning: Precision and F-score are ill-defined and being set to 0.0 in labels with no predicted samples.\n",
      "  'precision', 'predicted', average, warn_for)\n"
     ]
    },
    {
     "data": {
      "text/plain": [
       "(0.51256145742465209, 0.39793437745990079, 0.42912917918654758, None)"
      ]
     },
     "execution_count": 76,
     "metadata": {},
     "output_type": "execute_result"
    }
   ],
   "source": [
    "#Calculate metrics for each label, and find their unweighted mean. This does not take label imbalance into account\n",
    "precision_recall_fscore_support(y_train, y_pred, average='macro', sample_weight=None)"
   ]
  },
  {
   "cell_type": "markdown",
   "metadata": {},
   "source": [
    "#### Validation metrics"
   ]
  },
  {
   "cell_type": "code",
   "execution_count": 77,
   "metadata": {},
   "outputs": [],
   "source": [
    "y_pred_val = model.predict(x_val)"
   ]
  },
  {
   "cell_type": "code",
   "execution_count": 78,
   "metadata": {},
   "outputs": [],
   "source": [
    "y_pred_val[y_pred_val>=P_THRESHOLD] = 1\n",
    "y_pred_val[y_pred_val<P_THRESHOLD] = 0"
   ]
  },
  {
   "cell_type": "code",
   "execution_count": 79,
   "metadata": {},
   "outputs": [
    {
     "name": "stderr",
     "output_type": "stream",
     "text": [
      "/home/ubuntu/anaconda3/envs/govuk_taxonomy/lib/python3.6/site-packages/sklearn/metrics/classification.py:1135: UndefinedMetricWarning: Precision and F-score are ill-defined and being set to 0.0 in labels with no predicted samples.\n",
      "  'precision', 'predicted', average, warn_for)\n",
      "/home/ubuntu/anaconda3/envs/govuk_taxonomy/lib/python3.6/site-packages/sklearn/metrics/classification.py:1137: UndefinedMetricWarning: Recall and F-score are ill-defined and being set to 0.0 in labels with no true samples.\n",
      "  'recall', 'true', average, warn_for)\n"
     ]
    },
    {
     "data": {
      "text/plain": [
       "(array([ 0.        ,  0.        ,  0.94776119,  0.4       ,  0.        ,\n",
       "         0.50943396,  0.        ,  0.72767857,  0.        ,  0.        ,\n",
       "         0.        ,  0.72      ,  0.        ,  0.        ,  0.68      ,\n",
       "         0.        ,  0.4       ,  0.        ,  0.        ,  0.77058824,\n",
       "         0.74295474,  0.60309278,  0.84951456,  0.        ,  0.        ,\n",
       "         0.        ,  0.        ,  0.        ,  0.83333333,  0.77777778,\n",
       "         0.90909091,  0.        ,  0.        ,  0.55172414,  0.78402904,\n",
       "         0.63157895,  0.61627907,  0.25      ,  0.55555556,  0.66666667,\n",
       "         0.        ,  0.71698113,  0.        ,  0.        ,  0.35      ,\n",
       "         0.        ,  0.        ,  0.73684211,  0.58706468,  0.        ,\n",
       "         0.        ,  0.        ,  0.        ,  0.        ,  0.        ,\n",
       "         0.        ,  0.        ,  0.74137931,  0.        ,  0.78151261,\n",
       "         0.        ,  0.        ,  1.        ,  0.38888889,  0.        ,\n",
       "         0.50974026,  0.        ,  0.        ,  0.5       ,  0.        ,\n",
       "         0.        ,  0.        ,  0.55913978,  0.8125    ,  0.8317757 ,\n",
       "         0.78481013,  0.        ,  0.82239382,  0.5       ,  0.        ,\n",
       "         0.79545455,  0.76147541,  0.        ,  0.44561404,  0.        ,\n",
       "         0.        ,  0.5       ,  0.85714286,  0.        ,  0.8356546 ,\n",
       "         0.86769231,  0.55645161,  0.        ,  0.21875   ,  0.66393443,\n",
       "         0.85460993,  0.2       ,  0.        ,  0.5625    ,  1.        ,\n",
       "         0.59259259,  0.        ,  1.        ,  0.63636364,  0.        ,\n",
       "         0.        ,  0.9       ,  0.        ,  0.        ,  0.        ,\n",
       "         0.        ,  0.        ,  0.75769231,  0.6       ,  0.55      ,\n",
       "         0.58333333,  0.55555556,  0.87951807,  0.92783505,  0.        ,\n",
       "         0.75238095,  0.        ,  1.        ,  0.        ,  0.        ,\n",
       "         0.        ,  0.        ,  0.        ,  0.72115385,  0.5       ,\n",
       "         0.80727273,  0.79508197,  0.        ,  0.4       ,  0.        ,\n",
       "         0.        ,  0.        ,  0.76859504,  0.81666667,  0.        ,\n",
       "         0.87058824,  0.68333333,  0.        ,  0.        ,  0.        ,\n",
       "         0.        ,  0.85472973,  0.        ,  0.        ,  0.81818182,\n",
       "         0.8597561 ,  0.65277778,  0.5       ,  0.        ,  0.55319149,\n",
       "         0.75      ,  0.72093023,  0.53846154,  0.5       ,  0.63043478,\n",
       "         0.83615819,  0.77053824,  0.69333333,  0.        ,  0.        ,\n",
       "         0.        ,  0.        ,  0.4966443 ,  0.78571429,  0.77952756,\n",
       "         0.        ,  0.        ,  0.        ,  1.        ,  0.77777778,\n",
       "         0.        ,  0.52941176,  0.87719298,  0.        ,  0.33333333,\n",
       "         0.7284264 ,  0.        ,  0.65882353,  1.        ,  0.        ,\n",
       "         0.        ,  0.        ,  0.88421053,  0.        ,  0.        ,\n",
       "         0.62359551,  0.        ,  0.55555556,  0.        ,  1.        ,\n",
       "         1.        ,  1.        ,  0.        ,  0.9281768 ,  0.75438596,\n",
       "         0.53846154,  0.6       ,  0.        ,  0.74770642,  0.        ,\n",
       "         0.        ,  0.        ,  0.        ,  1.        ,  0.90654206]),\n",
       " array([ 0.        ,  0.        ,  0.79375   ,  0.31578947,  0.        ,\n",
       "         0.38028169,  0.        ,  0.71179039,  0.        ,  0.        ,\n",
       "         0.        ,  0.62068966,  0.        ,  0.        ,  0.36956522,\n",
       "         0.        ,  0.15384615,  0.        ,  0.        ,  0.74011299,\n",
       "         0.74935401,  0.57635468,  0.73221757,  0.        ,  0.        ,\n",
       "         0.        ,  0.        ,  0.        ,  0.38461538,  0.5       ,\n",
       "         0.41666667,  0.        ,  0.        ,  0.36363636,  0.78688525,\n",
       "         0.4       ,  0.56382979,  0.07142857,  0.26315789,  0.33043478,\n",
       "         0.        ,  0.46341463,  0.        ,  0.        ,  0.22580645,\n",
       "         0.        ,  0.        ,  0.51851852,  0.7972973 ,  0.        ,\n",
       "         0.        ,  0.        ,  0.        ,  0.        ,  0.        ,\n",
       "         0.        ,  0.        ,  0.73504274,  0.        ,  0.50543478,\n",
       "         0.        ,  0.        ,  0.28571429,  0.14893617,  0.        ,\n",
       "         0.61089494,  0.        ,  0.        ,  0.08333333,  0.        ,\n",
       "         0.        ,  0.        ,  0.57777778,  0.72222222,  0.87254902,\n",
       "         0.71060172,  0.        ,  0.79626168,  0.2       ,  0.        ,\n",
       "         0.78651685,  0.83020554,  0.        ,  0.62561576,  0.        ,\n",
       "         0.        ,  0.33333333,  0.25      ,  0.        ,  0.80645161,\n",
       "         0.72122762,  0.67647059,  0.        ,  0.17948718,  0.8019802 ,\n",
       "         0.71513353,  0.26923077,  0.        ,  0.31034483,  0.5       ,\n",
       "         0.45714286,  0.        ,  0.25      ,  0.7       ,  0.        ,\n",
       "         0.        ,  0.5625    ,  0.        ,  0.        ,  0.        ,\n",
       "         0.        ,  0.        ,  0.68641115,  0.53333333,  0.44      ,\n",
       "         0.53846154,  0.55555556,  0.77659574,  0.81818182,  0.        ,\n",
       "         0.53020134,  0.        ,  0.08333333,  0.        ,  0.        ,\n",
       "         0.        ,  0.        ,  0.        ,  0.78125   ,  0.05      ,\n",
       "         0.7338843 ,  0.7238806 ,  0.        ,  0.25      ,  0.        ,\n",
       "         0.        ,  0.        ,  0.69924812,  0.62025316,  0.        ,\n",
       "         0.60655738,  0.67213115,  0.        ,  0.        ,  0.        ,\n",
       "         0.        ,  0.80830671,  0.        ,  0.        ,  0.31034483,\n",
       "         0.86503067,  0.47959184,  0.25      ,  0.        ,  0.41935484,\n",
       "         0.66990291,  0.55357143,  0.3255814 ,  0.17647059,  0.54716981,\n",
       "         0.84571429,  0.73712737,  0.50485437,  0.        ,  0.        ,\n",
       "         0.        ,  0.        ,  0.46540881,  0.55      ,  0.66891892,\n",
       "         0.        ,  0.        ,  0.        ,  0.83333333,  0.30434783,\n",
       "         0.        ,  0.40909091,  0.82644628,  0.        ,  0.23333333,\n",
       "         0.78630137,  0.        ,  0.70886076,  0.66666667,  0.        ,\n",
       "         0.        ,  0.        ,  0.84      ,  0.        ,  0.        ,\n",
       "         0.69811321,  0.        ,  0.30612245,  0.        ,  0.27272727,\n",
       "         0.44      ,  0.2       ,  0.        ,  0.83168317,  0.59722222,\n",
       "         0.36842105,  0.17647059,  0.        ,  0.67916667,  0.        ,\n",
       "         0.        ,  0.        ,  0.        ,  0.25      ,  0.86607143]),\n",
       " array([ 0.        ,  0.        ,  0.86394558,  0.35294118,  0.        ,\n",
       "         0.43548387,  0.        ,  0.7196468 ,  0.        ,  0.        ,\n",
       "         0.        ,  0.66666667,  0.        ,  0.        ,  0.47887324,\n",
       "         0.        ,  0.22222222,  0.        ,  0.        ,  0.75504323,\n",
       "         0.74614065,  0.58942065,  0.78651685,  0.        ,  0.        ,\n",
       "         0.        ,  0.        ,  0.        ,  0.52631579,  0.60869565,\n",
       "         0.57142857,  0.        ,  0.        ,  0.43835616,  0.78545455,\n",
       "         0.48979592,  0.58888889,  0.11111111,  0.35714286,  0.44186047,\n",
       "         0.        ,  0.56296296,  0.        ,  0.        ,  0.2745098 ,\n",
       "         0.        ,  0.        ,  0.60869565,  0.67621777,  0.        ,\n",
       "         0.        ,  0.        ,  0.        ,  0.        ,  0.        ,\n",
       "         0.        ,  0.        ,  0.73819742,  0.        ,  0.61386139,\n",
       "         0.        ,  0.        ,  0.44444444,  0.21538462,  0.        ,\n",
       "         0.55575221,  0.        ,  0.        ,  0.14285714,  0.        ,\n",
       "         0.        ,  0.        ,  0.56830601,  0.76470588,  0.85167464,\n",
       "         0.74586466,  0.        ,  0.80911681,  0.28571429,  0.        ,\n",
       "         0.79096045,  0.79435656,  0.        ,  0.5204918 ,  0.        ,\n",
       "         0.        ,  0.4       ,  0.38709677,  0.        ,  0.82079343,\n",
       "         0.7877095 ,  0.61061947,  0.        ,  0.1971831 ,  0.7264574 ,\n",
       "         0.77867528,  0.2295082 ,  0.        ,  0.4       ,  0.66666667,\n",
       "         0.51612903,  0.        ,  0.4       ,  0.66666667,  0.        ,\n",
       "         0.        ,  0.69230769,  0.        ,  0.        ,  0.        ,\n",
       "         0.        ,  0.        ,  0.7202925 ,  0.56470588,  0.48888889,\n",
       "         0.56      ,  0.55555556,  0.82485876,  0.86956522,  0.        ,\n",
       "         0.62204724,  0.        ,  0.15384615,  0.        ,  0.        ,\n",
       "         0.        ,  0.        ,  0.        ,  0.75      ,  0.09090909,\n",
       "         0.76883117,  0.7578125 ,  0.        ,  0.30769231,  0.        ,\n",
       "         0.        ,  0.        ,  0.73228346,  0.70503597,  0.        ,\n",
       "         0.71497585,  0.67768595,  0.        ,  0.        ,  0.        ,\n",
       "         0.        ,  0.83087028,  0.        ,  0.        ,  0.45      ,\n",
       "         0.86238532,  0.55294118,  0.33333333,  0.        ,  0.47706422,\n",
       "         0.70769231,  0.62626263,  0.4057971 ,  0.26086957,  0.58585859,\n",
       "         0.84090909,  0.7534626 ,  0.58426966,  0.        ,  0.        ,\n",
       "         0.        ,  0.        ,  0.48051948,  0.64705882,  0.72      ,\n",
       "         0.        ,  0.        ,  0.        ,  0.90909091,  0.4375    ,\n",
       "         0.        ,  0.46153846,  0.85106383,  0.        ,  0.2745098 ,\n",
       "         0.75625823,  0.        ,  0.68292683,  0.8       ,  0.        ,\n",
       "         0.        ,  0.        ,  0.86153846,  0.        ,  0.        ,\n",
       "         0.65875371,  0.        ,  0.39473684,  0.        ,  0.42857143,\n",
       "         0.61111111,  0.33333333,  0.        ,  0.8772846 ,  0.66666667,\n",
       "         0.4375    ,  0.27272727,  0.        ,  0.71179039,  0.        ,\n",
       "         0.        ,  0.        ,  0.        ,  0.4       ,  0.88584475]),\n",
       " array([   1,    3,  160,   19,    1,   71,   16,  229,    0,    5,    1,\n",
       "          29,    5,    1,   46,    0,   26,    1,    1,  177, 1161,  203,\n",
       "         239,    0,    4,    4,    5,    6,   13,   14,   24,    6,    0,\n",
       "          44,  549,   30,  470,   28,   19,  115,    1,   82,    5,    5,\n",
       "          31,    7,    1,   27,  148,    2,    9,    7,    0,    1,    4,\n",
       "           0,    0,  117,    7,  184,   13,    3,    7,   47,    1,  257,\n",
       "           1,   13,   12,    0,    7,    3,   90,   36,  102,  349,    1,\n",
       "         535,   15,   15,  178, 1119,    0,  203,    1,    4,    3,   24,\n",
       "           0,  372,  391,  102,    7,   39,  101,  337,   26,    6,   29,\n",
       "           8,   35,    1,    4,   10,    2,    4,   16,    6,    1,    3,\n",
       "           2,    6,  287,   45,   25,   26,    9,   94,  110,    5,  149,\n",
       "           1,   12,    2,    3,    4,    2,    5,  480,   20,  605,  134,\n",
       "           1,    8,    2,    1,    2,  133,   79,    6,  122,   61,    6,\n",
       "           6,    1,    1,  626,    0,    1,   29,  163,   98,   16,    5,\n",
       "          62,  103,  168,   43,   17,   53,  175,  369,  103,    2,    0,\n",
       "          10,    5,  159,   20,  148,    3,    0,    4,    6,   23,    5,\n",
       "          22,  121,    5,   30,  730,    8,   79,    6,    7,    0,    3,\n",
       "         100,    3,    1, 1113,    3,   49,    1,   11,   25,    5,    2,\n",
       "         202,  144,   38,   17,    0,  240,    0,   22,    3,    0,    4,\n",
       "         224]))"
      ]
     },
     "execution_count": 79,
     "metadata": {},
     "output_type": "execute_result"
    }
   ],
   "source": [
    "#average= None, the scores for each class are returned.\n",
    "precision_recall_fscore_support(y_val, y_pred_val, average=None, sample_weight=None)"
   ]
  },
  {
   "cell_type": "code",
   "execution_count": 80,
   "metadata": {},
   "outputs": [
    {
     "data": {
      "text/plain": [
       "(0.73569706964353676, 0.68261534839924676, 0.70816289150741807, None)"
      ]
     },
     "execution_count": 80,
     "metadata": {},
     "output_type": "execute_result"
    }
   ],
   "source": [
    "#Calculate globally by counting the total true positives, false negatives and false positives.\n",
    "precision_recall_fscore_support(y_val, y_pred_val, average='micro', sample_weight=None) "
   ]
  },
  {
   "cell_type": "code",
   "execution_count": 81,
   "metadata": {},
   "outputs": [
    {
     "name": "stderr",
     "output_type": "stream",
     "text": [
      "/home/ubuntu/anaconda3/envs/govuk_taxonomy/lib/python3.6/site-packages/sklearn/metrics/classification.py:1135: UndefinedMetricWarning: Precision and F-score are ill-defined and being set to 0.0 in labels with no predicted samples.\n",
      "  'precision', 'predicted', average, warn_for)\n",
      "/home/ubuntu/anaconda3/envs/govuk_taxonomy/lib/python3.6/site-packages/sklearn/metrics/classification.py:1137: UndefinedMetricWarning: Recall and F-score are ill-defined and being set to 0.0 in labels with no true samples.\n",
      "  'recall', 'true', average, warn_for)\n"
     ]
    },
    {
     "data": {
      "text/plain": [
       "(0.37119671647455299, 0.28011837432387876, 0.30703269497579072, None)"
      ]
     },
     "execution_count": 81,
     "metadata": {},
     "output_type": "execute_result"
    }
   ],
   "source": [
    "#Calculate metrics for each label, and find their unweighted mean. This does not take label imbalance into account\n",
    "precision_recall_fscore_support(y_val, y_pred_val, average='macro', sample_weight=None)"
   ]
  },
  {
   "cell_type": "markdown",
   "metadata": {},
   "source": [
    "## Tag unlabelled content"
   ]
  },
  {
   "cell_type": "code",
   "execution_count": 82,
   "metadata": {},
   "outputs": [],
   "source": [
    "def get_predictions(df, level1taxon=False):\n",
    "    #process data for model input\n",
    "    texts = df['combined_text']\n",
    "    tokenizer = Tokenizer(num_words=20000)\n",
    "    tokenizer.fit_on_texts(texts)\n",
    "    sequences = tokenizer.texts_to_sequences(texts) #yield one sequence per input text\n",
    "\n",
    "    word_index = tokenizer.word_index\n",
    "    print('Found %s unique tokens.' % len(word_index))\n",
    "\n",
    "    x_new = pad_sequences(sequences, maxlen= MAX_SEQUENCE_LENGTH) #MAX_SEQUENCE_LENGTH\n",
    "    \n",
    "    print('Shape of untagged tensor:', x_new.shape)\n",
    "    \n",
    "    #predict tag for untagged data\n",
    "    y_pred_new = model.predict(x_new)\n",
    "    \n",
    "    #get model output into pandas & get a column to track index for later merge\n",
    "    y_pred_new = pd.DataFrame(y_pred_new)\n",
    "    y_pred_new['index_col'] = y_pred_new.index\n",
    "    \n",
    "    #Make long by taxon so easier to filter rows and examine effect of p_threshold\n",
    "    y_pred_new = pd.melt(y_pred_new, id_vars=['index_col'],\n",
    "                             var_name='level2taxon_code', value_name='probability')\n",
    "    \n",
    "    #get taxon names\n",
    "    y_pred_new['level2taxon'] = y_pred_new['level2taxon_code'].map(labels_index)\n",
    "    \n",
    "    if level1taxon==False:\n",
    "        #get the info about the content\n",
    "        new_info = df[[ 'base_path', 'content_id', 'title', 'description', \n",
    "                   'document_type', 'publishing_app', 'locale']]\n",
    "    else:\n",
    "        new_info = df[[ 'base_path', 'content_id', 'title', 'description', \n",
    "                   'document_type', 'publishing_app', 'locale', 'level1taxon']]\n",
    "    \n",
    "    \n",
    "    #merge content info with taxon prediction\n",
    "    pred_new = pd.merge(\n",
    "    left=new_info, \n",
    "    right=y_pred_new, \n",
    "    left_index=True,\n",
    "    right_on='index_col',\n",
    "    how='outer'\n",
    "    )\n",
    "    \n",
    "    #drop the cols needed for mergingin and naming\n",
    "    pred_new.drop(['level2taxon_code', 'index_col'], axis=1, inplace = True)\n",
    "    \n",
    "    return pred_new\n",
    "    "
   ]
  },
  {
   "cell_type": "markdown",
   "metadata": {},
   "source": [
    "### Labelled at level1only"
   ]
  },
  {
   "cell_type": "code",
   "execution_count": 84,
   "metadata": {},
   "outputs": [],
   "source": [
    "#read in untagged content\n",
    "untagged_raw = pd.read_csv(os.path.join(DATADIR, 'untagged_content.csv.gz'), dtype=object, compression='gzip')"
   ]
  },
  {
   "cell_type": "code",
   "execution_count": 85,
   "metadata": {},
   "outputs": [],
   "source": [
    "#make a copy so you can edit data without needed to read in each time\n",
    "untagged_df = untagged_raw.copy()"
   ]
  },
  {
   "cell_type": "code",
   "execution_count": 86,
   "metadata": {},
   "outputs": [
    {
     "name": "stdout",
     "output_type": "stream",
     "text": [
      "Found 157451 unique tokens.\n",
      "Shape of untagged tensor: (57337, 1000)\n"
     ]
    }
   ],
   "source": [
    "pred_untagged = get_predictions(untagged_df )"
   ]
  },
  {
   "cell_type": "code",
   "execution_count": 87,
   "metadata": {},
   "outputs": [],
   "source": [
    "#keep only rows where prob of taxon > 0.5\n",
    "pred_untagged = pred_untagged.loc[pred_untagged['probability'] > 0.5]"
   ]
  },
  {
   "cell_type": "code",
   "execution_count": 88,
   "metadata": {},
   "outputs": [],
   "source": [
    "#write to csv\n",
    "pred_untagged.to_csv(os.path.join(DATADIR, 'predictions_for_untagged.csv.gz'), index=False, compression='gzip')"
   ]
  },
  {
   "cell_type": "markdown",
   "metadata": {},
   "source": [
    "### Untagged (includes old tags)"
   ]
  },
  {
   "cell_type": "code",
   "execution_count": 89,
   "metadata": {},
   "outputs": [],
   "source": [
    "labelled_level1 = pd.read_csv(os.path.join(DATADIR, 'labelled_level1.csv.gz'), dtype=object, compression='gzip')"
   ]
  },
  {
   "cell_type": "code",
   "execution_count": 90,
   "metadata": {},
   "outputs": [
    {
     "name": "stdout",
     "output_type": "stream",
     "text": [
      "Found 101038 unique tokens.\n",
      "Shape of untagged tensor: (32358, 1000)\n"
     ]
    }
   ],
   "source": [
    "pred_labelled_level1 = get_predictions(labelled_level1)"
   ]
  },
  {
   "cell_type": "code",
   "execution_count": 91,
   "metadata": {},
   "outputs": [],
   "source": [
    "#keep only rows where prob of taxon > 0.5\n",
    "pred_labelled_level1 = pred_labelled_level1.loc[pred_labelled_level1['probability'] > 0.5]"
   ]
  },
  {
   "cell_type": "code",
   "execution_count": 92,
   "metadata": {},
   "outputs": [],
   "source": [
    "#write to csv\n",
    "pred_labelled_level1.to_csv(os.path.join(DATADIR, 'predictions_for_level1only.csv.gz'), index=False, compression='gzip')"
   ]
  },
  {
   "cell_type": "code",
   "execution_count": null,
   "metadata": {},
   "outputs": [],
   "source": []
  }
 ],
 "metadata": {
  "keep_output": true,
  "kernelspec": {
   "display_name": "Environment (conda_govuk_taxonomy)",
   "language": "python",
   "name": "conda_govuk_taxonomy"
  },
  "language_info": {
   "codemirror_mode": {
    "name": "ipython",
    "version": 3
   },
   "file_extension": ".py",
   "mimetype": "text/x-python",
   "name": "python",
   "nbconvert_exporter": "python",
   "pygments_lexer": "ipython3",
   "version": "3.6.3"
  }
 },
 "nbformat": 4,
 "nbformat_minor": 2
}
