{
 "cells": [
  {
   "cell_type": "code",
   "execution_count": 48,
   "metadata": {},
   "outputs": [],
   "source": [
    "import numpy as np\n",
    "import pandas as pd\n",
    "from lxml import etree\n",
    "import json\n",
    "from pandas.io.json import json_normalize"
   ]
  },
  {
   "cell_type": "code",
   "execution_count": 22,
   "metadata": {},
   "outputs": [],
   "source": [
    "# Get data file locations\n",
    "\n",
    "CONTENT_INPUT = '../../data/raw_content.json'\n",
    "CONTENT_OUTPUT = '../../data/clean_content.csv'"
   ]
  },
  {
   "cell_type": "code",
   "execution_count": 54,
   "metadata": {},
   "outputs": [],
   "source": [
    "#download the taxon data from content store for all links which are taxons\n",
    "content = pd.read_json(\n",
    "    CONTENT_INPUT, \n",
    "    orient='table', \n",
    "    typ='frame', \n",
    "    dtype=True, \n",
    "    convert_axes=True, \n",
    "    convert_dates=True, \n",
    "    keep_default_dates=True, \n",
    "    numpy=False, \n",
    "    precise_float=False, \n",
    "    date_unit=None\n",
    ")\n"
   ]
  },
  {
   "cell_type": "code",
   "execution_count": 50,
   "metadata": {},
   "outputs": [],
   "source": [
    "#with open(CONTENT_INPUT, 'r') as f:\n",
    "     #data = json.load(f)"
   ]
  },
  {
   "cell_type": "code",
   "execution_count": 51,
   "metadata": {},
   "outputs": [],
   "source": [
    "#result = json_normalize(data)"
   ]
  },
  {
   "cell_type": "code",
   "execution_count": 56,
   "metadata": {
    "scrolled": true
   },
   "outputs": [
    {
     "data": {
      "text/html": [
       "<div>\n",
       "<style scoped>\n",
       "    .dataframe tbody tr th:only-of-type {\n",
       "        vertical-align: middle;\n",
       "    }\n",
       "\n",
       "    .dataframe tbody tr th {\n",
       "        vertical-align: top;\n",
       "    }\n",
       "\n",
       "    .dataframe thead th {\n",
       "        text-align: right;\n",
       "    }\n",
       "</style>\n",
       "<table border=\"1\" class=\"dataframe\">\n",
       "  <thead>\n",
       "    <tr style=\"text-align: right;\">\n",
       "      <th></th>\n",
       "      <th>base_path</th>\n",
       "      <th>content_id</th>\n",
       "      <th>description</th>\n",
       "      <th>details.attachments</th>\n",
       "      <th>details.body</th>\n",
       "      <th>details.brand</th>\n",
       "      <th>details.cancellation_reason</th>\n",
       "      <th>details.cancelled_at</th>\n",
       "      <th>details.change_history</th>\n",
       "      <th>details.change_note</th>\n",
       "      <th>...</th>\n",
       "      <th>details.ways_to_respond.postal_address</th>\n",
       "      <th>details.what_you_need_to_know</th>\n",
       "      <th>details.will_continue_on</th>\n",
       "      <th>document_type</th>\n",
       "      <th>first_published_at</th>\n",
       "      <th>locale</th>\n",
       "      <th>primary_publishing_organisation.title</th>\n",
       "      <th>publishing_app</th>\n",
       "      <th>taxons</th>\n",
       "      <th>title</th>\n",
       "    </tr>\n",
       "  </thead>\n",
       "  <tbody>\n",
       "    <tr>\n",
       "      <th>204500</th>\n",
       "      <td>/energy-company-obligation</td>\n",
       "      <td>2e89e098-f5a8-4a6c-9dc9-ebe0c7b02ae6</td>\n",
       "      <td>Help for home energy-saving improvements - eli...</td>\n",
       "      <td>NaN</td>\n",
       "      <td>&lt;p&gt;You might be able to get help for energy-sa...</td>\n",
       "      <td>NaN</td>\n",
       "      <td>NaN</td>\n",
       "      <td>NaN</td>\n",
       "      <td>NaN</td>\n",
       "      <td>NaN</td>\n",
       "      <td>...</td>\n",
       "      <td>NaN</td>\n",
       "      <td>NaN</td>\n",
       "      <td>NaN</td>\n",
       "      <td>answer</td>\n",
       "      <td>2016-02-29T09:24:10.000+00:00</td>\n",
       "      <td>en</td>\n",
       "      <td>NaN</td>\n",
       "      <td>publisher</td>\n",
       "      <td>[{'title': 'Household energy', 'content_id': '...</td>\n",
       "      <td>Help from your energy supplier: the Affordable...</td>\n",
       "    </tr>\n",
       "    <tr>\n",
       "      <th>204501</th>\n",
       "      <td>/shared-parental-leave-and-pay</td>\n",
       "      <td>dc68775c-3df8-4930-ad22-bde7bfbb3b61</td>\n",
       "      <td>You can start Shared Parental Leave (SPL) and ...</td>\n",
       "      <td>NaN</td>\n",
       "      <td>NaN</td>\n",
       "      <td>NaN</td>\n",
       "      <td>NaN</td>\n",
       "      <td>NaN</td>\n",
       "      <td>NaN</td>\n",
       "      <td>NaN</td>\n",
       "      <td>...</td>\n",
       "      <td>NaN</td>\n",
       "      <td>NaN</td>\n",
       "      <td>NaN</td>\n",
       "      <td>guide</td>\n",
       "      <td>2016-02-29T09:24:10.000+00:00</td>\n",
       "      <td>en</td>\n",
       "      <td>NaN</td>\n",
       "      <td>publisher</td>\n",
       "      <td>[{'title': 'Working and time off when you're h...</td>\n",
       "      <td>Shared Parental Leave and Pay</td>\n",
       "    </tr>\n",
       "    <tr>\n",
       "      <th>204502</th>\n",
       "      <td>/find-fuel-supplier</td>\n",
       "      <td>cddb4da2-82ea-41d3-8220-4e1e8fa24031</td>\n",
       "      <td>Find a sustainable wood fuel supplier, biomass...</td>\n",
       "      <td>NaN</td>\n",
       "      <td>NaN</td>\n",
       "      <td>NaN</td>\n",
       "      <td>NaN</td>\n",
       "      <td>NaN</td>\n",
       "      <td>NaN</td>\n",
       "      <td>NaN</td>\n",
       "      <td>...</td>\n",
       "      <td>NaN</td>\n",
       "      <td>NaN</td>\n",
       "      <td>the biomass suppliers website</td>\n",
       "      <td>transaction</td>\n",
       "      <td>2016-02-29T09:24:10.000+00:00</td>\n",
       "      <td>en</td>\n",
       "      <td>NaN</td>\n",
       "      <td>publisher</td>\n",
       "      <td>[{'title': 'Household energy', 'content_id': '...</td>\n",
       "      <td>Find a sustainable wood fuel supplier</td>\n",
       "    </tr>\n",
       "    <tr>\n",
       "      <th>204503</th>\n",
       "      <td>/winter-fuel-payment</td>\n",
       "      <td>403018fa-663a-4b5a-bf4c-38dcde904082</td>\n",
       "      <td>Winter Fuel Payment helps older people with th...</td>\n",
       "      <td>NaN</td>\n",
       "      <td>NaN</td>\n",
       "      <td>NaN</td>\n",
       "      <td>NaN</td>\n",
       "      <td>NaN</td>\n",
       "      <td>NaN</td>\n",
       "      <td>NaN</td>\n",
       "      <td>...</td>\n",
       "      <td>NaN</td>\n",
       "      <td>NaN</td>\n",
       "      <td>NaN</td>\n",
       "      <td>guide</td>\n",
       "      <td>2016-02-29T09:24:10.000+00:00</td>\n",
       "      <td>en</td>\n",
       "      <td>NaN</td>\n",
       "      <td>publisher</td>\n",
       "      <td>[{'title': 'Heating and housing benefits', 'co...</td>\n",
       "      <td>Winter Fuel Payment</td>\n",
       "    </tr>\n",
       "    <tr>\n",
       "      <th>204504</th>\n",
       "      <td>/find-local-council</td>\n",
       "      <td>622fda2b-5fa6-4c84-bc3b-22cd3ff08828</td>\n",
       "      <td>Find your local authority in England, Wales, S...</td>\n",
       "      <td>NaN</td>\n",
       "      <td>NaN</td>\n",
       "      <td>NaN</td>\n",
       "      <td>NaN</td>\n",
       "      <td>NaN</td>\n",
       "      <td>NaN</td>\n",
       "      <td>NaN</td>\n",
       "      <td>...</td>\n",
       "      <td>NaN</td>\n",
       "      <td>NaN</td>\n",
       "      <td>NaN</td>\n",
       "      <td>special_route</td>\n",
       "      <td>2016-08-23T13:25:34.000+00:00</td>\n",
       "      <td>en</td>\n",
       "      <td>NaN</td>\n",
       "      <td>frontend</td>\n",
       "      <td>[{'title': 'Local councils and services', 'con...</td>\n",
       "      <td>Find your local council</td>\n",
       "    </tr>\n",
       "  </tbody>\n",
       "</table>\n",
       "<p>5 rows × 144 columns</p>\n",
       "</div>"
      ],
      "text/plain": [
       "                             base_path                            content_id  \\\n",
       "204500      /energy-company-obligation  2e89e098-f5a8-4a6c-9dc9-ebe0c7b02ae6   \n",
       "204501  /shared-parental-leave-and-pay  dc68775c-3df8-4930-ad22-bde7bfbb3b61   \n",
       "204502             /find-fuel-supplier  cddb4da2-82ea-41d3-8220-4e1e8fa24031   \n",
       "204503            /winter-fuel-payment  403018fa-663a-4b5a-bf4c-38dcde904082   \n",
       "204504             /find-local-council  622fda2b-5fa6-4c84-bc3b-22cd3ff08828   \n",
       "\n",
       "                                              description details.attachments  \\\n",
       "204500  Help for home energy-saving improvements - eli...                 NaN   \n",
       "204501  You can start Shared Parental Leave (SPL) and ...                 NaN   \n",
       "204502  Find a sustainable wood fuel supplier, biomass...                 NaN   \n",
       "204503  Winter Fuel Payment helps older people with th...                 NaN   \n",
       "204504  Find your local authority in England, Wales, S...                 NaN   \n",
       "\n",
       "                                             details.body details.brand  \\\n",
       "204500  <p>You might be able to get help for energy-sa...           NaN   \n",
       "204501                                                NaN           NaN   \n",
       "204502                                                NaN           NaN   \n",
       "204503                                                NaN           NaN   \n",
       "204504                                                NaN           NaN   \n",
       "\n",
       "       details.cancellation_reason details.cancelled_at  \\\n",
       "204500                         NaN                  NaN   \n",
       "204501                         NaN                  NaN   \n",
       "204502                         NaN                  NaN   \n",
       "204503                         NaN                  NaN   \n",
       "204504                         NaN                  NaN   \n",
       "\n",
       "       details.change_history details.change_note  \\\n",
       "204500                    NaN                 NaN   \n",
       "204501                    NaN                 NaN   \n",
       "204502                    NaN                 NaN   \n",
       "204503                    NaN                 NaN   \n",
       "204504                    NaN                 NaN   \n",
       "\n",
       "                              ...                          \\\n",
       "204500                        ...                           \n",
       "204501                        ...                           \n",
       "204502                        ...                           \n",
       "204503                        ...                           \n",
       "204504                        ...                           \n",
       "\n",
       "       details.ways_to_respond.postal_address details.what_you_need_to_know  \\\n",
       "204500                                    NaN                           NaN   \n",
       "204501                                    NaN                           NaN   \n",
       "204502                                    NaN                           NaN   \n",
       "204503                                    NaN                           NaN   \n",
       "204504                                    NaN                           NaN   \n",
       "\n",
       "             details.will_continue_on  document_type  \\\n",
       "204500                            NaN         answer   \n",
       "204501                            NaN          guide   \n",
       "204502  the biomass suppliers website    transaction   \n",
       "204503                            NaN          guide   \n",
       "204504                            NaN  special_route   \n",
       "\n",
       "                   first_published_at  locale  \\\n",
       "204500  2016-02-29T09:24:10.000+00:00      en   \n",
       "204501  2016-02-29T09:24:10.000+00:00      en   \n",
       "204502  2016-02-29T09:24:10.000+00:00      en   \n",
       "204503  2016-02-29T09:24:10.000+00:00      en   \n",
       "204504  2016-08-23T13:25:34.000+00:00      en   \n",
       "\n",
       "       primary_publishing_organisation.title publishing_app  \\\n",
       "204500                                   NaN      publisher   \n",
       "204501                                   NaN      publisher   \n",
       "204502                                   NaN      publisher   \n",
       "204503                                   NaN      publisher   \n",
       "204504                                   NaN       frontend   \n",
       "\n",
       "                                                   taxons  \\\n",
       "204500  [{'title': 'Household energy', 'content_id': '...   \n",
       "204501  [{'title': 'Working and time off when you're h...   \n",
       "204502  [{'title': 'Household energy', 'content_id': '...   \n",
       "204503  [{'title': 'Heating and housing benefits', 'co...   \n",
       "204504  [{'title': 'Local councils and services', 'con...   \n",
       "\n",
       "                                                    title  \n",
       "204500  Help from your energy supplier: the Affordable...  \n",
       "204501                      Shared Parental Leave and Pay  \n",
       "204502              Find a sustainable wood fuel supplier  \n",
       "204503                                Winter Fuel Payment  \n",
       "204504                            Find your local council  \n",
       "\n",
       "[5 rows x 144 columns]"
      ]
     },
     "execution_count": 56,
     "metadata": {},
     "output_type": "execute_result"
    }
   ],
   "source": [
    "#result.tail()"
   ]
  },
  {
   "cell_type": "code",
   "execution_count": 24,
   "metadata": {},
   "outputs": [
    {
     "data": {
      "text/plain": [
       "(204505, 11)"
      ]
     },
     "execution_count": 24,
     "metadata": {},
     "output_type": "execute_result"
    }
   ],
   "source": [
    "content.shape"
   ]
  },
  {
   "cell_type": "code",
   "execution_count": 25,
   "metadata": {},
   "outputs": [
    {
     "data": {
      "text/plain": [
       "Index(['base_path', 'content_id', 'description', 'details', 'document_type',\n",
       "       'first_published_at', 'locale', 'primary_publishing_organisation',\n",
       "       'publishing_app', 'taxons', 'title'],\n",
       "      dtype='object')"
      ]
     },
     "execution_count": 25,
     "metadata": {},
     "output_type": "execute_result"
    }
   ],
   "source": [
    "content.columns"
   ]
  },
  {
   "cell_type": "code",
   "execution_count": 26,
   "metadata": {},
   "outputs": [
    {
     "data": {
      "text/plain": [
       "(25963, 11)"
      ]
     },
     "execution_count": 26,
     "metadata": {},
     "output_type": "execute_result"
    }
   ],
   "source": [
    "content[content.duplicated('content_id')].shape"
   ]
  },
  {
   "cell_type": "code",
   "execution_count": 27,
   "metadata": {},
   "outputs": [
    {
     "data": {
      "text/plain": [
       "(25866, 11)"
      ]
     },
     "execution_count": 27,
     "metadata": {},
     "output_type": "execute_result"
    }
   ],
   "source": [
    "content[content.duplicated('base_path')].shape"
   ]
  },
  {
   "cell_type": "code",
   "execution_count": 28,
   "metadata": {},
   "outputs": [
    {
     "data": {
      "text/plain": [
       "(25960, 11)"
      ]
     },
     "execution_count": 28,
     "metadata": {},
     "output_type": "execute_result"
    }
   ],
   "source": [
    "content[content.duplicated(['content_id', 'description', 'first_published_at', 'locale', 'publishing_app'])].shape"
   ]
  },
  {
   "cell_type": "code",
   "execution_count": 29,
   "metadata": {},
   "outputs": [
    {
     "data": {
      "text/plain": [
       "178541"
      ]
     },
     "execution_count": 29,
     "metadata": {},
     "output_type": "execute_result"
    }
   ],
   "source": [
    "content.content_id.nunique()"
   ]
  },
  {
   "cell_type": "code",
   "execution_count": 30,
   "metadata": {},
   "outputs": [
    {
     "data": {
      "text/html": [
       "<div>\n",
       "<style scoped>\n",
       "    .dataframe tbody tr th:only-of-type {\n",
       "        vertical-align: middle;\n",
       "    }\n",
       "\n",
       "    .dataframe tbody tr th {\n",
       "        vertical-align: top;\n",
       "    }\n",
       "\n",
       "    .dataframe thead th {\n",
       "        text-align: right;\n",
       "    }\n",
       "</style>\n",
       "<table border=\"1\" class=\"dataframe\">\n",
       "  <thead>\n",
       "    <tr style=\"text-align: right;\">\n",
       "      <th></th>\n",
       "      <th>base_path</th>\n",
       "      <th>content_id</th>\n",
       "      <th>description</th>\n",
       "      <th>details</th>\n",
       "      <th>document_type</th>\n",
       "      <th>first_published_at</th>\n",
       "      <th>locale</th>\n",
       "      <th>primary_publishing_organisation</th>\n",
       "      <th>publishing_app</th>\n",
       "      <th>taxons</th>\n",
       "      <th>title</th>\n",
       "    </tr>\n",
       "  </thead>\n",
       "  <tbody>\n",
       "    <tr>\n",
       "      <th>0</th>\n",
       "      <td>/government/organisations/companies-house</td>\n",
       "      <td>c36bd301-d0c5-4492-86ad-ee7843b8383b</td>\n",
       "      <td>None</td>\n",
       "      <td>{'logo': {'crest': 'single-identity', 'formatt...</td>\n",
       "      <td>organisation</td>\n",
       "      <td>2016-02-29T09:24:10.000+00:00</td>\n",
       "      <td>en</td>\n",
       "      <td>NaN</td>\n",
       "      <td>whitehall</td>\n",
       "      <td>NaN</td>\n",
       "      <td>Companies House</td>\n",
       "    </tr>\n",
       "    <tr>\n",
       "      <th>1</th>\n",
       "      <td>/government/organisations/hm-revenue-customs</td>\n",
       "      <td>6667cce2-e809-4e21-ae09-cb0bdc1ddda3</td>\n",
       "      <td>None</td>\n",
       "      <td>{'logo': {'crest': 'hmrc', 'formatted_title': ...</td>\n",
       "      <td>organisation</td>\n",
       "      <td>2016-02-29T09:24:10.000+00:00</td>\n",
       "      <td>en</td>\n",
       "      <td>NaN</td>\n",
       "      <td>whitehall</td>\n",
       "      <td>NaN</td>\n",
       "      <td>HM Revenue &amp; Customs</td>\n",
       "    </tr>\n",
       "    <tr>\n",
       "      <th>2</th>\n",
       "      <td>/government/organisations/driver-and-vehicle-l...</td>\n",
       "      <td>70580624-93b5-4aed-823b-76042486c769</td>\n",
       "      <td>None</td>\n",
       "      <td>{'logo': {'crest': 'single-identity', 'formatt...</td>\n",
       "      <td>organisation</td>\n",
       "      <td>2016-02-29T09:24:10.000+00:00</td>\n",
       "      <td>en</td>\n",
       "      <td>NaN</td>\n",
       "      <td>whitehall</td>\n",
       "      <td>NaN</td>\n",
       "      <td>Driver and Vehicle Licensing Agency</td>\n",
       "    </tr>\n",
       "    <tr>\n",
       "      <th>3</th>\n",
       "      <td>/government/publications</td>\n",
       "      <td>b13317e9-3753-47b2-95da-c173071e621d</td>\n",
       "      <td>Find publications from across government inclu...</td>\n",
       "      <td>{}</td>\n",
       "      <td>finder</td>\n",
       "      <td>2016-11-14T16:28:53.000+00:00</td>\n",
       "      <td>en</td>\n",
       "      <td>NaN</td>\n",
       "      <td>whitehall</td>\n",
       "      <td>NaN</td>\n",
       "      <td>All publications</td>\n",
       "    </tr>\n",
       "    <tr>\n",
       "      <th>4</th>\n",
       "      <td>/bank-holidays</td>\n",
       "      <td>58f79dbd-e57f-4ab2-ae96-96df5767d1b2</td>\n",
       "      <td>None</td>\n",
       "      <td>{}</td>\n",
       "      <td>calendar</td>\n",
       "      <td>2016-02-29T09:24:10.000+00:00</td>\n",
       "      <td>en</td>\n",
       "      <td>NaN</td>\n",
       "      <td>calendars</td>\n",
       "      <td>[{'title': 'Statutory leave and time off', 'co...</td>\n",
       "      <td>UK bank holidays</td>\n",
       "    </tr>\n",
       "  </tbody>\n",
       "</table>\n",
       "</div>"
      ],
      "text/plain": [
       "                                           base_path  \\\n",
       "0          /government/organisations/companies-house   \n",
       "1       /government/organisations/hm-revenue-customs   \n",
       "2  /government/organisations/driver-and-vehicle-l...   \n",
       "3                           /government/publications   \n",
       "4                                     /bank-holidays   \n",
       "\n",
       "                             content_id  \\\n",
       "0  c36bd301-d0c5-4492-86ad-ee7843b8383b   \n",
       "1  6667cce2-e809-4e21-ae09-cb0bdc1ddda3   \n",
       "2  70580624-93b5-4aed-823b-76042486c769   \n",
       "3  b13317e9-3753-47b2-95da-c173071e621d   \n",
       "4  58f79dbd-e57f-4ab2-ae96-96df5767d1b2   \n",
       "\n",
       "                                         description  \\\n",
       "0                                               None   \n",
       "1                                               None   \n",
       "2                                               None   \n",
       "3  Find publications from across government inclu...   \n",
       "4                                               None   \n",
       "\n",
       "                                             details document_type  \\\n",
       "0  {'logo': {'crest': 'single-identity', 'formatt...  organisation   \n",
       "1  {'logo': {'crest': 'hmrc', 'formatted_title': ...  organisation   \n",
       "2  {'logo': {'crest': 'single-identity', 'formatt...  organisation   \n",
       "3                                                 {}        finder   \n",
       "4                                                 {}      calendar   \n",
       "\n",
       "              first_published_at locale primary_publishing_organisation  \\\n",
       "0  2016-02-29T09:24:10.000+00:00     en                             NaN   \n",
       "1  2016-02-29T09:24:10.000+00:00     en                             NaN   \n",
       "2  2016-02-29T09:24:10.000+00:00     en                             NaN   \n",
       "3  2016-11-14T16:28:53.000+00:00     en                             NaN   \n",
       "4  2016-02-29T09:24:10.000+00:00     en                             NaN   \n",
       "\n",
       "  publishing_app                                             taxons  \\\n",
       "0      whitehall                                                NaN   \n",
       "1      whitehall                                                NaN   \n",
       "2      whitehall                                                NaN   \n",
       "3      whitehall                                                NaN   \n",
       "4      calendars  [{'title': 'Statutory leave and time off', 'co...   \n",
       "\n",
       "                                 title  \n",
       "0                     Companies House   \n",
       "1                 HM Revenue & Customs  \n",
       "2  Driver and Vehicle Licensing Agency  \n",
       "3                     All publications  \n",
       "4                     UK bank holidays  "
      ]
     },
     "execution_count": 30,
     "metadata": {},
     "output_type": "execute_result"
    }
   ],
   "source": [
    "content.head()"
   ]
  },
  {
   "cell_type": "code",
   "execution_count": 31,
   "metadata": {},
   "outputs": [],
   "source": [
    "#content['details'][0]"
   ]
  },
  {
   "cell_type": "code",
   "execution_count": 32,
   "metadata": {},
   "outputs": [],
   "source": [
    "#content['details'][50].get('body')"
   ]
  },
  {
   "cell_type": "code",
   "execution_count": 33,
   "metadata": {},
   "outputs": [],
   "source": [
    "content = content.assign(body = [d.get('body') for d in content.details])"
   ]
  },
  {
   "cell_type": "code",
   "execution_count": 34,
   "metadata": {},
   "outputs": [],
   "source": [
    "# Clean the html\n",
    "\n",
    "def extract_text(body):\n",
    "    \n",
    "    r = None\n",
    "    #if lxml.html.fromstring(html).find('.//*') is not None:\n",
    "    # This is horribly hacky. Previously this was failing on single new line\n",
    "    # characters.\n",
    "    if body and body != '\\n':\n",
    "        tree = etree.HTML(body)\n",
    "        r = tree.xpath('//text()')\n",
    "        r = ' '.join(r)\n",
    "        r = r.strip().replace('\\n', ' ').replace('\\r', ' ').replace('\\t', ' ')\n",
    "        r = r.replace('\\n', ' ').replace(',', ' ')\n",
    "        r = r.lower()\n",
    "        r = ' '.join(r.split())\n",
    "    if not r:\n",
    "        r = ' '\n",
    "    return r"
   ]
  },
  {
   "cell_type": "code",
   "execution_count": 35,
   "metadata": {},
   "outputs": [],
   "source": [
    "content = content.assign(body = content['body'].apply(extract_text))\n",
    "content = content.assign(description = content['description'].apply(extract_text))\n",
    "content = content.assign(title = content['title'].apply(extract_text))"
   ]
  },
  {
   "cell_type": "code",
   "execution_count": 36,
   "metadata": {},
   "outputs": [],
   "source": [
    "content['combined_text'] = content['title'] + ' ' + content['description'] + ' ' + content['body']"
   ]
  },
  {
   "cell_type": "code",
   "execution_count": 37,
   "metadata": {},
   "outputs": [],
   "source": [
    "content['taxons'] = content['taxons'].where((pd.notnull(content['taxons'])), None)\n",
    "#content['taxons'] = content['taxons'].fillna(value=None)"
   ]
  },
  {
   "cell_type": "code",
   "execution_count": 38,
   "metadata": {},
   "outputs": [
    {
     "data": {
      "text/plain": [
       "Index(['base_path', 'content_id', 'description', 'details', 'document_type',\n",
       "       'first_published_at', 'locale', 'primary_publishing_organisation',\n",
       "       'publishing_app', 'taxons', 'title', 'body', 'combined_text'],\n",
       "      dtype='object')"
      ]
     },
     "execution_count": 38,
     "metadata": {},
     "output_type": "execute_result"
    }
   ],
   "source": [
    "content.columns"
   ]
  },
  {
   "cell_type": "code",
   "execution_count": 39,
   "metadata": {},
   "outputs": [],
   "source": [
    "content_columns = content.drop(['taxons'], axis=1).columns.values"
   ]
  },
  {
   "cell_type": "code",
   "execution_count": 40,
   "metadata": {},
   "outputs": [],
   "source": [
    "content_wide = pd.concat([content.drop('taxons', axis=1), content['taxons'].apply(pd.Series)], axis=1)"
   ]
  },
  {
   "cell_type": "code",
   "execution_count": 41,
   "metadata": {},
   "outputs": [
    {
     "data": {
      "text/plain": [
       "178541"
      ]
     },
     "execution_count": 41,
     "metadata": {},
     "output_type": "execute_result"
    }
   ],
   "source": [
    "content_wide.content_id.nunique()"
   ]
  },
  {
   "cell_type": "code",
   "execution_count": 62,
   "metadata": {},
   "outputs": [
    {
     "data": {
      "text/plain": [
       "Index([                      'base_path',                      'content_id',\n",
       "                           'description',                         'details',\n",
       "                         'document_type',              'first_published_at',\n",
       "                                'locale', 'primary_publishing_organisation',\n",
       "                        'publishing_app',                           'title',\n",
       "                                  'body',                   'combined_text',\n",
       "                                       0,                                 1,\n",
       "                                       2,                                 3,\n",
       "                                       4,                                 5,\n",
       "                                       6,                                 7,\n",
       "                                       8,                                 9,\n",
       "                                      10,                                11,\n",
       "                                      12,                                13,\n",
       "                                      14,                                15,\n",
       "                                      16,                                17,\n",
       "                                      18,                                19,\n",
       "                                      20,                                21,\n",
       "                                      22,                                23,\n",
       "                                      24,                                25,\n",
       "                                      26,                                27,\n",
       "                                      28,                                29,\n",
       "                                      30,                                31,\n",
       "                                      32,                                33,\n",
       "                                      34,                                35,\n",
       "                                      36,                                37,\n",
       "                                      38,                                39,\n",
       "                                      40,                                41,\n",
       "                                      42,                                43,\n",
       "                                      44,                                45,\n",
       "                                      46,                                47,\n",
       "                                      48,                                49,\n",
       "                                      50,                                51,\n",
       "                                      52,                                53,\n",
       "                                      54,                                55,\n",
       "                                      56,                                57,\n",
       "                                      58,                                59,\n",
       "                                      60,                                61,\n",
       "                                      62],\n",
       "      dtype='object')"
      ]
     },
     "execution_count": 62,
     "metadata": {},
     "output_type": "execute_result"
    }
   ],
   "source": [
    "content_wide.columns"
   ]
  },
  {
   "cell_type": "code",
   "execution_count": 64,
   "metadata": {},
   "outputs": [
    {
     "data": {
      "text/plain": [
       "(27587, 75)"
      ]
     },
     "execution_count": 64,
     "metadata": {},
     "output_type": "execute_result"
    }
   ],
   "source": [
    "content_wide[content_wide.duplicated('combined_text')].shape"
   ]
  },
  {
   "cell_type": "code",
   "execution_count": 90,
   "metadata": {},
   "outputs": [],
   "source": [
    "content_long = pd.melt(content_wide, id_vars=content_columns, value_name='taxon')"
   ]
  },
  {
   "cell_type": "code",
   "execution_count": 91,
   "metadata": {},
   "outputs": [
    {
     "name": "stdout",
     "output_type": "stream",
     "text": [
      "The number of unique content items in long data is 178541 before dealing with Nan\n"
     ]
    }
   ],
   "source": [
    "print(\"The number of unique content items in long data is {} before dealing with Nan\".format(content_long.content_id.nunique()))"
   ]
  },
  {
   "cell_type": "code",
   "execution_count": 69,
   "metadata": {},
   "outputs": [
    {
     "data": {
      "text/plain": [
       "Index(['base_path', 'content_id', 'description', 'details', 'document_type',\n",
       "       'first_published_at', 'locale', 'primary_publishing_organisation',\n",
       "       'publishing_app', 'title', 'body', 'combined_text', 'variable',\n",
       "       'taxon'],\n",
       "      dtype='object')"
      ]
     },
     "execution_count": 69,
     "metadata": {},
     "output_type": "execute_result"
    }
   ],
   "source": [
    "content_long.columns"
   ]
  },
  {
   "cell_type": "code",
   "execution_count": 70,
   "metadata": {},
   "outputs": [
    {
     "data": {
      "text/plain": [
       "{'content_id': 'ffeb8bc6-2cd3-4a73-ab76-072b9a1f95fb',\n",
       " 'title': 'Statutory leave and time off'}"
      ]
     },
     "execution_count": 70,
     "metadata": {},
     "output_type": "execute_result"
    }
   ],
   "source": [
    "content_long['taxon'][4]"
   ]
  },
  {
   "cell_type": "code",
   "execution_count": 71,
   "metadata": {},
   "outputs": [
    {
     "data": {
      "text/html": [
       "<div>\n",
       "<style scoped>\n",
       "    .dataframe tbody tr th:only-of-type {\n",
       "        vertical-align: middle;\n",
       "    }\n",
       "\n",
       "    .dataframe tbody tr th {\n",
       "        vertical-align: top;\n",
       "    }\n",
       "\n",
       "    .dataframe thead th {\n",
       "        text-align: right;\n",
       "    }\n",
       "</style>\n",
       "<table border=\"1\" class=\"dataframe\">\n",
       "  <thead>\n",
       "    <tr style=\"text-align: right;\">\n",
       "      <th></th>\n",
       "      <th>base_path</th>\n",
       "      <th>content_id</th>\n",
       "      <th>description</th>\n",
       "      <th>details</th>\n",
       "      <th>document_type</th>\n",
       "      <th>first_published_at</th>\n",
       "      <th>locale</th>\n",
       "      <th>primary_publishing_organisation</th>\n",
       "      <th>publishing_app</th>\n",
       "      <th>title</th>\n",
       "      <th>...</th>\n",
       "      <th>53</th>\n",
       "      <th>54</th>\n",
       "      <th>55</th>\n",
       "      <th>56</th>\n",
       "      <th>57</th>\n",
       "      <th>58</th>\n",
       "      <th>59</th>\n",
       "      <th>60</th>\n",
       "      <th>61</th>\n",
       "      <th>62</th>\n",
       "    </tr>\n",
       "  </thead>\n",
       "  <tbody>\n",
       "    <tr>\n",
       "      <th>0</th>\n",
       "      <td>/government/organisations/companies-house</td>\n",
       "      <td>c36bd301-d0c5-4492-86ad-ee7843b8383b</td>\n",
       "      <td></td>\n",
       "      <td>{'logo': {'crest': 'single-identity', 'formatt...</td>\n",
       "      <td>organisation</td>\n",
       "      <td>2016-02-29T09:24:10.000+00:00</td>\n",
       "      <td>en</td>\n",
       "      <td>NaN</td>\n",
       "      <td>whitehall</td>\n",
       "      <td>companies house</td>\n",
       "      <td>...</td>\n",
       "      <td>NaN</td>\n",
       "      <td>NaN</td>\n",
       "      <td>NaN</td>\n",
       "      <td>NaN</td>\n",
       "      <td>NaN</td>\n",
       "      <td>NaN</td>\n",
       "      <td>NaN</td>\n",
       "      <td>NaN</td>\n",
       "      <td>NaN</td>\n",
       "      <td>NaN</td>\n",
       "    </tr>\n",
       "    <tr>\n",
       "      <th>1</th>\n",
       "      <td>/government/organisations/hm-revenue-customs</td>\n",
       "      <td>6667cce2-e809-4e21-ae09-cb0bdc1ddda3</td>\n",
       "      <td></td>\n",
       "      <td>{'logo': {'crest': 'hmrc', 'formatted_title': ...</td>\n",
       "      <td>organisation</td>\n",
       "      <td>2016-02-29T09:24:10.000+00:00</td>\n",
       "      <td>en</td>\n",
       "      <td>NaN</td>\n",
       "      <td>whitehall</td>\n",
       "      <td>hm revenue &amp; customs</td>\n",
       "      <td>...</td>\n",
       "      <td>NaN</td>\n",
       "      <td>NaN</td>\n",
       "      <td>NaN</td>\n",
       "      <td>NaN</td>\n",
       "      <td>NaN</td>\n",
       "      <td>NaN</td>\n",
       "      <td>NaN</td>\n",
       "      <td>NaN</td>\n",
       "      <td>NaN</td>\n",
       "      <td>NaN</td>\n",
       "    </tr>\n",
       "    <tr>\n",
       "      <th>2</th>\n",
       "      <td>/government/organisations/driver-and-vehicle-l...</td>\n",
       "      <td>70580624-93b5-4aed-823b-76042486c769</td>\n",
       "      <td></td>\n",
       "      <td>{'logo': {'crest': 'single-identity', 'formatt...</td>\n",
       "      <td>organisation</td>\n",
       "      <td>2016-02-29T09:24:10.000+00:00</td>\n",
       "      <td>en</td>\n",
       "      <td>NaN</td>\n",
       "      <td>whitehall</td>\n",
       "      <td>driver and vehicle licensing agency</td>\n",
       "      <td>...</td>\n",
       "      <td>NaN</td>\n",
       "      <td>NaN</td>\n",
       "      <td>NaN</td>\n",
       "      <td>NaN</td>\n",
       "      <td>NaN</td>\n",
       "      <td>NaN</td>\n",
       "      <td>NaN</td>\n",
       "      <td>NaN</td>\n",
       "      <td>NaN</td>\n",
       "      <td>NaN</td>\n",
       "    </tr>\n",
       "    <tr>\n",
       "      <th>3</th>\n",
       "      <td>/government/publications</td>\n",
       "      <td>b13317e9-3753-47b2-95da-c173071e621d</td>\n",
       "      <td>find publications from across government inclu...</td>\n",
       "      <td>{}</td>\n",
       "      <td>finder</td>\n",
       "      <td>2016-11-14T16:28:53.000+00:00</td>\n",
       "      <td>en</td>\n",
       "      <td>NaN</td>\n",
       "      <td>whitehall</td>\n",
       "      <td>all publications</td>\n",
       "      <td>...</td>\n",
       "      <td>NaN</td>\n",
       "      <td>NaN</td>\n",
       "      <td>NaN</td>\n",
       "      <td>NaN</td>\n",
       "      <td>NaN</td>\n",
       "      <td>NaN</td>\n",
       "      <td>NaN</td>\n",
       "      <td>NaN</td>\n",
       "      <td>NaN</td>\n",
       "      <td>NaN</td>\n",
       "    </tr>\n",
       "    <tr>\n",
       "      <th>4</th>\n",
       "      <td>/bank-holidays</td>\n",
       "      <td>58f79dbd-e57f-4ab2-ae96-96df5767d1b2</td>\n",
       "      <td></td>\n",
       "      <td>{}</td>\n",
       "      <td>calendar</td>\n",
       "      <td>2016-02-29T09:24:10.000+00:00</td>\n",
       "      <td>en</td>\n",
       "      <td>NaN</td>\n",
       "      <td>calendars</td>\n",
       "      <td>uk bank holidays</td>\n",
       "      <td>...</td>\n",
       "      <td>NaN</td>\n",
       "      <td>NaN</td>\n",
       "      <td>NaN</td>\n",
       "      <td>NaN</td>\n",
       "      <td>NaN</td>\n",
       "      <td>NaN</td>\n",
       "      <td>NaN</td>\n",
       "      <td>NaN</td>\n",
       "      <td>NaN</td>\n",
       "      <td>NaN</td>\n",
       "    </tr>\n",
       "    <tr>\n",
       "      <th>5</th>\n",
       "      <td>/check-uk-visa</td>\n",
       "      <td>dc1a1744-4089-43b3-b2e3-4e397b6b15b1</td>\n",
       "      <td>you may need a visa to come to the uk to visit...</td>\n",
       "      <td>{'start_button_text': 'Start now', 'introducto...</td>\n",
       "      <td>transaction</td>\n",
       "      <td>2016-02-29T09:24:10.000+00:00</td>\n",
       "      <td>en</td>\n",
       "      <td>NaN</td>\n",
       "      <td>smartanswers</td>\n",
       "      <td>check if you need a uk visa</td>\n",
       "      <td>...</td>\n",
       "      <td>NaN</td>\n",
       "      <td>NaN</td>\n",
       "      <td>NaN</td>\n",
       "      <td>NaN</td>\n",
       "      <td>NaN</td>\n",
       "      <td>NaN</td>\n",
       "      <td>NaN</td>\n",
       "      <td>NaN</td>\n",
       "      <td>NaN</td>\n",
       "      <td>NaN</td>\n",
       "    </tr>\n",
       "    <tr>\n",
       "      <th>6</th>\n",
       "      <td>/state-pension-age</td>\n",
       "      <td>5491c439-1c83-4044-80d3-32cc3613b739</td>\n",
       "      <td>work out your state pension age and pension cr...</td>\n",
       "      <td>{'start_button_text': 'Start now', 'introducto...</td>\n",
       "      <td>transaction</td>\n",
       "      <td>2016-02-29T09:24:10.000+00:00</td>\n",
       "      <td>en</td>\n",
       "      <td>NaN</td>\n",
       "      <td>smartanswers</td>\n",
       "      <td>check your state pension age</td>\n",
       "      <td>...</td>\n",
       "      <td>NaN</td>\n",
       "      <td>NaN</td>\n",
       "      <td>NaN</td>\n",
       "      <td>NaN</td>\n",
       "      <td>NaN</td>\n",
       "      <td>NaN</td>\n",
       "      <td>NaN</td>\n",
       "      <td>NaN</td>\n",
       "      <td>NaN</td>\n",
       "      <td>NaN</td>\n",
       "    </tr>\n",
       "    <tr>\n",
       "      <th>7</th>\n",
       "      <td>/government/organisations/land-registry</td>\n",
       "      <td>5c54ae52-341b-499e-a6dd-67f04633b8cf</td>\n",
       "      <td></td>\n",
       "      <td>{'logo': {'image': {'alt_text': 'HM Land Regis...</td>\n",
       "      <td>organisation</td>\n",
       "      <td>2016-02-29T09:24:10.000+00:00</td>\n",
       "      <td>en</td>\n",
       "      <td>NaN</td>\n",
       "      <td>whitehall</td>\n",
       "      <td>hm land registry</td>\n",
       "      <td>...</td>\n",
       "      <td>NaN</td>\n",
       "      <td>NaN</td>\n",
       "      <td>NaN</td>\n",
       "      <td>NaN</td>\n",
       "      <td>NaN</td>\n",
       "      <td>NaN</td>\n",
       "      <td>NaN</td>\n",
       "      <td>NaN</td>\n",
       "      <td>NaN</td>\n",
       "      <td>NaN</td>\n",
       "    </tr>\n",
       "    <tr>\n",
       "      <th>8</th>\n",
       "      <td>/government/organisations/uk-visas-and-immigra...</td>\n",
       "      <td>04148522-b0c1-4137-b687-5f3c3bdd561a</td>\n",
       "      <td></td>\n",
       "      <td>{'logo': {'crest': 'ho', 'formatted_title': 'U...</td>\n",
       "      <td>organisation</td>\n",
       "      <td>2016-02-29T09:24:10.000+00:00</td>\n",
       "      <td>en</td>\n",
       "      <td>NaN</td>\n",
       "      <td>whitehall</td>\n",
       "      <td>uk visas and immigration</td>\n",
       "      <td>...</td>\n",
       "      <td>NaN</td>\n",
       "      <td>NaN</td>\n",
       "      <td>NaN</td>\n",
       "      <td>NaN</td>\n",
       "      <td>NaN</td>\n",
       "      <td>NaN</td>\n",
       "      <td>NaN</td>\n",
       "      <td>NaN</td>\n",
       "      <td>NaN</td>\n",
       "      <td>NaN</td>\n",
       "    </tr>\n",
       "    <tr>\n",
       "      <th>9</th>\n",
       "      <td>/government/announcements</td>\n",
       "      <td>88936763-df8a-441f-8b96-9ea0dc0758a1</td>\n",
       "      <td>find news articles speeches and statements fro...</td>\n",
       "      <td>{}</td>\n",
       "      <td>finder</td>\n",
       "      <td>2016-11-14T16:28:53.000+00:00</td>\n",
       "      <td>en</td>\n",
       "      <td>NaN</td>\n",
       "      <td>whitehall</td>\n",
       "      <td>government announcements</td>\n",
       "      <td>...</td>\n",
       "      <td>NaN</td>\n",
       "      <td>NaN</td>\n",
       "      <td>NaN</td>\n",
       "      <td>NaN</td>\n",
       "      <td>NaN</td>\n",
       "      <td>NaN</td>\n",
       "      <td>NaN</td>\n",
       "      <td>NaN</td>\n",
       "      <td>NaN</td>\n",
       "      <td>NaN</td>\n",
       "    </tr>\n",
       "  </tbody>\n",
       "</table>\n",
       "<p>10 rows × 75 columns</p>\n",
       "</div>"
      ],
      "text/plain": [
       "                                           base_path  \\\n",
       "0          /government/organisations/companies-house   \n",
       "1       /government/organisations/hm-revenue-customs   \n",
       "2  /government/organisations/driver-and-vehicle-l...   \n",
       "3                           /government/publications   \n",
       "4                                     /bank-holidays   \n",
       "5                                     /check-uk-visa   \n",
       "6                                 /state-pension-age   \n",
       "7            /government/organisations/land-registry   \n",
       "8  /government/organisations/uk-visas-and-immigra...   \n",
       "9                          /government/announcements   \n",
       "\n",
       "                             content_id  \\\n",
       "0  c36bd301-d0c5-4492-86ad-ee7843b8383b   \n",
       "1  6667cce2-e809-4e21-ae09-cb0bdc1ddda3   \n",
       "2  70580624-93b5-4aed-823b-76042486c769   \n",
       "3  b13317e9-3753-47b2-95da-c173071e621d   \n",
       "4  58f79dbd-e57f-4ab2-ae96-96df5767d1b2   \n",
       "5  dc1a1744-4089-43b3-b2e3-4e397b6b15b1   \n",
       "6  5491c439-1c83-4044-80d3-32cc3613b739   \n",
       "7  5c54ae52-341b-499e-a6dd-67f04633b8cf   \n",
       "8  04148522-b0c1-4137-b687-5f3c3bdd561a   \n",
       "9  88936763-df8a-441f-8b96-9ea0dc0758a1   \n",
       "\n",
       "                                         description  \\\n",
       "0                                                      \n",
       "1                                                      \n",
       "2                                                      \n",
       "3  find publications from across government inclu...   \n",
       "4                                                      \n",
       "5  you may need a visa to come to the uk to visit...   \n",
       "6  work out your state pension age and pension cr...   \n",
       "7                                                      \n",
       "8                                                      \n",
       "9  find news articles speeches and statements fro...   \n",
       "\n",
       "                                             details document_type  \\\n",
       "0  {'logo': {'crest': 'single-identity', 'formatt...  organisation   \n",
       "1  {'logo': {'crest': 'hmrc', 'formatted_title': ...  organisation   \n",
       "2  {'logo': {'crest': 'single-identity', 'formatt...  organisation   \n",
       "3                                                 {}        finder   \n",
       "4                                                 {}      calendar   \n",
       "5  {'start_button_text': 'Start now', 'introducto...   transaction   \n",
       "6  {'start_button_text': 'Start now', 'introducto...   transaction   \n",
       "7  {'logo': {'image': {'alt_text': 'HM Land Regis...  organisation   \n",
       "8  {'logo': {'crest': 'ho', 'formatted_title': 'U...  organisation   \n",
       "9                                                 {}        finder   \n",
       "\n",
       "              first_published_at locale primary_publishing_organisation  \\\n",
       "0  2016-02-29T09:24:10.000+00:00     en                             NaN   \n",
       "1  2016-02-29T09:24:10.000+00:00     en                             NaN   \n",
       "2  2016-02-29T09:24:10.000+00:00     en                             NaN   \n",
       "3  2016-11-14T16:28:53.000+00:00     en                             NaN   \n",
       "4  2016-02-29T09:24:10.000+00:00     en                             NaN   \n",
       "5  2016-02-29T09:24:10.000+00:00     en                             NaN   \n",
       "6  2016-02-29T09:24:10.000+00:00     en                             NaN   \n",
       "7  2016-02-29T09:24:10.000+00:00     en                             NaN   \n",
       "8  2016-02-29T09:24:10.000+00:00     en                             NaN   \n",
       "9  2016-11-14T16:28:53.000+00:00     en                             NaN   \n",
       "\n",
       "  publishing_app                                title ...    53   54   55  \\\n",
       "0      whitehall                      companies house ...   NaN  NaN  NaN   \n",
       "1      whitehall                 hm revenue & customs ...   NaN  NaN  NaN   \n",
       "2      whitehall  driver and vehicle licensing agency ...   NaN  NaN  NaN   \n",
       "3      whitehall                     all publications ...   NaN  NaN  NaN   \n",
       "4      calendars                     uk bank holidays ...   NaN  NaN  NaN   \n",
       "5   smartanswers          check if you need a uk visa ...   NaN  NaN  NaN   \n",
       "6   smartanswers         check your state pension age ...   NaN  NaN  NaN   \n",
       "7      whitehall                     hm land registry ...   NaN  NaN  NaN   \n",
       "8      whitehall             uk visas and immigration ...   NaN  NaN  NaN   \n",
       "9      whitehall             government announcements ...   NaN  NaN  NaN   \n",
       "\n",
       "    56   57   58   59   60   61   62  \n",
       "0  NaN  NaN  NaN  NaN  NaN  NaN  NaN  \n",
       "1  NaN  NaN  NaN  NaN  NaN  NaN  NaN  \n",
       "2  NaN  NaN  NaN  NaN  NaN  NaN  NaN  \n",
       "3  NaN  NaN  NaN  NaN  NaN  NaN  NaN  \n",
       "4  NaN  NaN  NaN  NaN  NaN  NaN  NaN  \n",
       "5  NaN  NaN  NaN  NaN  NaN  NaN  NaN  \n",
       "6  NaN  NaN  NaN  NaN  NaN  NaN  NaN  \n",
       "7  NaN  NaN  NaN  NaN  NaN  NaN  NaN  \n",
       "8  NaN  NaN  NaN  NaN  NaN  NaN  NaN  \n",
       "9  NaN  NaN  NaN  NaN  NaN  NaN  NaN  \n",
       "\n",
       "[10 rows x 75 columns]"
      ]
     },
     "execution_count": 71,
     "metadata": {},
     "output_type": "execute_result"
    }
   ],
   "source": [
    "content_wide[0:10]"
   ]
  },
  {
   "cell_type": "code",
   "execution_count": 92,
   "metadata": {},
   "outputs": [
    {
     "name": "stdout",
     "output_type": "stream",
     "text": [
      "This will delete all the content items which have not yet been tagged\n"
     ]
    }
   ],
   "source": [
    "print(\"This will delete all the content items which have not yet been tagged\")\n",
    "mask = content_long['taxon'].isnull()\n",
    "content_long = content_long[~mask]"
   ]
  },
  {
   "cell_type": "code",
   "execution_count": 73,
   "metadata": {},
   "outputs": [],
   "source": [
    "content_long = content_long.assign(taxon_id = [d['content_id'] for d in content_long['taxon']])"
   ]
  },
  {
   "cell_type": "code",
   "execution_count": 74,
   "metadata": {},
   "outputs": [],
   "source": [
    "content_long = content_long.drop(['taxon'], axis=1)"
   ]
  },
  {
   "cell_type": "code",
   "execution_count": 75,
   "metadata": {},
   "outputs": [
    {
     "data": {
      "text/plain": [
       "336950"
      ]
     },
     "execution_count": 75,
     "metadata": {},
     "output_type": "execute_result"
    }
   ],
   "source": [
    "content_long.shape[0]"
   ]
  },
  {
   "cell_type": "code",
   "execution_count": 89,
   "metadata": {},
   "outputs": [
    {
     "name": "stdout",
     "output_type": "stream",
     "text": [
      "The number of unique content items in long data is 125968\n",
      "The shape of the duplicates in content_long is (34904, 14)\n",
      "The number of unique content ids in the duplicated items in content_long is 16513\n",
      "On average there are 2.113728577484406 rows per content item in the duplicates\n"
     ]
    }
   ],
   "source": [
    "print(\"The number of unique content items in long data is {}\".format(content_long.content_id.nunique()))\n",
    "dupes = content_long[content_long.duplicated(['content_id', 'taxon_id'])]\n",
    "print(\"The shape of the duplicates in content_long is {}\".format(dupes.shape))\n",
    "print(\"The number of unique content ids in the duplicated items in content_long is {}\".format(dupes.content_id.nunique()))\n",
    "print(\"On average there are {} rows per content item in the duplicates\".format(dupes.shape[0]/dupes.content_id.nunique()))"
   ]
  },
  {
   "cell_type": "code",
   "execution_count": 24,
   "metadata": {},
   "outputs": [
    {
     "data": {
      "text/html": [
       "<div>\n",
       "<style scoped>\n",
       "    .dataframe tbody tr th:only-of-type {\n",
       "        vertical-align: middle;\n",
       "    }\n",
       "\n",
       "    .dataframe tbody tr th {\n",
       "        vertical-align: top;\n",
       "    }\n",
       "\n",
       "    .dataframe thead th {\n",
       "        text-align: right;\n",
       "    }\n",
       "</style>\n",
       "<table border=\"1\" class=\"dataframe\">\n",
       "  <thead>\n",
       "    <tr style=\"text-align: right;\">\n",
       "      <th></th>\n",
       "      <th>base_path</th>\n",
       "      <th>content_id</th>\n",
       "      <th>description</th>\n",
       "      <th>details</th>\n",
       "      <th>document_type</th>\n",
       "      <th>first_published_at</th>\n",
       "      <th>locale</th>\n",
       "      <th>primary_publishing_organisation</th>\n",
       "      <th>publishing_app</th>\n",
       "      <th>title</th>\n",
       "      <th>body</th>\n",
       "      <th>combined_text</th>\n",
       "      <th>variable</th>\n",
       "      <th>taxon_id</th>\n",
       "    </tr>\n",
       "  </thead>\n",
       "  <tbody>\n",
       "    <tr>\n",
       "      <th>4</th>\n",
       "      <td>/bank-holidays</td>\n",
       "      <td>58f79dbd-e57f-4ab2-ae96-96df5767d1b2</td>\n",
       "      <td></td>\n",
       "      <td>{}</td>\n",
       "      <td>calendar</td>\n",
       "      <td>2016-02-29T09:24:10.000+00:00</td>\n",
       "      <td>en</td>\n",
       "      <td>NaN</td>\n",
       "      <td>calendars</td>\n",
       "      <td>uk bank holidays</td>\n",
       "      <td></td>\n",
       "      <td>uk bank holidays</td>\n",
       "      <td>0</td>\n",
       "      <td>ffeb8bc6-2cd3-4a73-ab76-072b9a1f95fb</td>\n",
       "    </tr>\n",
       "    <tr>\n",
       "      <th>5</th>\n",
       "      <td>/check-uk-visa</td>\n",
       "      <td>dc1a1744-4089-43b3-b2e3-4e397b6b15b1</td>\n",
       "      <td>you may need a visa to come to the uk to visit...</td>\n",
       "      <td>{'external_related_links': [], 'transaction_st...</td>\n",
       "      <td>transaction</td>\n",
       "      <td>2016-02-29T09:24:10.000+00:00</td>\n",
       "      <td>en</td>\n",
       "      <td>NaN</td>\n",
       "      <td>smartanswers</td>\n",
       "      <td>check if you need a uk visa</td>\n",
       "      <td></td>\n",
       "      <td>check if you need a uk visa you may need a vis...</td>\n",
       "      <td>0</td>\n",
       "      <td>d0e61780-6962-40aa-bb57-298f35187e4f</td>\n",
       "    </tr>\n",
       "    <tr>\n",
       "      <th>6</th>\n",
       "      <td>/state-pension-age</td>\n",
       "      <td>5491c439-1c83-4044-80d3-32cc3613b739</td>\n",
       "      <td>work out your state pension age and pension cr...</td>\n",
       "      <td>{'external_related_links': [], 'transaction_st...</td>\n",
       "      <td>transaction</td>\n",
       "      <td>2016-02-29T09:24:10.000+00:00</td>\n",
       "      <td>en</td>\n",
       "      <td>NaN</td>\n",
       "      <td>smartanswers</td>\n",
       "      <td>check your state pension age</td>\n",
       "      <td></td>\n",
       "      <td>check your state pension age work out your sta...</td>\n",
       "      <td>0</td>\n",
       "      <td>a81a7a45-1f94-4122-9547-8b485e0849cf</td>\n",
       "    </tr>\n",
       "    <tr>\n",
       "      <th>10</th>\n",
       "      <td>/calculate-your-holiday-entitlement</td>\n",
       "      <td>deedf6f8-389b-4b34-a5b1-faa9ef909a70</td>\n",
       "      <td>holiday calculator to work out statutory holid...</td>\n",
       "      <td>{'external_related_links': [], 'transaction_st...</td>\n",
       "      <td>transaction</td>\n",
       "      <td>2016-02-29T09:24:10.000+00:00</td>\n",
       "      <td>en</td>\n",
       "      <td>NaN</td>\n",
       "      <td>smartanswers</td>\n",
       "      <td>calculate holiday entitlement</td>\n",
       "      <td></td>\n",
       "      <td>calculate holiday entitlement holiday calculat...</td>\n",
       "      <td>0</td>\n",
       "      <td>ffeb8bc6-2cd3-4a73-ab76-072b9a1f95fb</td>\n",
       "    </tr>\n",
       "    <tr>\n",
       "      <th>12</th>\n",
       "      <td>/calculate-your-child-maintenance</td>\n",
       "      <td>42c2e944-7977-4297-b142-aa9406756dd2</td>\n",
       "      <td>work out the amount of child maintenance if yo...</td>\n",
       "      <td>{'external_related_links': [{'url': 'http://ww...</td>\n",
       "      <td>transaction</td>\n",
       "      <td>2016-02-29T09:24:10.000+00:00</td>\n",
       "      <td>en</td>\n",
       "      <td>NaN</td>\n",
       "      <td>smartanswers</td>\n",
       "      <td>child maintenance calculator</td>\n",
       "      <td></td>\n",
       "      <td>child maintenance calculator work out the amou...</td>\n",
       "      <td>0</td>\n",
       "      <td>902af4ff-4a3b-4860-932a-f7d9a47c337e</td>\n",
       "    </tr>\n",
       "  </tbody>\n",
       "</table>\n",
       "</div>"
      ],
      "text/plain": [
       "                              base_path                            content_id  \\\n",
       "4                        /bank-holidays  58f79dbd-e57f-4ab2-ae96-96df5767d1b2   \n",
       "5                        /check-uk-visa  dc1a1744-4089-43b3-b2e3-4e397b6b15b1   \n",
       "6                    /state-pension-age  5491c439-1c83-4044-80d3-32cc3613b739   \n",
       "10  /calculate-your-holiday-entitlement  deedf6f8-389b-4b34-a5b1-faa9ef909a70   \n",
       "12    /calculate-your-child-maintenance  42c2e944-7977-4297-b142-aa9406756dd2   \n",
       "\n",
       "                                          description  \\\n",
       "4                                                       \n",
       "5   you may need a visa to come to the uk to visit...   \n",
       "6   work out your state pension age and pension cr...   \n",
       "10  holiday calculator to work out statutory holid...   \n",
       "12  work out the amount of child maintenance if yo...   \n",
       "\n",
       "                                              details document_type  \\\n",
       "4                                                  {}      calendar   \n",
       "5   {'external_related_links': [], 'transaction_st...   transaction   \n",
       "6   {'external_related_links': [], 'transaction_st...   transaction   \n",
       "10  {'external_related_links': [], 'transaction_st...   transaction   \n",
       "12  {'external_related_links': [{'url': 'http://ww...   transaction   \n",
       "\n",
       "               first_published_at locale primary_publishing_organisation  \\\n",
       "4   2016-02-29T09:24:10.000+00:00     en                             NaN   \n",
       "5   2016-02-29T09:24:10.000+00:00     en                             NaN   \n",
       "6   2016-02-29T09:24:10.000+00:00     en                             NaN   \n",
       "10  2016-02-29T09:24:10.000+00:00     en                             NaN   \n",
       "12  2016-02-29T09:24:10.000+00:00     en                             NaN   \n",
       "\n",
       "   publishing_app                          title body  \\\n",
       "4       calendars               uk bank holidays        \n",
       "5    smartanswers    check if you need a uk visa        \n",
       "6    smartanswers   check your state pension age        \n",
       "10   smartanswers  calculate holiday entitlement        \n",
       "12   smartanswers   child maintenance calculator        \n",
       "\n",
       "                                        combined_text variable  \\\n",
       "4                                uk bank holidays            0   \n",
       "5   check if you need a uk visa you may need a vis...        0   \n",
       "6   check your state pension age work out your sta...        0   \n",
       "10  calculate holiday entitlement holiday calculat...        0   \n",
       "12  child maintenance calculator work out the amou...        0   \n",
       "\n",
       "                                taxon_id  \n",
       "4   ffeb8bc6-2cd3-4a73-ab76-072b9a1f95fb  \n",
       "5   d0e61780-6962-40aa-bb57-298f35187e4f  \n",
       "6   a81a7a45-1f94-4122-9547-8b485e0849cf  \n",
       "10  ffeb8bc6-2cd3-4a73-ab76-072b9a1f95fb  \n",
       "12  902af4ff-4a3b-4860-932a-f7d9a47c337e  "
      ]
     },
     "execution_count": 24,
     "metadata": {},
     "output_type": "execute_result"
    }
   ],
   "source": [
    "content_long.head()"
   ]
  },
  {
   "cell_type": "code",
   "execution_count": 25,
   "metadata": {},
   "outputs": [],
   "source": [
    "taxons = pd.read_csv('../../data/clean_taxons.csv')\n"
   ]
  },
  {
   "cell_type": "code",
   "execution_count": 26,
   "metadata": {},
   "outputs": [],
   "source": [
    "taxons = taxons[['base_path','content_id','taxon_name','level1taxon','level2taxon','level3taxon','level4taxon']]"
   ]
  },
  {
   "cell_type": "code",
   "execution_count": 27,
   "metadata": {},
   "outputs": [],
   "source": [
    "content_taxons = pd.merge(\n",
    "    left=content_long, \n",
    "    right=taxons, \n",
    "    left_on='taxon_id', \n",
    "    right_on='content_id', \n",
    "    how='outer', \n",
    "    indicator=True\n",
    ")"
   ]
  },
  {
   "cell_type": "code",
   "execution_count": 28,
   "metadata": {},
   "outputs": [
    {
     "data": {
      "text/html": [
       "<div>\n",
       "<style scoped>\n",
       "    .dataframe tbody tr th:only-of-type {\n",
       "        vertical-align: middle;\n",
       "    }\n",
       "\n",
       "    .dataframe tbody tr th {\n",
       "        vertical-align: top;\n",
       "    }\n",
       "\n",
       "    .dataframe thead th {\n",
       "        text-align: right;\n",
       "    }\n",
       "</style>\n",
       "<table border=\"1\" class=\"dataframe\">\n",
       "  <thead>\n",
       "    <tr style=\"text-align: right;\">\n",
       "      <th></th>\n",
       "      <th>base_path_x</th>\n",
       "      <th>content_id_x</th>\n",
       "      <th>description</th>\n",
       "      <th>details</th>\n",
       "      <th>document_type</th>\n",
       "      <th>first_published_at</th>\n",
       "      <th>locale</th>\n",
       "      <th>primary_publishing_organisation</th>\n",
       "      <th>publishing_app</th>\n",
       "      <th>title</th>\n",
       "      <th>...</th>\n",
       "      <th>variable</th>\n",
       "      <th>taxon_id</th>\n",
       "      <th>base_path_y</th>\n",
       "      <th>content_id_y</th>\n",
       "      <th>taxon_name</th>\n",
       "      <th>level1taxon</th>\n",
       "      <th>level2taxon</th>\n",
       "      <th>level3taxon</th>\n",
       "      <th>level4taxon</th>\n",
       "      <th>_merge</th>\n",
       "    </tr>\n",
       "  </thead>\n",
       "  <tbody>\n",
       "    <tr>\n",
       "      <th>0</th>\n",
       "      <td>/bank-holidays</td>\n",
       "      <td>58f79dbd-e57f-4ab2-ae96-96df5767d1b2</td>\n",
       "      <td></td>\n",
       "      <td>{}</td>\n",
       "      <td>calendar</td>\n",
       "      <td>2016-02-29T09:24:10.000+00:00</td>\n",
       "      <td>en</td>\n",
       "      <td>NaN</td>\n",
       "      <td>calendars</td>\n",
       "      <td>uk bank holidays</td>\n",
       "      <td>...</td>\n",
       "      <td>0</td>\n",
       "      <td>ffeb8bc6-2cd3-4a73-ab76-072b9a1f95fb</td>\n",
       "      <td>/business/time-off</td>\n",
       "      <td>ffeb8bc6-2cd3-4a73-ab76-072b9a1f95fb</td>\n",
       "      <td>Statutory leave and time off</td>\n",
       "      <td>Business</td>\n",
       "      <td>Employing people</td>\n",
       "      <td>NaN</td>\n",
       "      <td>NaN</td>\n",
       "      <td>both</td>\n",
       "    </tr>\n",
       "    <tr>\n",
       "      <th>1</th>\n",
       "      <td>/calculate-your-holiday-entitlement</td>\n",
       "      <td>deedf6f8-389b-4b34-a5b1-faa9ef909a70</td>\n",
       "      <td>holiday calculator to work out statutory holid...</td>\n",
       "      <td>{'external_related_links': [], 'transaction_st...</td>\n",
       "      <td>transaction</td>\n",
       "      <td>2016-02-29T09:24:10.000+00:00</td>\n",
       "      <td>en</td>\n",
       "      <td>NaN</td>\n",
       "      <td>smartanswers</td>\n",
       "      <td>calculate holiday entitlement</td>\n",
       "      <td>...</td>\n",
       "      <td>0</td>\n",
       "      <td>ffeb8bc6-2cd3-4a73-ab76-072b9a1f95fb</td>\n",
       "      <td>/business/time-off</td>\n",
       "      <td>ffeb8bc6-2cd3-4a73-ab76-072b9a1f95fb</td>\n",
       "      <td>Statutory leave and time off</td>\n",
       "      <td>Business</td>\n",
       "      <td>Employing people</td>\n",
       "      <td>NaN</td>\n",
       "      <td>NaN</td>\n",
       "      <td>both</td>\n",
       "    </tr>\n",
       "    <tr>\n",
       "      <th>2</th>\n",
       "      <td>/maternity-paternity-calculator</td>\n",
       "      <td>05d5412d-455b-485e-a570-020c9176a46e</td>\n",
       "      <td>calculate an employee’s maternity pay (smp) pa...</td>\n",
       "      <td>{'external_related_links': [], 'transaction_st...</td>\n",
       "      <td>transaction</td>\n",
       "      <td>2016-02-29T09:24:10.000+00:00</td>\n",
       "      <td>en</td>\n",
       "      <td>NaN</td>\n",
       "      <td>smartanswers</td>\n",
       "      <td>maternity adoption and paternity calculator fo...</td>\n",
       "      <td>...</td>\n",
       "      <td>0</td>\n",
       "      <td>ffeb8bc6-2cd3-4a73-ab76-072b9a1f95fb</td>\n",
       "      <td>/business/time-off</td>\n",
       "      <td>ffeb8bc6-2cd3-4a73-ab76-072b9a1f95fb</td>\n",
       "      <td>Statutory leave and time off</td>\n",
       "      <td>Business</td>\n",
       "      <td>Employing people</td>\n",
       "      <td>NaN</td>\n",
       "      <td>NaN</td>\n",
       "      <td>both</td>\n",
       "    </tr>\n",
       "    <tr>\n",
       "      <th>3</th>\n",
       "      <td>/calculate-statutory-sick-pay</td>\n",
       "      <td>1c676a9e-0424-4ebb-bab8-d8cb8d2fc6f8</td>\n",
       "      <td>statutory sick pay (ssp) calculator - calculat...</td>\n",
       "      <td>{'external_related_links': [], 'transaction_st...</td>\n",
       "      <td>transaction</td>\n",
       "      <td>2016-02-29T09:24:10.000+00:00</td>\n",
       "      <td>en</td>\n",
       "      <td>NaN</td>\n",
       "      <td>smartanswers</td>\n",
       "      <td>calculate your employee's statutory sick pay</td>\n",
       "      <td>...</td>\n",
       "      <td>0</td>\n",
       "      <td>ffeb8bc6-2cd3-4a73-ab76-072b9a1f95fb</td>\n",
       "      <td>/business/time-off</td>\n",
       "      <td>ffeb8bc6-2cd3-4a73-ab76-072b9a1f95fb</td>\n",
       "      <td>Statutory leave and time off</td>\n",
       "      <td>Business</td>\n",
       "      <td>Employing people</td>\n",
       "      <td>NaN</td>\n",
       "      <td>NaN</td>\n",
       "      <td>both</td>\n",
       "    </tr>\n",
       "    <tr>\n",
       "      <th>4</th>\n",
       "      <td>/training-study-work-your-rights</td>\n",
       "      <td>f50efa51-dc62-4111-aa59-731af77806aa</td>\n",
       "      <td>your rights to request time off for training o...</td>\n",
       "      <td>{'external_related_links': [], 'parts': [{'bod...</td>\n",
       "      <td>guide</td>\n",
       "      <td>2016-02-29T09:24:10.000+00:00</td>\n",
       "      <td>en</td>\n",
       "      <td>NaN</td>\n",
       "      <td>publisher</td>\n",
       "      <td>training and study at work: your rights</td>\n",
       "      <td>...</td>\n",
       "      <td>0</td>\n",
       "      <td>ffeb8bc6-2cd3-4a73-ab76-072b9a1f95fb</td>\n",
       "      <td>/business/time-off</td>\n",
       "      <td>ffeb8bc6-2cd3-4a73-ab76-072b9a1f95fb</td>\n",
       "      <td>Statutory leave and time off</td>\n",
       "      <td>Business</td>\n",
       "      <td>Employing people</td>\n",
       "      <td>NaN</td>\n",
       "      <td>NaN</td>\n",
       "      <td>both</td>\n",
       "    </tr>\n",
       "  </tbody>\n",
       "</table>\n",
       "<p>5 rows × 22 columns</p>\n",
       "</div>"
      ],
      "text/plain": [
       "                           base_path_x                          content_id_x  \\\n",
       "0                       /bank-holidays  58f79dbd-e57f-4ab2-ae96-96df5767d1b2   \n",
       "1  /calculate-your-holiday-entitlement  deedf6f8-389b-4b34-a5b1-faa9ef909a70   \n",
       "2      /maternity-paternity-calculator  05d5412d-455b-485e-a570-020c9176a46e   \n",
       "3        /calculate-statutory-sick-pay  1c676a9e-0424-4ebb-bab8-d8cb8d2fc6f8   \n",
       "4     /training-study-work-your-rights  f50efa51-dc62-4111-aa59-731af77806aa   \n",
       "\n",
       "                                         description  \\\n",
       "0                                                      \n",
       "1  holiday calculator to work out statutory holid...   \n",
       "2  calculate an employee’s maternity pay (smp) pa...   \n",
       "3  statutory sick pay (ssp) calculator - calculat...   \n",
       "4  your rights to request time off for training o...   \n",
       "\n",
       "                                             details document_type  \\\n",
       "0                                                 {}      calendar   \n",
       "1  {'external_related_links': [], 'transaction_st...   transaction   \n",
       "2  {'external_related_links': [], 'transaction_st...   transaction   \n",
       "3  {'external_related_links': [], 'transaction_st...   transaction   \n",
       "4  {'external_related_links': [], 'parts': [{'bod...         guide   \n",
       "\n",
       "              first_published_at locale primary_publishing_organisation  \\\n",
       "0  2016-02-29T09:24:10.000+00:00     en                             NaN   \n",
       "1  2016-02-29T09:24:10.000+00:00     en                             NaN   \n",
       "2  2016-02-29T09:24:10.000+00:00     en                             NaN   \n",
       "3  2016-02-29T09:24:10.000+00:00     en                             NaN   \n",
       "4  2016-02-29T09:24:10.000+00:00     en                             NaN   \n",
       "\n",
       "  publishing_app                                              title  ...    \\\n",
       "0      calendars                                   uk bank holidays  ...     \n",
       "1   smartanswers                      calculate holiday entitlement  ...     \n",
       "2   smartanswers  maternity adoption and paternity calculator fo...  ...     \n",
       "3   smartanswers       calculate your employee's statutory sick pay  ...     \n",
       "4      publisher            training and study at work: your rights  ...     \n",
       "\n",
       "  variable                              taxon_id         base_path_y  \\\n",
       "0        0  ffeb8bc6-2cd3-4a73-ab76-072b9a1f95fb  /business/time-off   \n",
       "1        0  ffeb8bc6-2cd3-4a73-ab76-072b9a1f95fb  /business/time-off   \n",
       "2        0  ffeb8bc6-2cd3-4a73-ab76-072b9a1f95fb  /business/time-off   \n",
       "3        0  ffeb8bc6-2cd3-4a73-ab76-072b9a1f95fb  /business/time-off   \n",
       "4        0  ffeb8bc6-2cd3-4a73-ab76-072b9a1f95fb  /business/time-off   \n",
       "\n",
       "                           content_id_y                    taxon_name  \\\n",
       "0  ffeb8bc6-2cd3-4a73-ab76-072b9a1f95fb  Statutory leave and time off   \n",
       "1  ffeb8bc6-2cd3-4a73-ab76-072b9a1f95fb  Statutory leave and time off   \n",
       "2  ffeb8bc6-2cd3-4a73-ab76-072b9a1f95fb  Statutory leave and time off   \n",
       "3  ffeb8bc6-2cd3-4a73-ab76-072b9a1f95fb  Statutory leave and time off   \n",
       "4  ffeb8bc6-2cd3-4a73-ab76-072b9a1f95fb  Statutory leave and time off   \n",
       "\n",
       "  level1taxon       level2taxon level3taxon level4taxon _merge  \n",
       "0    Business  Employing people         NaN         NaN   both  \n",
       "1    Business  Employing people         NaN         NaN   both  \n",
       "2    Business  Employing people         NaN         NaN   both  \n",
       "3    Business  Employing people         NaN         NaN   both  \n",
       "4    Business  Employing people         NaN         NaN   both  \n",
       "\n",
       "[5 rows x 22 columns]"
      ]
     },
     "execution_count": 28,
     "metadata": {},
     "output_type": "execute_result"
    }
   ],
   "source": [
    "content_taxons.head()"
   ]
  },
  {
   "cell_type": "code",
   "execution_count": 29,
   "metadata": {},
   "outputs": [
    {
     "data": {
      "text/plain": [
       "(340457, 22)"
      ]
     },
     "execution_count": 29,
     "metadata": {},
     "output_type": "execute_result"
    }
   ],
   "source": [
    "content_taxons.shape"
   ]
  },
  {
   "cell_type": "code",
   "execution_count": 30,
   "metadata": {},
   "outputs": [
    {
     "data": {
      "text/plain": [
       "(336950, 14)"
      ]
     },
     "execution_count": 30,
     "metadata": {},
     "output_type": "execute_result"
    }
   ],
   "source": [
    "content_long.shape"
   ]
  },
  {
   "cell_type": "code",
   "execution_count": 31,
   "metadata": {},
   "outputs": [
    {
     "data": {
      "text/plain": [
       "both          335931\n",
       "left_only       2915\n",
       "right_only      1611\n",
       "Name: _merge, dtype: int64"
      ]
     },
     "execution_count": 31,
     "metadata": {},
     "output_type": "execute_result"
    }
   ],
   "source": [
    "content_taxons['_merge'].value_counts()"
   ]
  },
  {
   "cell_type": "code",
   "execution_count": 32,
   "metadata": {},
   "outputs": [
    {
     "data": {
      "text/plain": [
       "array(['base_path_x', 'content_id_x', 'description', 'details',\n",
       "       'document_type', 'first_published_at', 'locale',\n",
       "       'primary_publishing_organisation', 'publishing_app', 'title',\n",
       "       'body', 'combined_text', 'variable', 'taxon_id', 'base_path_y',\n",
       "       'content_id_y', 'taxon_name', 'level1taxon', 'level2taxon',\n",
       "       'level3taxon', 'level4taxon', '_merge'], dtype=object)"
      ]
     },
     "execution_count": 32,
     "metadata": {},
     "output_type": "execute_result"
    }
   ],
   "source": [
    "list(content_taxons.columns.values)"
   ]
  },
  {
   "cell_type": "code",
   "execution_count": null,
   "metadata": {},
   "outputs": [],
   "source": []
  }
 ],
 "metadata": {
  "kernelspec": {
   "display_name": "tax_SL",
   "language": "python",
   "name": "tax_sl"
  },
  "language_info": {
   "codemirror_mode": {
    "name": "ipython",
    "version": 3
   },
   "file_extension": ".py",
   "mimetype": "text/x-python",
   "name": "python",
   "nbconvert_exporter": "python",
   "pygments_lexer": "ipython3",
   "version": "3.4.6"
  }
 },
 "nbformat": 4,
 "nbformat_minor": 2
}
